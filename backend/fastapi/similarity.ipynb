{
 "cells": [
  {
   "cell_type": "code",
   "execution_count": 1,
   "metadata": {},
   "outputs": [],
   "source": [
    "from sklearn.metrics.pairwise import cosine_similarity\n",
    "import numpy as np\n",
    "\n"
   ]
  },
  {
   "cell_type": "code",
   "execution_count": 57,
   "metadata": {},
   "outputs": [],
   "source": [
    "def sklearn_cosine(x: np.array, y: np.array) -> int:\n",
    "    \"\"\"is a function that takes in two arguments, x and y, \n",
    "    and returns the cosine similarity between them as calculated by \n",
    "    the cosine_similarity function from the scikit-learn library.\n",
    "\n",
    "    :param x: first vector\n",
    "    :type x: np.array \n",
    "    :param y: second vector\n",
    "    :type y: np.array\n",
    "    :return: scalar similarity value \n",
    "    :rtype: int\n",
    "    \"\"\"\n",
    "    return cosine_similarity([x], [y])\n",
    "\n",
    "\n",
    "def get_similar(gold_song_vectorized_lyric: np.array, vectorized_lyrics_to_compare: list, top_n_simlar: int=3):\n",
    "    \"\"\"is a function that takes in a \"gold song vectorized lyric\", a list of \"vectorized lyrics to compare\", \n",
    "    and an optional argument top_n_similar (defaults to 3), and returns the top top_n_similar cosine similarities \n",
    "    between the \"gold song vectorized lyric\" and the \"vectorized lyrics to compare\". \n",
    "    The function calculates cosine similarities between the \"gold song vectorized lyric\" \n",
    "    and each \"vectorized lyric to compare\" using the sklearn_cosine function, sorts the cosine \n",
    "    similarities in decreasing order, and returns the top top_n_similar similarities.\n",
    "\n",
    "    :param vectorized_lyric: lyric to find similar songs for \n",
    "    :type vectorized_lyric: np.array\n",
    "    :param vectorized_lyrics_to_compare: lyrics of songs to compare to vectorized_lyric\n",
    "    :type vectorized_lyrics_to_compare: list\n",
    "    :param top_n_simlar: number of most similar songs to return\n",
    "    :type top_n_simlar: int\n",
    "    :return: _description_\n",
    "    :rtype: _type_\n",
    "    \"\"\"\n",
    "    cosine_similarity_scores = []\n",
    "\n",
    "    # calculate similarity score for each passed vectorized lyrics with gold_song_vectorized_lyric\n",
    "    for vectorized_lyric in vectorized_lyrics_to_compare:\n",
    "        # append similarity score to list of all scores\n",
    "        cosine_similarity_scores.append(sklearn_cosine(gold_song_vectorized_lyric, vectorized_lyric)[0][0])\n",
    "    cosine_similarity_scores = np.array(cosine_similarity_scores)\n",
    "\n",
    "    # get indexes of top n values\n",
    "    indexes_top_n = np.argsort(cosine_similarity_scores)[::-1][:top_n_simlar]\n",
    "\n",
    "    # TODO: get top n song names instead of values\n",
    "    top_n_values = cosine_similarity_scores[indexes_top_n]\n",
    "    \n",
    "    return top_n_values\n"
   ]
  },
  {
   "cell_type": "code",
   "execution_count": 59,
   "metadata": {},
   "outputs": [
    {
     "data": {
      "text/plain": [
       "array([0.74225128, 0.73378324])"
      ]
     },
     "execution_count": 59,
     "metadata": {},
     "output_type": "execute_result"
    }
   ],
   "source": [
    "x = np.random.rand(100)\n",
    "y = np.random.rand(100)\n",
    "z = np.random.rand(100)\n",
    "a = np.random.rand(100)\n",
    "b = np.random.rand(100)\n",
    "\n",
    "get_similar(x, [y, z, a, b])"
   ]
  }
 ],
 "metadata": {
  "kernelspec": {
   "display_name": "text_analytics",
   "language": "python",
   "name": "python3"
  },
  "language_info": {
   "codemirror_mode": {
    "name": "ipython",
    "version": 3
   },
   "file_extension": ".py",
   "mimetype": "text/x-python",
   "name": "python",
   "nbconvert_exporter": "python",
   "pygments_lexer": "ipython3",
   "version": "3.10.8"
  },
  "orig_nbformat": 4,
  "vscode": {
   "interpreter": {
    "hash": "c031b2f58022ed1b654048e43eb129e98bc595d794ecca45c2f68c5a0dea8372"
   }
  }
 },
 "nbformat": 4,
 "nbformat_minor": 2
}
