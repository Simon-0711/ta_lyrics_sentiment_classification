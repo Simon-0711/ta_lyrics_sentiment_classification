{
 "cells": [
  {
   "cell_type": "code",
   "execution_count": 1,
   "metadata": {},
   "outputs": [],
   "source": [
    "from sklearn.metrics.pairwise import cosine_similarity\n",
    "import numpy as np\n",
    "\n"
   ]
  },
  {
   "cell_type": "code",
   "execution_count": 129,
   "metadata": {},
   "outputs": [],
   "source": [
    "def sklearn_cosine(x: np.array, y: np.array) -> int:\n",
    "    \"\"\"is a function that takes in two arguments, x and y, \n",
    "    and returns the cosine similarity between them as calculated by \n",
    "    the cosine_similarity function from the scikit-learn library.\n",
    "\n",
    "    :param x: first vector\n",
    "    :type x: np.array\n",
    "    :param y: second vector\n",
    "    :type y: np.array\n",
    "    :return: scalar similarity value \n",
    "    :rtype: int\n",
    "    \"\"\"\n",
    "    return cosine_similarity([x], [y])\n",
    "\n",
    "def get_top_n_similar(song_to_compare: dict, songs_to_compare_to: dict, top_n_simlar: int=3) -> list:\n",
    "    \"\"\"This function takes in three parameters: song_to_compare, songs_to_compare_to, and top_n_similar, \n",
    "    and returns a list of top n most similar songs based on the cosine similarity score between their vectorized lyrics.\n",
    "    The function first calculates the cosine similarity score between the vectorized lyric of song_to_compare and each of \n",
    "    the songs in songs_to_compare_to using the sklearn_cosine function. \n",
    "    It then filters out any scores equal to 1 (which would mean that the same song was found in songs_to_compare_to). \n",
    "    The indexes of the top n scores are then found and the corresponding song information (song name and artist name) \n",
    "    is returned in the form of a list.\n",
    "\n",
    "    :param song_to_compare: lyric to find similar songs for\n",
    "    :type song_to_compare: dict\n",
    "    :param songs_to_compare_to: lyrics of songs to compare to song_to_compare\n",
    "    :type songs_to_compare_to: dict\n",
    "    :param top_n_simlar: number of most similar songs to return\n",
    "    :type top_n_simlar: int\n",
    "    :return: list of top n most similar songs containing song name and artist name\n",
    "    :rtype: list\n",
    "    \"\"\"\n",
    "    cosine_similarity_scores = []\n",
    "\n",
    "    # calculate similarity score for each passed vectorized lyrics with gold_song\n",
    "    for key, value in songs_to_compare_to.items():\n",
    "        # calculate similarity score\n",
    "        similarity_score = sklearn_cosine(song_to_compare[\"Vectorized_lyric\"], value[\"Vectorized_lyric\"])[0][0]\n",
    "        # filter similarity score = 1\n",
    "        # this would mean, that somehow, the same song was found in the songs to compare\n",
    "        if similarity_score == 1:\n",
    "            similarity_score = 0\n",
    "        # Add score to list of all scores\n",
    "        cosine_similarity_scores.append(similarity_score)\n",
    "    cosine_similarity_scores = np.array(cosine_similarity_scores)\n",
    "\n",
    "    # get indexes of top n values\n",
    "    indexes_top_n = np.argsort(cosine_similarity_scores)[::-1][:top_n_simlar]\n",
    "    # get top n dictionary keys\n",
    "    top_n_keys = np.array(list(songs_to_compare_to))[indexes_top_n]\n",
    "    # get top n dict entries\n",
    "    top_n_dict = {key: songs_to_compare_to[key] for key in top_n_keys}\n",
    "    # remove lyrics from dict\n",
    "    top_n_songs_no_lyrics = {key: {\"Song\": value[\"Song\"], \"Artist\": value[\"Artist\"]} for key, value in top_n_dict.items()}\n",
    "    \n",
    "    return top_n_songs_no_lyrics\n",
    "\n",
    "def get_tf_idf_vectorized_lyrics(song_to_compare, mood) -> tuple[dict, dict]:\n",
    "    a = np.random.rand(100)\n",
    "    b = np.random.rand(100)\n",
    "    c = np.random.rand(100)\n",
    "    d = np.random.rand(100)\n",
    "    e = np.random.rand(100)\n",
    "    \n",
    "    song_to_compare = {\n",
    "        \"Song\": \"Chanedlier\",\n",
    "        \"Artist\": \"Sia\",\n",
    "        \"Vectorized_lyric\": a\n",
    "    }\n",
    "\n",
    "    all_songs_to_compare_to = {\n",
    "        \"Like Toy Soldiers_Eminem\":\n",
    "        {\n",
    "            \"Song\": \"Like Toy Soldiers\",\n",
    "            \"Artist\": \"Eminem\",\n",
    "            \"Vectorized_lyric\": b\n",
    "        },\n",
    "        \"Ass Like That_Eminem\": \n",
    "        {\n",
    "            \"Song\": \"Ass Like That\",\n",
    "            \"Artist\": \"Eminem\",\n",
    "            \"Vectorized_lyric\": c\n",
    "        },\n",
    "        \"More Ass Like That_Eminem\":\n",
    "        {\n",
    "            \"Song\": \"More Ass Like That\",\n",
    "            \"Artist\": \"Eminem\",\n",
    "            \"Vectorized_lyric\": d\n",
    "        },\n",
    "        \"Chandelier_Sia\":\n",
    "        {\n",
    "            \"Song\": \"Chanedlier\",\n",
    "            \"Artist\": \"Sia\",\n",
    "            \"Vectorized_lyric\": a\n",
    "        },\n",
    "    }\n",
    "    return song_to_compare, all_songs_to_compare_to\n",
    "\n",
    "\n",
    "\n",
    "def get_similar_songs(song_to_compare: dict, mood: str) -> dict:\n",
    "    \"\"\"This function gets top n similar song names and artist names based on passed \n",
    "    song_to_compare and mood. \n",
    "    First it searches all songs with the same mood and vectorizes their lyrics with TD-IDF.\n",
    "    After that, the top n similar songs are filtered using TD-IDF.\n",
    "\n",
    "    :param song_to_compare: Song to find similar songs for\n",
    "    :type song_to_compare: dict\n",
    "    :param mood: mood of song to find dimilar songs for\n",
    "    :type mood: str\n",
    "    :return: Dictionary containing top n similar songs\n",
    "    :rtype: tuple[dict, dict]\n",
    "    \"\"\"\n",
    "\n",
    "    # Get all songs with same mood and vectorize all song lyrics with TD-IDF\n",
    "    song_to_compare, songs_to_compare_to = get_tf_idf_vectorized_lyrics(song_to_compare=song_to_compare, mood=mood)\n",
    "\n",
    "    # Get top n most similar song names and artist names based on cosine similarity\n",
    "    top_n_songs_no_lyrics = get_top_n_similar(song_to_compare=song_to_compare, songs_to_compare_to=songs_to_compare_to)\n",
    "\n",
    "    # Add mood to dictionary\n",
    "    similar_songs = {\n",
    "        \"similar_songs\": top_n_songs_no_lyrics,\n",
    "        \"mood\": mood\n",
    "    }\n",
    "\n",
    "    return similar_songs\n",
    "    "
   ]
  },
  {
   "cell_type": "code",
   "execution_count": 130,
   "metadata": {},
   "outputs": [],
   "source": [
    "top_n_songs_no_lyrics = get_similar_songs(song_to_compare=\"Test\", mood=\"sad\")"
   ]
  },
  {
   "cell_type": "code",
   "execution_count": 133,
   "metadata": {},
   "outputs": [
    {
     "data": {
      "text/plain": [
       "{'similar_songs': {'More Ass Like That_Eminem': {'Song': 'More Ass Like That',\n",
       "   'Artist': 'Eminem'},\n",
       "  'Like Toy Soldiers_Eminem': {'Song': 'Like Toy Soldiers',\n",
       "   'Artist': 'Eminem'},\n",
       "  'Ass Like That_Eminem': {'Song': 'Ass Like That', 'Artist': 'Eminem'}},\n",
       " 'mood': 'sad'}"
      ]
     },
     "execution_count": 133,
     "metadata": {},
     "output_type": "execute_result"
    }
   ],
   "source": [
    "top_n_songs_no_lyrics"
   ]
  },
  {
   "cell_type": "code",
   "execution_count": null,
   "metadata": {},
   "outputs": [],
   "source": []
  }
 ],
 "metadata": {
  "kernelspec": {
   "display_name": "text_analytics",
   "language": "python",
   "name": "python3"
  },
  "language_info": {
   "codemirror_mode": {
    "name": "ipython",
    "version": 3
   },
   "file_extension": ".py",
   "mimetype": "text/x-python",
   "name": "python",
   "nbconvert_exporter": "python",
   "pygments_lexer": "ipython3",
   "version": "3.10.8"
  },
  "orig_nbformat": 4,
  "vscode": {
   "interpreter": {
    "hash": "c031b2f58022ed1b654048e43eb129e98bc595d794ecca45c2f68c5a0dea8372"
   }
  }
 },
 "nbformat": 4,
 "nbformat_minor": 2
}
