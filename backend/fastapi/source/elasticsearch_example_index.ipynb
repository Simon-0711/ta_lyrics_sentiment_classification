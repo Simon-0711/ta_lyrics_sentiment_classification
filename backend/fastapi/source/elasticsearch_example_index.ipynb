{
 "cells": [
  {
   "cell_type": "code",
   "execution_count": 3,
   "metadata": {},
   "outputs": [],
   "source": [
    "from elasticsearch import Elasticsearch"
   ]
  },
  {
   "cell_type": "code",
   "execution_count": 4,
   "metadata": {},
   "outputs": [
    {
     "name": "stderr",
     "output_type": "stream",
     "text": [
      "/home/phansen/anaconda3/lib/python3.9/site-packages/elasticsearch/connection/base.py:200: ElasticsearchWarning: Elasticsearch built-in security features are not enabled. Without authentication, your cluster could be accessible to anyone. See https://www.elastic.co/guide/en/elasticsearch/reference/7.17/security-minimal-setup.html to enable security.\n",
      "  warnings.warn(message, category=ElasticsearchWarning)\n"
     ]
    },
    {
     "data": {
      "text/plain": [
       "{'name': '6c142f83f762',\n",
       " 'cluster_name': 'docker-cluster',\n",
       " 'cluster_uuid': 'EpHkTVwuS9-4FxpMFLDV7g',\n",
       " 'version': {'number': '7.17.7',\n",
       "  'build_flavor': 'default',\n",
       "  'build_type': 'docker',\n",
       "  'build_hash': '78dcaaa8cee33438b91eca7f5c7f56a70fec9e80',\n",
       "  'build_date': '2022-10-17T15:29:54.167373105Z',\n",
       "  'build_snapshot': False,\n",
       "  'lucene_version': '8.11.1',\n",
       "  'minimum_wire_compatibility_version': '6.8.0',\n",
       "  'minimum_index_compatibility_version': '6.0.0-beta1'},\n",
       " 'tagline': 'You Know, for Search'}"
      ]
     },
     "execution_count": 4,
     "metadata": {},
     "output_type": "execute_result"
    }
   ],
   "source": [
    "# TODO: Add authentication for elasticsearch?\n",
    "\n",
    "es_host = \"http://localhost:9200\"\n",
    "# es_user = \"elastic\"\n",
    "# es_password = \"1234\"\n",
    "\n",
    "es = Elasticsearch(\n",
    "    hosts=es_host # \"http://localhost:9200\"\n",
    "    # http_auth=(es_user, es_password)   # credentials for basic authentication\n",
    ")\n",
    "\n",
    "es.info()   # check if connection was successful"
   ]
  },
  {
   "cell_type": "markdown",
   "metadata": {},
   "source": [
    "### Creating a new index"
   ]
  },
  {
   "cell_type": "code",
   "execution_count": 5,
   "metadata": {},
   "outputs": [
    {
     "ename": "RequestError",
     "evalue": "RequestError(400, 'resource_already_exists_exception', 'index [lyrics_mood_classification/TgCE1tWIRcKGzAmMrskg4Q] already exists')",
     "output_type": "error",
     "traceback": [
      "\u001b[0;31m---------------------------------------------------------------------------\u001b[0m",
      "\u001b[0;31mRequestError\u001b[0m                              Traceback (most recent call last)",
      "\u001b[0;32m/tmp/ipykernel_9795/1736781720.py\u001b[0m in \u001b[0;36m<module>\u001b[0;34m\u001b[0m\n\u001b[1;32m      1\u001b[0m \u001b[0mindex_name\u001b[0m \u001b[0;34m=\u001b[0m \u001b[0;34m\"lyrics_mood_classification\"\u001b[0m\u001b[0;34m\u001b[0m\u001b[0;34m\u001b[0m\u001b[0m\n\u001b[1;32m      2\u001b[0m \u001b[0;34m\u001b[0m\u001b[0m\n\u001b[0;32m----> 3\u001b[0;31m es.indices.create(index=index_name,\n\u001b[0m\u001b[1;32m      4\u001b[0m                   mappings={\n\u001b[1;32m      5\u001b[0m                       \u001b[0;34m\"dynamic\"\u001b[0m\u001b[0;34m:\u001b[0m \u001b[0;34m\"strict\"\u001b[0m\u001b[0;34m,\u001b[0m\u001b[0;34m\u001b[0m\u001b[0;34m\u001b[0m\u001b[0m\n",
      "\u001b[0;32m~/anaconda3/lib/python3.9/site-packages/elasticsearch/client/utils.py\u001b[0m in \u001b[0;36m_wrapped\u001b[0;34m(*args, **kwargs)\u001b[0m\n\u001b[1;32m    345\u001b[0m                 \u001b[0;32mif\u001b[0m \u001b[0mp\u001b[0m \u001b[0;32min\u001b[0m \u001b[0mkwargs\u001b[0m\u001b[0;34m:\u001b[0m\u001b[0;34m\u001b[0m\u001b[0;34m\u001b[0m\u001b[0m\n\u001b[1;32m    346\u001b[0m                     \u001b[0mparams\u001b[0m\u001b[0;34m[\u001b[0m\u001b[0mp\u001b[0m\u001b[0;34m]\u001b[0m \u001b[0;34m=\u001b[0m \u001b[0mkwargs\u001b[0m\u001b[0;34m.\u001b[0m\u001b[0mpop\u001b[0m\u001b[0;34m(\u001b[0m\u001b[0mp\u001b[0m\u001b[0;34m)\u001b[0m\u001b[0;34m\u001b[0m\u001b[0;34m\u001b[0m\u001b[0m\n\u001b[0;32m--> 347\u001b[0;31m             \u001b[0;32mreturn\u001b[0m \u001b[0mfunc\u001b[0m\u001b[0;34m(\u001b[0m\u001b[0;34m*\u001b[0m\u001b[0margs\u001b[0m\u001b[0;34m,\u001b[0m \u001b[0mparams\u001b[0m\u001b[0;34m=\u001b[0m\u001b[0mparams\u001b[0m\u001b[0;34m,\u001b[0m \u001b[0mheaders\u001b[0m\u001b[0;34m=\u001b[0m\u001b[0mheaders\u001b[0m\u001b[0;34m,\u001b[0m \u001b[0;34m**\u001b[0m\u001b[0mkwargs\u001b[0m\u001b[0;34m)\u001b[0m\u001b[0;34m\u001b[0m\u001b[0;34m\u001b[0m\u001b[0m\n\u001b[0m\u001b[1;32m    348\u001b[0m \u001b[0;34m\u001b[0m\u001b[0m\n\u001b[1;32m    349\u001b[0m         \u001b[0;32mreturn\u001b[0m \u001b[0m_wrapped\u001b[0m\u001b[0;34m\u001b[0m\u001b[0;34m\u001b[0m\u001b[0m\n",
      "\u001b[0;32m~/anaconda3/lib/python3.9/site-packages/elasticsearch/client/indices.py\u001b[0m in \u001b[0;36mcreate\u001b[0;34m(self, index, body, params, headers)\u001b[0m\n\u001b[1;32m    143\u001b[0m             \u001b[0;32mraise\u001b[0m \u001b[0mValueError\u001b[0m\u001b[0;34m(\u001b[0m\u001b[0;34m\"Empty value passed for a required argument 'index'.\"\u001b[0m\u001b[0;34m)\u001b[0m\u001b[0;34m\u001b[0m\u001b[0;34m\u001b[0m\u001b[0m\n\u001b[1;32m    144\u001b[0m \u001b[0;34m\u001b[0m\u001b[0m\n\u001b[0;32m--> 145\u001b[0;31m         return self.transport.perform_request(\n\u001b[0m\u001b[1;32m    146\u001b[0m             \u001b[0;34m\"PUT\"\u001b[0m\u001b[0;34m,\u001b[0m \u001b[0m_make_path\u001b[0m\u001b[0;34m(\u001b[0m\u001b[0mindex\u001b[0m\u001b[0;34m)\u001b[0m\u001b[0;34m,\u001b[0m \u001b[0mparams\u001b[0m\u001b[0;34m=\u001b[0m\u001b[0mparams\u001b[0m\u001b[0;34m,\u001b[0m \u001b[0mheaders\u001b[0m\u001b[0;34m=\u001b[0m\u001b[0mheaders\u001b[0m\u001b[0;34m,\u001b[0m \u001b[0mbody\u001b[0m\u001b[0;34m=\u001b[0m\u001b[0mbody\u001b[0m\u001b[0;34m\u001b[0m\u001b[0;34m\u001b[0m\u001b[0m\n\u001b[1;32m    147\u001b[0m         )\n",
      "\u001b[0;32m~/anaconda3/lib/python3.9/site-packages/elasticsearch/transport.py\u001b[0m in \u001b[0;36mperform_request\u001b[0;34m(self, method, url, headers, params, body)\u001b[0m\n\u001b[1;32m    464\u001b[0m                         \u001b[0;32mraise\u001b[0m \u001b[0me\u001b[0m\u001b[0;34m\u001b[0m\u001b[0;34m\u001b[0m\u001b[0m\n\u001b[1;32m    465\u001b[0m                 \u001b[0;32melse\u001b[0m\u001b[0;34m:\u001b[0m\u001b[0;34m\u001b[0m\u001b[0;34m\u001b[0m\u001b[0m\n\u001b[0;32m--> 466\u001b[0;31m                     \u001b[0;32mraise\u001b[0m \u001b[0me\u001b[0m\u001b[0;34m\u001b[0m\u001b[0;34m\u001b[0m\u001b[0m\n\u001b[0m\u001b[1;32m    467\u001b[0m \u001b[0;34m\u001b[0m\u001b[0m\n\u001b[1;32m    468\u001b[0m             \u001b[0;32melse\u001b[0m\u001b[0;34m:\u001b[0m\u001b[0;34m\u001b[0m\u001b[0;34m\u001b[0m\u001b[0m\n",
      "\u001b[0;32m~/anaconda3/lib/python3.9/site-packages/elasticsearch/transport.py\u001b[0m in \u001b[0;36mperform_request\u001b[0;34m(self, method, url, headers, params, body)\u001b[0m\n\u001b[1;32m    425\u001b[0m \u001b[0;34m\u001b[0m\u001b[0m\n\u001b[1;32m    426\u001b[0m             \u001b[0;32mtry\u001b[0m\u001b[0;34m:\u001b[0m\u001b[0;34m\u001b[0m\u001b[0;34m\u001b[0m\u001b[0m\n\u001b[0;32m--> 427\u001b[0;31m                 status, headers_response, data = connection.perform_request(\n\u001b[0m\u001b[1;32m    428\u001b[0m                     \u001b[0mmethod\u001b[0m\u001b[0;34m,\u001b[0m\u001b[0;34m\u001b[0m\u001b[0;34m\u001b[0m\u001b[0m\n\u001b[1;32m    429\u001b[0m                     \u001b[0murl\u001b[0m\u001b[0;34m,\u001b[0m\u001b[0;34m\u001b[0m\u001b[0;34m\u001b[0m\u001b[0m\n",
      "\u001b[0;32m~/anaconda3/lib/python3.9/site-packages/elasticsearch/connection/http_urllib3.py\u001b[0m in \u001b[0;36mperform_request\u001b[0;34m(self, method, url, params, body, timeout, ignore, headers)\u001b[0m\n\u001b[1;32m    289\u001b[0m                 \u001b[0mmethod\u001b[0m\u001b[0;34m,\u001b[0m \u001b[0mfull_url\u001b[0m\u001b[0;34m,\u001b[0m \u001b[0murl\u001b[0m\u001b[0;34m,\u001b[0m \u001b[0morig_body\u001b[0m\u001b[0;34m,\u001b[0m \u001b[0mduration\u001b[0m\u001b[0;34m,\u001b[0m \u001b[0mresponse\u001b[0m\u001b[0;34m.\u001b[0m\u001b[0mstatus\u001b[0m\u001b[0;34m,\u001b[0m \u001b[0mraw_data\u001b[0m\u001b[0;34m\u001b[0m\u001b[0;34m\u001b[0m\u001b[0m\n\u001b[1;32m    290\u001b[0m             )\n\u001b[0;32m--> 291\u001b[0;31m             \u001b[0mself\u001b[0m\u001b[0;34m.\u001b[0m\u001b[0m_raise_error\u001b[0m\u001b[0;34m(\u001b[0m\u001b[0mresponse\u001b[0m\u001b[0;34m.\u001b[0m\u001b[0mstatus\u001b[0m\u001b[0;34m,\u001b[0m \u001b[0mraw_data\u001b[0m\u001b[0;34m)\u001b[0m\u001b[0;34m\u001b[0m\u001b[0;34m\u001b[0m\u001b[0m\n\u001b[0m\u001b[1;32m    292\u001b[0m \u001b[0;34m\u001b[0m\u001b[0m\n\u001b[1;32m    293\u001b[0m         self.log_request_success(\n",
      "\u001b[0;32m~/anaconda3/lib/python3.9/site-packages/elasticsearch/connection/base.py\u001b[0m in \u001b[0;36m_raise_error\u001b[0;34m(self, status_code, raw_data)\u001b[0m\n\u001b[1;32m    326\u001b[0m             \u001b[0mlogger\u001b[0m\u001b[0;34m.\u001b[0m\u001b[0mwarning\u001b[0m\u001b[0;34m(\u001b[0m\u001b[0;34m\"Undecodable raw error response from server: %s\"\u001b[0m\u001b[0;34m,\u001b[0m \u001b[0merr\u001b[0m\u001b[0;34m)\u001b[0m\u001b[0;34m\u001b[0m\u001b[0;34m\u001b[0m\u001b[0m\n\u001b[1;32m    327\u001b[0m \u001b[0;34m\u001b[0m\u001b[0m\n\u001b[0;32m--> 328\u001b[0;31m         raise HTTP_EXCEPTIONS.get(status_code, TransportError)(\n\u001b[0m\u001b[1;32m    329\u001b[0m             \u001b[0mstatus_code\u001b[0m\u001b[0;34m,\u001b[0m \u001b[0merror_message\u001b[0m\u001b[0;34m,\u001b[0m \u001b[0madditional_info\u001b[0m\u001b[0;34m\u001b[0m\u001b[0;34m\u001b[0m\u001b[0m\n\u001b[1;32m    330\u001b[0m         )\n",
      "\u001b[0;31mRequestError\u001b[0m: RequestError(400, 'resource_already_exists_exception', 'index [lyrics_mood_classification/TgCE1tWIRcKGzAmMrskg4Q] already exists')"
     ]
    }
   ],
   "source": [
    "index_name = \"lyrics_mood_classification\"\n",
    "\n",
    "es.indices.create(index=index_name,\n",
    "                  mappings={\n",
    "                      \"dynamic\": \"strict\",\n",
    "                      \"properties\": {\n",
    "                          \"song_name\":    {\"type\": \"text\"},\n",
    "                          \"artist_name\":  {\"type\": \"text\"},\n",
    "                          \"lyrics\":   {\"type\": \"text\"},\n",
    "                          \"mood\":   {\"type\": \"text\"}\n",
    "                      }\n",
    "                  })"
   ]
  },
  {
   "cell_type": "code",
   "execution_count": 6,
   "metadata": {},
   "outputs": [
    {
     "data": {
      "text/plain": [
       "{'lyrics_mood_classification': {'aliases': {},\n",
       "  'mappings': {'dynamic': 'strict',\n",
       "   'properties': {'artist_name': {'type': 'text'},\n",
       "    'lyrics': {'type': 'text'},\n",
       "    'mood': {'type': 'text'},\n",
       "    'song_name': {'type': 'text'}}},\n",
       "  'settings': {'index': {'routing': {'allocation': {'include': {'_tier_preference': 'data_content'}}},\n",
       "    'number_of_shards': '1',\n",
       "    'provided_name': 'lyrics_mood_classification',\n",
       "    'creation_date': '1671613588420',\n",
       "    'number_of_replicas': '1',\n",
       "    'uuid': 'TgCE1tWIRcKGzAmMrskg4Q',\n",
       "    'version': {'created': '7170799'}}}}}"
      ]
     },
     "execution_count": 6,
     "metadata": {},
     "output_type": "execute_result"
    }
   ],
   "source": [
    "es.indices.get(index=index_name)"
   ]
  },
  {
   "cell_type": "markdown",
   "metadata": {},
   "source": [
    "### Create a new document"
   ]
  },
  {
   "cell_type": "code",
   "execution_count": 8,
   "metadata": {},
   "outputs": [
    {
     "name": "stdout",
     "output_type": "stream",
     "text": [
      "Searching for \"Eminem\" by Mockingbird...\n",
      "Done.\n",
      "Song found.\n"
     ]
    }
   ],
   "source": [
    "import scrape_genius_lyrics as sgl\n",
    "\n",
    "artist_name = \"Eminem\"\n",
    "song_name = \"Mockingbird\"\n",
    "lyrics = sgl.scrape_lyrics(artist_name, song_name)\n",
    "mood = \"sad\""
   ]
  },
  {
   "cell_type": "code",
   "execution_count": 20,
   "metadata": {},
   "outputs": [],
   "source": [
    "# Initialize id counter\n",
    "id_counter = 0"
   ]
  },
  {
   "cell_type": "code",
   "execution_count": 28,
   "metadata": {},
   "outputs": [],
   "source": [
    "# Create example document\n",
    "es.create(index=index_name,\n",
    "          id=str(id_counter),\n",
    "          document={\n",
    "            \"song_name\": song_name,\n",
    "            \"artist_name\":  artist_name,\n",
    "            \"lyrics\": lyrics,\n",
    "            \"mood\": mood\n",
    "          })\n",
    "id_counter += 1"
   ]
  },
  {
   "cell_type": "code",
   "execution_count": 23,
   "metadata": {},
   "outputs": [
    {
     "data": {
      "text/plain": [
       "{'took': 356,\n",
       " 'timed_out': False,\n",
       " '_shards': {'total': 1, 'successful': 1, 'skipped': 0, 'failed': 0},\n",
       " 'hits': {'total': {'value': 2, 'relation': 'eq'},\n",
       "  'max_score': 1.0,\n",
       "  'hits': [{'_index': 'lyrics_mood_classification',\n",
       "    '_type': '_doc',\n",
       "    '_id': '0',\n",
       "    '_score': 1.0,\n",
       "    '_source': {'song_name': 'Mockingbird',\n",
       "     'artist_name': 'Eminem',\n",
       "     'lyrics': \"TranslationsTürkçePortuguêsItalianoDeutschFrançaisEnglishMockingbird Lyrics[Intro]\\nYeah\\nI know sometimes\\nThings may not always make sense to you right now\\nBut ayy\\nWhat'd Daddy always tell you?\\nStraighten up, little soldier, stiffen up that upper lip\\nWhat you cryin' about?\\nYou got me\\n\\n[Verse 1]\\nHailie, I know you miss your Mom, and I know you miss your Dad\\nWhen I'm gone, but I'm tryna give you the life that I never had\\nI can see you're sad, even when you smile, even when you laugh\\nI can see it in your eyes, deep inside you wanna cry\\n'Cause you're scared, I ain't there, Daddy's witchu in your prayers\\nNo more cryin', wipe them tears, Daddy's here, no more nightmares\\nWe gon' pull together through it, we gon' do it\\nLainie—Uncle's crazy, ain't he? Yeah, but he loves you, girl, and you better know it\\nWe're all we got in this world when it spins, when it swirls\\nWhen it whirls, when it twirls, two little beautiful girls\\nLookin' puzzled, in a daze, I know it's confusin' you\\nDaddy's always on the move, Momma's always on the news\\nI try to keep you sheltered from it, but somehow it seems\\nThe harder that I try to do that, the more it backfires on me\\nAll the things growin' up as Daddy that he had to see\\nDaddy don't want you to see, but you see just as much as he did\\nWe did not plan it to be this way, your mother and me\\nBut things have got so bad between us, I don't see us ever bein'\\nTogether ever again, like we used to be when we was teenagers\\nBut then, of course, everything always happens for a reason\\nI guess it was never meant to be, but it's just something\\nWe have no control over, and that's what destiny is\\nBut no more worries, rest your head and go to sleep\\nMaybe one day we'll wake up and this'll all just be a dream\\n[Chorus 1]\\nNow hush, little baby, don't you cry\\nEverything's gonna be alright\\nStiffen that upper lip up, little lady, I told ya\\nDaddy's here to hold ya through the night\\nI know Mommy's not here right now, and we don't know why\\nWe fear how we feel inside\\nIt may seem a little crazy, pretty baby\\nBut I promise Momma's gon' be alright\\n\\n[Verse 2]\\nHeh, it's funny\\nI remember back one year when Daddy had no money\\nMommy wrapped the Christmas presents up and stuck 'em under the tree\\nAnd said some of 'em were from me 'cause Daddy couldn't buy 'em\\nI'll never forget that Christmas, I sat up the whole night cryin'\\n'Cause Daddy felt like a bum—see, Daddy had a job but his job\\nWas to keep the food on the table for you and Mom and at the time\\nEvery house that we lived in either kept gettin'\\nBroken into and robbed or shot up on the block and your Mom\\nWas savin' money for you in a jar\\nTryna start a piggy bank for you so you could go to college\\nAlmost had a thousand dollars, 'til someone broke in and stole it\\nAnd I know it hurts so bad it broke your Momma's heart\\nAnd it seemed like everything was just startin' to fall apart\\nMom and Dad was arguin' a lot, so Momma moved back\\nOn to Chalmers in the flat, one-bedroom apartment\\nAnd Dad moved back to the other side of 8 Mile on Novara\\nAnd that's when Daddy went to California with his CD\\nAnd met Dr. Dre  and flew you and Momma out to see me\\nBut Daddy had to work, you and Momma had to leave me\\nThen you started seein' Daddy on the TV, and Momma didn't like it\\nAnd you and Lainie were too young to understand it\\nPapa was a rolling stone, Momma developed a habit\\nAnd it all happened too fast for either one of us to grab it\\nI'm just sorry you were there and had to witness it firsthand\\n'Cause all I ever wanted to do was just make you proud\\nNow I'm sittin' in this empty house just reminiscin'\\nLookin' at your baby pictures, it just trips me out\\nTo see how much you both have grown, it's almost like you're sisters now\\nWow, guess you pretty much are, and Daddy's still here\\nLainie, I'm talkin' to you too, Daddy's still here\\nI like the sound of that, yeah, it's got a ring to it, don't it?\\nShh! Momma's only gone for the moment\\nYou might also like[Chorus 2]\\nNow hush, little baby, don't you cry\\nEverything's gonna be alright\\nStiffen that upper lip up, little lady, I told ya\\nDaddy's here to hold ya through the night\\nI know Mommy's not here right now, and we don't know why\\nWe fear how we feel inside\\nIt may seem a little crazy, pretty baby\\nBut I promise, momma's gon' be alright\\nAnd if you ask me to, Daddy's gonna buy you a mockingbird\\nI'ma give you the world, I'ma buy a diamond ring for you\\nI'ma sing for you, I'll do anything for you to see you smile\\nAnd if that mockingbird don't sing and that ring don't shine\\nI'ma break that birdie's neck\\nI'll go back to the jeweler who sold it to ya\\nAnd make him eat every carat\\nDon't fuck with Dad! (Haha)389Embed\",\n",
       "     'mood': 'sad'}},\n",
       "   {'_index': 'lyrics_mood_classification',\n",
       "    '_type': '_doc',\n",
       "    '_id': '1',\n",
       "    '_score': 1.0,\n",
       "    '_source': {'song_name': 'Mockingbird',\n",
       "     'artist_name': 'Eminem',\n",
       "     'lyrics': \"TranslationsTürkçePortuguêsItalianoDeutschFrançaisEnglishMockingbird Lyrics[Intro]\\nYeah\\nI know sometimes\\nThings may not always make sense to you right now\\nBut ayy\\nWhat'd Daddy always tell you?\\nStraighten up, little soldier, stiffen up that upper lip\\nWhat you cryin' about?\\nYou got me\\n\\n[Verse 1]\\nHailie, I know you miss your Mom, and I know you miss your Dad\\nWhen I'm gone, but I'm tryna give you the life that I never had\\nI can see you're sad, even when you smile, even when you laugh\\nI can see it in your eyes, deep inside you wanna cry\\n'Cause you're scared, I ain't there, Daddy's witchu in your prayers\\nNo more cryin', wipe them tears, Daddy's here, no more nightmares\\nWe gon' pull together through it, we gon' do it\\nLainie—Uncle's crazy, ain't he? Yeah, but he loves you, girl, and you better know it\\nWe're all we got in this world when it spins, when it swirls\\nWhen it whirls, when it twirls, two little beautiful girls\\nLookin' puzzled, in a daze, I know it's confusin' you\\nDaddy's always on the move, Momma's always on the news\\nI try to keep you sheltered from it, but somehow it seems\\nThe harder that I try to do that, the more it backfires on me\\nAll the things growin' up as Daddy that he had to see\\nDaddy don't want you to see, but you see just as much as he did\\nWe did not plan it to be this way, your mother and me\\nBut things have got so bad between us, I don't see us ever bein'\\nTogether ever again, like we used to be when we was teenagers\\nBut then, of course, everything always happens for a reason\\nI guess it was never meant to be, but it's just something\\nWe have no control over, and that's what destiny is\\nBut no more worries, rest your head and go to sleep\\nMaybe one day we'll wake up and this'll all just be a dream\\n[Chorus 1]\\nNow hush, little baby, don't you cry\\nEverything's gonna be alright\\nStiffen that upper lip up, little lady, I told ya\\nDaddy's here to hold ya through the night\\nI know Mommy's not here right now, and we don't know why\\nWe fear how we feel inside\\nIt may seem a little crazy, pretty baby\\nBut I promise Momma's gon' be alright\\n\\n[Verse 2]\\nHeh, it's funny\\nI remember back one year when Daddy had no money\\nMommy wrapped the Christmas presents up and stuck 'em under the tree\\nAnd said some of 'em were from me 'cause Daddy couldn't buy 'em\\nI'll never forget that Christmas, I sat up the whole night cryin'\\n'Cause Daddy felt like a bum—see, Daddy had a job but his job\\nWas to keep the food on the table for you and Mom and at the time\\nEvery house that we lived in either kept gettin'\\nBroken into and robbed or shot up on the block and your Mom\\nWas savin' money for you in a jar\\nTryna start a piggy bank for you so you could go to college\\nAlmost had a thousand dollars, 'til someone broke in and stole it\\nAnd I know it hurts so bad it broke your Momma's heart\\nAnd it seemed like everything was just startin' to fall apart\\nMom and Dad was arguin' a lot, so Momma moved back\\nOn to Chalmers in the flat, one-bedroom apartment\\nAnd Dad moved back to the other side of 8 Mile on Novara\\nAnd that's when Daddy went to California with his CD\\nAnd met Dr. Dre  and flew you and Momma out to see me\\nBut Daddy had to work, you and Momma had to leave me\\nThen you started seein' Daddy on the TV, and Momma didn't like it\\nAnd you and Lainie were too young to understand it\\nPapa was a rolling stone, Momma developed a habit\\nAnd it all happened too fast for either one of us to grab it\\nI'm just sorry you were there and had to witness it firsthand\\n'Cause all I ever wanted to do was just make you proud\\nNow I'm sittin' in this empty house just reminiscin'\\nLookin' at your baby pictures, it just trips me out\\nTo see how much you both have grown, it's almost like you're sisters now\\nWow, guess you pretty much are, and Daddy's still here\\nLainie, I'm talkin' to you too, Daddy's still here\\nI like the sound of that, yeah, it's got a ring to it, don't it?\\nShh! Momma's only gone for the moment\\nYou might also like[Chorus 2]\\nNow hush, little baby, don't you cry\\nEverything's gonna be alright\\nStiffen that upper lip up, little lady, I told ya\\nDaddy's here to hold ya through the night\\nI know Mommy's not here right now, and we don't know why\\nWe fear how we feel inside\\nIt may seem a little crazy, pretty baby\\nBut I promise, momma's gon' be alright\\nAnd if you ask me to, Daddy's gonna buy you a mockingbird\\nI'ma give you the world, I'ma buy a diamond ring for you\\nI'ma sing for you, I'll do anything for you to see you smile\\nAnd if that mockingbird don't sing and that ring don't shine\\nI'ma break that birdie's neck\\nI'll go back to the jeweler who sold it to ya\\nAnd make him eat every carat\\nDon't fuck with Dad! (Haha)389Embed\",\n",
       "     'mood': 'sad'}}]}}"
      ]
     },
     "execution_count": 23,
     "metadata": {},
     "output_type": "execute_result"
    }
   ],
   "source": [
    "es.search(index=index_name)"
   ]
  },
  {
   "cell_type": "code",
   "execution_count": 30,
   "metadata": {},
   "outputs": [
    {
     "name": "stderr",
     "output_type": "stream",
     "text": [
      "/home/phansen/anaconda3/lib/python3.9/site-packages/elasticsearch/connection/base.py:200: ElasticsearchWarning: Elasticsearch built-in security features are not enabled. Without authentication, your cluster could be accessible to anyone. See https://www.elastic.co/guide/en/elasticsearch/reference/7.17/security-minimal-setup.html to enable security.\n",
      "  warnings.warn(message, category=ElasticsearchWarning)\n"
     ]
    },
    {
     "name": "stdout",
     "output_type": "stream",
     "text": [
      "{'took': 1, 'timed_out': False, '_shards': {'total': 1, 'successful': 1, 'skipped': 0, 'failed': 0}, 'hits': {'total': {'value': 4, 'relation': 'eq'}, 'max_score': 0.21072102, 'hits': [{'_index': 'lyrics_mood_classification', '_type': '_doc', '_id': '0', '_score': 0.21072102, '_source': {'song_name': 'Mockingbird', 'artist_name': 'Eminem', 'lyrics': \"TranslationsTürkçePortuguêsItalianoDeutschFrançaisEnglishMockingbird Lyrics[Intro]\\nYeah\\nI know sometimes\\nThings may not always make sense to you right now\\nBut ayy\\nWhat'd Daddy always tell you?\\nStraighten up, little soldier, stiffen up that upper lip\\nWhat you cryin' about?\\nYou got me\\n\\n[Verse 1]\\nHailie, I know you miss your Mom, and I know you miss your Dad\\nWhen I'm gone, but I'm tryna give you the life that I never had\\nI can see you're sad, even when you smile, even when you laugh\\nI can see it in your eyes, deep inside you wanna cry\\n'Cause you're scared, I ain't there, Daddy's witchu in your prayers\\nNo more cryin', wipe them tears, Daddy's here, no more nightmares\\nWe gon' pull together through it, we gon' do it\\nLainie—Uncle's crazy, ain't he? Yeah, but he loves you, girl, and you better know it\\nWe're all we got in this world when it spins, when it swirls\\nWhen it whirls, when it twirls, two little beautiful girls\\nLookin' puzzled, in a daze, I know it's confusin' you\\nDaddy's always on the move, Momma's always on the news\\nI try to keep you sheltered from it, but somehow it seems\\nThe harder that I try to do that, the more it backfires on me\\nAll the things growin' up as Daddy that he had to see\\nDaddy don't want you to see, but you see just as much as he did\\nWe did not plan it to be this way, your mother and me\\nBut things have got so bad between us, I don't see us ever bein'\\nTogether ever again, like we used to be when we was teenagers\\nBut then, of course, everything always happens for a reason\\nI guess it was never meant to be, but it's just something\\nWe have no control over, and that's what destiny is\\nBut no more worries, rest your head and go to sleep\\nMaybe one day we'll wake up and this'll all just be a dream\\n[Chorus 1]\\nNow hush, little baby, don't you cry\\nEverything's gonna be alright\\nStiffen that upper lip up, little lady, I told ya\\nDaddy's here to hold ya through the night\\nI know Mommy's not here right now, and we don't know why\\nWe fear how we feel inside\\nIt may seem a little crazy, pretty baby\\nBut I promise Momma's gon' be alright\\n\\n[Verse 2]\\nHeh, it's funny\\nI remember back one year when Daddy had no money\\nMommy wrapped the Christmas presents up and stuck 'em under the tree\\nAnd said some of 'em were from me 'cause Daddy couldn't buy 'em\\nI'll never forget that Christmas, I sat up the whole night cryin'\\n'Cause Daddy felt like a bum—see, Daddy had a job but his job\\nWas to keep the food on the table for you and Mom and at the time\\nEvery house that we lived in either kept gettin'\\nBroken into and robbed or shot up on the block and your Mom\\nWas savin' money for you in a jar\\nTryna start a piggy bank for you so you could go to college\\nAlmost had a thousand dollars, 'til someone broke in and stole it\\nAnd I know it hurts so bad it broke your Momma's heart\\nAnd it seemed like everything was just startin' to fall apart\\nMom and Dad was arguin' a lot, so Momma moved back\\nOn to Chalmers in the flat, one-bedroom apartment\\nAnd Dad moved back to the other side of 8 Mile on Novara\\nAnd that's when Daddy went to California with his CD\\nAnd met Dr. Dre  and flew you and Momma out to see me\\nBut Daddy had to work, you and Momma had to leave me\\nThen you started seein' Daddy on the TV, and Momma didn't like it\\nAnd you and Lainie were too young to understand it\\nPapa was a rolling stone, Momma developed a habit\\nAnd it all happened too fast for either one of us to grab it\\nI'm just sorry you were there and had to witness it firsthand\\n'Cause all I ever wanted to do was just make you proud\\nNow I'm sittin' in this empty house just reminiscin'\\nLookin' at your baby pictures, it just trips me out\\nTo see how much you both have grown, it's almost like you're sisters now\\nWow, guess you pretty much are, and Daddy's still here\\nLainie, I'm talkin' to you too, Daddy's still here\\nI like the sound of that, yeah, it's got a ring to it, don't it?\\nShh! Momma's only gone for the moment\\nYou might also like[Chorus 2]\\nNow hush, little baby, don't you cry\\nEverything's gonna be alright\\nStiffen that upper lip up, little lady, I told ya\\nDaddy's here to hold ya through the night\\nI know Mommy's not here right now, and we don't know why\\nWe fear how we feel inside\\nIt may seem a little crazy, pretty baby\\nBut I promise, momma's gon' be alright\\nAnd if you ask me to, Daddy's gonna buy you a mockingbird\\nI'ma give you the world, I'ma buy a diamond ring for you\\nI'ma sing for you, I'll do anything for you to see you smile\\nAnd if that mockingbird don't sing and that ring don't shine\\nI'ma break that birdie's neck\\nI'll go back to the jeweler who sold it to ya\\nAnd make him eat every carat\\nDon't fuck with Dad! (Haha)389Embed\", 'mood': 'sad'}}, {'_index': 'lyrics_mood_classification', '_type': '_doc', '_id': '1', '_score': 0.21072102, '_source': {'song_name': 'Mockingbird', 'artist_name': 'Eminem', 'lyrics': \"TranslationsTürkçePortuguêsItalianoDeutschFrançaisEnglishMockingbird Lyrics[Intro]\\nYeah\\nI know sometimes\\nThings may not always make sense to you right now\\nBut ayy\\nWhat'd Daddy always tell you?\\nStraighten up, little soldier, stiffen up that upper lip\\nWhat you cryin' about?\\nYou got me\\n\\n[Verse 1]\\nHailie, I know you miss your Mom, and I know you miss your Dad\\nWhen I'm gone, but I'm tryna give you the life that I never had\\nI can see you're sad, even when you smile, even when you laugh\\nI can see it in your eyes, deep inside you wanna cry\\n'Cause you're scared, I ain't there, Daddy's witchu in your prayers\\nNo more cryin', wipe them tears, Daddy's here, no more nightmares\\nWe gon' pull together through it, we gon' do it\\nLainie—Uncle's crazy, ain't he? Yeah, but he loves you, girl, and you better know it\\nWe're all we got in this world when it spins, when it swirls\\nWhen it whirls, when it twirls, two little beautiful girls\\nLookin' puzzled, in a daze, I know it's confusin' you\\nDaddy's always on the move, Momma's always on the news\\nI try to keep you sheltered from it, but somehow it seems\\nThe harder that I try to do that, the more it backfires on me\\nAll the things growin' up as Daddy that he had to see\\nDaddy don't want you to see, but you see just as much as he did\\nWe did not plan it to be this way, your mother and me\\nBut things have got so bad between us, I don't see us ever bein'\\nTogether ever again, like we used to be when we was teenagers\\nBut then, of course, everything always happens for a reason\\nI guess it was never meant to be, but it's just something\\nWe have no control over, and that's what destiny is\\nBut no more worries, rest your head and go to sleep\\nMaybe one day we'll wake up and this'll all just be a dream\\n[Chorus 1]\\nNow hush, little baby, don't you cry\\nEverything's gonna be alright\\nStiffen that upper lip up, little lady, I told ya\\nDaddy's here to hold ya through the night\\nI know Mommy's not here right now, and we don't know why\\nWe fear how we feel inside\\nIt may seem a little crazy, pretty baby\\nBut I promise Momma's gon' be alright\\n\\n[Verse 2]\\nHeh, it's funny\\nI remember back one year when Daddy had no money\\nMommy wrapped the Christmas presents up and stuck 'em under the tree\\nAnd said some of 'em were from me 'cause Daddy couldn't buy 'em\\nI'll never forget that Christmas, I sat up the whole night cryin'\\n'Cause Daddy felt like a bum—see, Daddy had a job but his job\\nWas to keep the food on the table for you and Mom and at the time\\nEvery house that we lived in either kept gettin'\\nBroken into and robbed or shot up on the block and your Mom\\nWas savin' money for you in a jar\\nTryna start a piggy bank for you so you could go to college\\nAlmost had a thousand dollars, 'til someone broke in and stole it\\nAnd I know it hurts so bad it broke your Momma's heart\\nAnd it seemed like everything was just startin' to fall apart\\nMom and Dad was arguin' a lot, so Momma moved back\\nOn to Chalmers in the flat, one-bedroom apartment\\nAnd Dad moved back to the other side of 8 Mile on Novara\\nAnd that's when Daddy went to California with his CD\\nAnd met Dr. Dre  and flew you and Momma out to see me\\nBut Daddy had to work, you and Momma had to leave me\\nThen you started seein' Daddy on the TV, and Momma didn't like it\\nAnd you and Lainie were too young to understand it\\nPapa was a rolling stone, Momma developed a habit\\nAnd it all happened too fast for either one of us to grab it\\nI'm just sorry you were there and had to witness it firsthand\\n'Cause all I ever wanted to do was just make you proud\\nNow I'm sittin' in this empty house just reminiscin'\\nLookin' at your baby pictures, it just trips me out\\nTo see how much you both have grown, it's almost like you're sisters now\\nWow, guess you pretty much are, and Daddy's still here\\nLainie, I'm talkin' to you too, Daddy's still here\\nI like the sound of that, yeah, it's got a ring to it, don't it?\\nShh! Momma's only gone for the moment\\nYou might also like[Chorus 2]\\nNow hush, little baby, don't you cry\\nEverything's gonna be alright\\nStiffen that upper lip up, little lady, I told ya\\nDaddy's here to hold ya through the night\\nI know Mommy's not here right now, and we don't know why\\nWe fear how we feel inside\\nIt may seem a little crazy, pretty baby\\nBut I promise, momma's gon' be alright\\nAnd if you ask me to, Daddy's gonna buy you a mockingbird\\nI'ma give you the world, I'ma buy a diamond ring for you\\nI'ma sing for you, I'll do anything for you to see you smile\\nAnd if that mockingbird don't sing and that ring don't shine\\nI'ma break that birdie's neck\\nI'll go back to the jeweler who sold it to ya\\nAnd make him eat every carat\\nDon't fuck with Dad! (Haha)389Embed\", 'mood': 'sad'}}, {'_index': 'lyrics_mood_classification', '_type': '_doc', '_id': '2', '_score': 0.21072102, '_source': {'song_name': 'Mockingbird', 'artist_name': 'Eminem', 'lyrics': \"TranslationsTürkçePortuguêsItalianoDeutschFrançaisEnglishMockingbird Lyrics[Intro]\\nYeah\\nI know sometimes\\nThings may not always make sense to you right now\\nBut ayy\\nWhat'd Daddy always tell you?\\nStraighten up, little soldier, stiffen up that upper lip\\nWhat you cryin' about?\\nYou got me\\n\\n[Verse 1]\\nHailie, I know you miss your Mom, and I know you miss your Dad\\nWhen I'm gone, but I'm tryna give you the life that I never had\\nI can see you're sad, even when you smile, even when you laugh\\nI can see it in your eyes, deep inside you wanna cry\\n'Cause you're scared, I ain't there, Daddy's witchu in your prayers\\nNo more cryin', wipe them tears, Daddy's here, no more nightmares\\nWe gon' pull together through it, we gon' do it\\nLainie—Uncle's crazy, ain't he? Yeah, but he loves you, girl, and you better know it\\nWe're all we got in this world when it spins, when it swirls\\nWhen it whirls, when it twirls, two little beautiful girls\\nLookin' puzzled, in a daze, I know it's confusin' you\\nDaddy's always on the move, Momma's always on the news\\nI try to keep you sheltered from it, but somehow it seems\\nThe harder that I try to do that, the more it backfires on me\\nAll the things growin' up as Daddy that he had to see\\nDaddy don't want you to see, but you see just as much as he did\\nWe did not plan it to be this way, your mother and me\\nBut things have got so bad between us, I don't see us ever bein'\\nTogether ever again, like we used to be when we was teenagers\\nBut then, of course, everything always happens for a reason\\nI guess it was never meant to be, but it's just something\\nWe have no control over, and that's what destiny is\\nBut no more worries, rest your head and go to sleep\\nMaybe one day we'll wake up and this'll all just be a dream\\n[Chorus 1]\\nNow hush, little baby, don't you cry\\nEverything's gonna be alright\\nStiffen that upper lip up, little lady, I told ya\\nDaddy's here to hold ya through the night\\nI know Mommy's not here right now, and we don't know why\\nWe fear how we feel inside\\nIt may seem a little crazy, pretty baby\\nBut I promise Momma's gon' be alright\\n\\n[Verse 2]\\nHeh, it's funny\\nI remember back one year when Daddy had no money\\nMommy wrapped the Christmas presents up and stuck 'em under the tree\\nAnd said some of 'em were from me 'cause Daddy couldn't buy 'em\\nI'll never forget that Christmas, I sat up the whole night cryin'\\n'Cause Daddy felt like a bum—see, Daddy had a job but his job\\nWas to keep the food on the table for you and Mom and at the time\\nEvery house that we lived in either kept gettin'\\nBroken into and robbed or shot up on the block and your Mom\\nWas savin' money for you in a jar\\nTryna start a piggy bank for you so you could go to college\\nAlmost had a thousand dollars, 'til someone broke in and stole it\\nAnd I know it hurts so bad it broke your Momma's heart\\nAnd it seemed like everything was just startin' to fall apart\\nMom and Dad was arguin' a lot, so Momma moved back\\nOn to Chalmers in the flat, one-bedroom apartment\\nAnd Dad moved back to the other side of 8 Mile on Novara\\nAnd that's when Daddy went to California with his CD\\nAnd met Dr. Dre  and flew you and Momma out to see me\\nBut Daddy had to work, you and Momma had to leave me\\nThen you started seein' Daddy on the TV, and Momma didn't like it\\nAnd you and Lainie were too young to understand it\\nPapa was a rolling stone, Momma developed a habit\\nAnd it all happened too fast for either one of us to grab it\\nI'm just sorry you were there and had to witness it firsthand\\n'Cause all I ever wanted to do was just make you proud\\nNow I'm sittin' in this empty house just reminiscin'\\nLookin' at your baby pictures, it just trips me out\\nTo see how much you both have grown, it's almost like you're sisters now\\nWow, guess you pretty much are, and Daddy's still here\\nLainie, I'm talkin' to you too, Daddy's still here\\nI like the sound of that, yeah, it's got a ring to it, don't it?\\nShh! Momma's only gone for the moment\\nYou might also like[Chorus 2]\\nNow hush, little baby, don't you cry\\nEverything's gonna be alright\\nStiffen that upper lip up, little lady, I told ya\\nDaddy's here to hold ya through the night\\nI know Mommy's not here right now, and we don't know why\\nWe fear how we feel inside\\nIt may seem a little crazy, pretty baby\\nBut I promise, momma's gon' be alright\\nAnd if you ask me to, Daddy's gonna buy you a mockingbird\\nI'ma give you the world, I'ma buy a diamond ring for you\\nI'ma sing for you, I'll do anything for you to see you smile\\nAnd if that mockingbird don't sing and that ring don't shine\\nI'ma break that birdie's neck\\nI'll go back to the jeweler who sold it to ya\\nAnd make him eat every carat\\nDon't fuck with Dad! (Haha)389Embed\", 'mood': 'sad'}}, {'_index': 'lyrics_mood_classification', '_type': '_doc', '_id': '3', '_score': 0.21072102, '_source': {'song_name': 'Mockingbird', 'artist_name': 'Eminem', 'lyrics': \"TranslationsTürkçePortuguêsItalianoDeutschFrançaisEnglishMockingbird Lyrics[Intro]\\nYeah\\nI know sometimes\\nThings may not always make sense to you right now\\nBut ayy\\nWhat'd Daddy always tell you?\\nStraighten up, little soldier, stiffen up that upper lip\\nWhat you cryin' about?\\nYou got me\\n\\n[Verse 1]\\nHailie, I know you miss your Mom, and I know you miss your Dad\\nWhen I'm gone, but I'm tryna give you the life that I never had\\nI can see you're sad, even when you smile, even when you laugh\\nI can see it in your eyes, deep inside you wanna cry\\n'Cause you're scared, I ain't there, Daddy's witchu in your prayers\\nNo more cryin', wipe them tears, Daddy's here, no more nightmares\\nWe gon' pull together through it, we gon' do it\\nLainie—Uncle's crazy, ain't he? Yeah, but he loves you, girl, and you better know it\\nWe're all we got in this world when it spins, when it swirls\\nWhen it whirls, when it twirls, two little beautiful girls\\nLookin' puzzled, in a daze, I know it's confusin' you\\nDaddy's always on the move, Momma's always on the news\\nI try to keep you sheltered from it, but somehow it seems\\nThe harder that I try to do that, the more it backfires on me\\nAll the things growin' up as Daddy that he had to see\\nDaddy don't want you to see, but you see just as much as he did\\nWe did not plan it to be this way, your mother and me\\nBut things have got so bad between us, I don't see us ever bein'\\nTogether ever again, like we used to be when we was teenagers\\nBut then, of course, everything always happens for a reason\\nI guess it was never meant to be, but it's just something\\nWe have no control over, and that's what destiny is\\nBut no more worries, rest your head and go to sleep\\nMaybe one day we'll wake up and this'll all just be a dream\\n[Chorus 1]\\nNow hush, little baby, don't you cry\\nEverything's gonna be alright\\nStiffen that upper lip up, little lady, I told ya\\nDaddy's here to hold ya through the night\\nI know Mommy's not here right now, and we don't know why\\nWe fear how we feel inside\\nIt may seem a little crazy, pretty baby\\nBut I promise Momma's gon' be alright\\n\\n[Verse 2]\\nHeh, it's funny\\nI remember back one year when Daddy had no money\\nMommy wrapped the Christmas presents up and stuck 'em under the tree\\nAnd said some of 'em were from me 'cause Daddy couldn't buy 'em\\nI'll never forget that Christmas, I sat up the whole night cryin'\\n'Cause Daddy felt like a bum—see, Daddy had a job but his job\\nWas to keep the food on the table for you and Mom and at the time\\nEvery house that we lived in either kept gettin'\\nBroken into and robbed or shot up on the block and your Mom\\nWas savin' money for you in a jar\\nTryna start a piggy bank for you so you could go to college\\nAlmost had a thousand dollars, 'til someone broke in and stole it\\nAnd I know it hurts so bad it broke your Momma's heart\\nAnd it seemed like everything was just startin' to fall apart\\nMom and Dad was arguin' a lot, so Momma moved back\\nOn to Chalmers in the flat, one-bedroom apartment\\nAnd Dad moved back to the other side of 8 Mile on Novara\\nAnd that's when Daddy went to California with his CD\\nAnd met Dr. Dre  and flew you and Momma out to see me\\nBut Daddy had to work, you and Momma had to leave me\\nThen you started seein' Daddy on the TV, and Momma didn't like it\\nAnd you and Lainie were too young to understand it\\nPapa was a rolling stone, Momma developed a habit\\nAnd it all happened too fast for either one of us to grab it\\nI'm just sorry you were there and had to witness it firsthand\\n'Cause all I ever wanted to do was just make you proud\\nNow I'm sittin' in this empty house just reminiscin'\\nLookin' at your baby pictures, it just trips me out\\nTo see how much you both have grown, it's almost like you're sisters now\\nWow, guess you pretty much are, and Daddy's still here\\nLainie, I'm talkin' to you too, Daddy's still here\\nI like the sound of that, yeah, it's got a ring to it, don't it?\\nShh! Momma's only gone for the moment\\nYou might also like[Chorus 2]\\nNow hush, little baby, don't you cry\\nEverything's gonna be alright\\nStiffen that upper lip up, little lady, I told ya\\nDaddy's here to hold ya through the night\\nI know Mommy's not here right now, and we don't know why\\nWe fear how we feel inside\\nIt may seem a little crazy, pretty baby\\nBut I promise, momma's gon' be alright\\nAnd if you ask me to, Daddy's gonna buy you a mockingbird\\nI'ma give you the world, I'ma buy a diamond ring for you\\nI'ma sing for you, I'll do anything for you to see you smile\\nAnd if that mockingbird don't sing and that ring don't shine\\nI'ma break that birdie's neck\\nI'll go back to the jeweler who sold it to ya\\nAnd make him eat every carat\\nDon't fuck with Dad! (Haha)389Embed\", 'mood': 'sad'}}]}}\n"
     ]
    }
   ],
   "source": [
    "# Search song in es index\n",
    "result = es.search(index=index_name, query={\"bool\": {\"must\": [\n",
    "        {\"match\": {\"song_name\": song_name}}, {\"match\": {\"artist_name\": artist_name}}]}})\n",
    "print(result)"
   ]
  }
 ],
 "metadata": {
  "kernelspec": {
   "display_name": "Python 3.9.13 ('base')",
   "language": "python",
   "name": "python3"
  },
  "language_info": {
   "codemirror_mode": {
    "name": "ipython",
    "version": 3
   },
   "file_extension": ".py",
   "mimetype": "text/x-python",
   "name": "python",
   "nbconvert_exporter": "python",
   "pygments_lexer": "ipython3",
   "version": "3.9.13"
  },
  "orig_nbformat": 4,
  "vscode": {
   "interpreter": {
    "hash": "8b6a09c6c881074955117e125c5183f144e2c1816a788965e3262d942faf08f4"
   }
  }
 },
 "nbformat": 4,
 "nbformat_minor": 2
}
