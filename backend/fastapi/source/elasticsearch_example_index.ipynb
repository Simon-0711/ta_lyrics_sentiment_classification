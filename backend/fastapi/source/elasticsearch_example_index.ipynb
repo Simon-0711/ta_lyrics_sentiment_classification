{
 "cells": [
  {
   "cell_type": "code",
   "execution_count": 20,
   "metadata": {},
   "outputs": [],
   "source": [
    "# automatically load changes in Python code without restarting Kernel\n",
    "%reload_ext autoreload\n",
    "%autoreload 2"
   ]
  },
  {
   "cell_type": "code",
   "execution_count": 21,
   "metadata": {},
   "outputs": [],
   "source": [
    "from elasticsearch import Elasticsearch\n",
    "import elasticsearch_functions as ef\n",
    "\n",
    "import warnings\n",
    "warnings.filterwarnings(\"ignore\")"
   ]
  },
  {
   "cell_type": "code",
   "execution_count": 22,
   "metadata": {},
   "outputs": [
    {
     "data": {
      "text/plain": [
       "{'name': 'a92da01f1532',\n",
       " 'cluster_name': 'docker-cluster',\n",
       " 'cluster_uuid': '-Q71RHpESH-y0QUvpgi14w',\n",
       " 'version': {'number': '7.17.7',\n",
       "  'build_flavor': 'default',\n",
       "  'build_type': 'docker',\n",
       "  'build_hash': '78dcaaa8cee33438b91eca7f5c7f56a70fec9e80',\n",
       "  'build_date': '2022-10-17T15:29:54.167373105Z',\n",
       "  'build_snapshot': False,\n",
       "  'lucene_version': '8.11.1',\n",
       "  'minimum_wire_compatibility_version': '6.8.0',\n",
       "  'minimum_index_compatibility_version': '6.0.0-beta1'},\n",
       " 'tagline': 'You Know, for Search'}"
      ]
     },
     "execution_count": 22,
     "metadata": {},
     "output_type": "execute_result"
    }
   ],
   "source": [
    "es_host = \"http://localhost:9200\"\n",
    "\n",
    "es = Elasticsearch(\n",
    "    hosts=es_host\n",
    ")\n",
    "\n",
    "es.info()   # check if connection was successful"
   ]
  },
  {
   "cell_type": "markdown",
   "metadata": {},
   "source": [
    "### Creating a new index"
   ]
  },
  {
   "cell_type": "code",
   "execution_count": 23,
   "metadata": {},
   "outputs": [
    {
     "data": {
      "text/plain": [
       "{'acknowledged': True,\n",
       " 'shards_acknowledged': True,\n",
       " 'index': 'lyrics_mood_classification'}"
      ]
     },
     "execution_count": 23,
     "metadata": {},
     "output_type": "execute_result"
    }
   ],
   "source": [
    "index_name = \"lyrics_mood_classification\"\n",
    "\n",
    "es.indices.create(index=index_name,\n",
    "                  mappings={\n",
    "                      \"dynamic\": \"strict\",\n",
    "                      \"properties\": {\n",
    "                          \"song_name\":    {\"type\": \"text\"},\n",
    "                          \"artist_name\":  {\"type\": \"text\"},\n",
    "                          \"lyrics\":   {\"type\": \"text\"},\n",
    "                          \"mood\":   {\"type\": \"text\"}\n",
    "                      }\n",
    "                  })"
   ]
  },
  {
   "cell_type": "code",
   "execution_count": 24,
   "metadata": {},
   "outputs": [
    {
     "data": {
      "text/plain": [
       "{'lyrics_mood_classification': {'aliases': {},\n",
       "  'mappings': {'dynamic': 'strict',\n",
       "   'properties': {'artist_name': {'type': 'text'},\n",
       "    'lyrics': {'type': 'text'},\n",
       "    'mood': {'type': 'text'},\n",
       "    'song_name': {'type': 'text'}}},\n",
       "  'settings': {'index': {'routing': {'allocation': {'include': {'_tier_preference': 'data_content'}}},\n",
       "    'number_of_shards': '1',\n",
       "    'provided_name': 'lyrics_mood_classification',\n",
       "    'creation_date': '1671626551184',\n",
       "    'number_of_replicas': '1',\n",
       "    'uuid': 'ReVh0WfrQgeTlldhzum7tg',\n",
       "    'version': {'created': '7170799'}}}}}"
      ]
     },
     "execution_count": 24,
     "metadata": {},
     "output_type": "execute_result"
    }
   ],
   "source": [
    "es.indices.get(index=index_name)"
   ]
  },
  {
   "cell_type": "markdown",
   "metadata": {},
   "source": [
    "### Create a new document"
   ]
  },
  {
   "cell_type": "code",
   "execution_count": 25,
   "metadata": {},
   "outputs": [
    {
     "name": "stdout",
     "output_type": "stream",
     "text": [
      "Searching for \"Eminem\" by Mockingbird...\n",
      "Done.\n",
      "Song found.\n"
     ]
    }
   ],
   "source": [
    "import scrape_genius_lyrics as sgl\n",
    "\n",
    "artist_name = \"Eminem\"\n",
    "song_name = \"Mockingbird\"\n",
    "lyrics = sgl.scrape_lyrics(artist_name, song_name)\n",
    "mood = \"sad\""
   ]
  },
  {
   "cell_type": "code",
   "execution_count": 26,
   "metadata": {},
   "outputs": [],
   "source": [
    "ef.add_es_document(song_name, artist_name, lyrics, mood)"
   ]
  },
  {
   "cell_type": "markdown",
   "metadata": {},
   "source": [
    "### Check if document was added"
   ]
  },
  {
   "cell_type": "code",
   "execution_count": 27,
   "metadata": {},
   "outputs": [
    {
     "data": {
      "text/plain": [
       "{'took': 2,\n",
       " 'timed_out': False,\n",
       " '_shards': {'total': 1, 'successful': 1, 'skipped': 0, 'failed': 0},\n",
       " 'hits': {'total': {'value': 0, 'relation': 'eq'},\n",
       "  'max_score': None,\n",
       "  'hits': []}}"
      ]
     },
     "execution_count": 27,
     "metadata": {},
     "output_type": "execute_result"
    }
   ],
   "source": [
    "es.search(index=index_name)"
   ]
  },
  {
   "cell_type": "code",
   "execution_count": 31,
   "metadata": {},
   "outputs": [
    {
     "data": {
      "text/plain": [
       "\"TranslationsTürkçePortuguêsItalianoDeutschFrançaisEnglishMockingbird Lyrics[Intro]\\nYeah\\nI know sometimes\\nThings may not always make sense to you right now\\nBut ayy\\nWhat'd Daddy always tell you?\\nStraighten up, little soldier, stiffen up that upper lip\\nWhat you cryin' about?\\nYou got me\\n\\n[Verse 1]\\nHailie, I know you miss your Mom, and I know you miss your Dad\\nWhen I'm gone, but I'm tryna give you the life that I never had\\nI can see you're sad, even when you smile, even when you laugh\\nI can see it in your eyes, deep inside you wanna cry\\n'Cause you're scared, I ain't there, Daddy's witchu in your prayers\\nNo more cryin', wipe them tears, Daddy's here, no more nightmares\\nWe gon' pull together through it, we gon' do it\\nLainie—Uncle's crazy, ain't he? Yeah, but he loves you, girl, and you better know it\\nWe're all we got in this world when it spins, when it swirls\\nWhen it whirls, when it twirls, two little beautiful girls\\nLookin' puzzled, in a daze, I know it's confusin' you\\nDaddy's always on the move, Momma's always on the news\\nI try to keep you sheltered from it, but somehow it seems\\nThe harder that I try to do that, the more it backfires on me\\nAll the things growin' up as Daddy that he had to see\\nDaddy don't want you to see, but you see just as much as he did\\nWe did not plan it to be this way, your mother and me\\nBut things have got so bad between us, I don't see us ever bein'\\nTogether ever again, like we used to be when we was teenagers\\nBut then, of course, everything always happens for a reason\\nI guess it was never meant to be, but it's just something\\nWe have no control over, and that's what destiny is\\nBut no more worries, rest your head and go to sleep\\nMaybe one day we'll wake up and this'll all just be a dream\\n[Chorus 1]\\nNow hush, little baby, don't you cry\\nEverything's gonna be alright\\nStiffen that upper lip up, little lady, I told ya\\nDaddy's here to hold ya through the night\\nI know Mommy's not here right now, and we don't know why\\nWe fear how we feel inside\\nIt may seem a little crazy, pretty baby\\nBut I promise Momma's gon' be alright\\n\\n[Verse 2]\\nHeh, it's funny\\nI remember back one year when Daddy had no money\\nMommy wrapped the Christmas presents up and stuck 'em under the tree\\nAnd said some of 'em were from me 'cause Daddy couldn't buy 'em\\nI'll never forget that Christmas, I sat up the whole night cryin'\\n'Cause Daddy felt like a bum—see, Daddy had a job but his job\\nWas to keep the food on the table for you and Mom and at the time\\nEvery house that we lived in either kept gettin'\\nBroken into and robbed or shot up on the block and your Mom\\nWas savin' money for you in a jar\\nTryna start a piggy bank for you so you could go to college\\nAlmost had a thousand dollars, 'til someone broke in and stole it\\nAnd I know it hurts so bad it broke your Momma's heart\\nAnd it seemed like everything was just startin' to fall apart\\nMom and Dad was arguin' a lot, so Momma moved back\\nOn to Chalmers in the flat, one-bedroom apartment\\nAnd Dad moved back to the other side of 8 Mile on Novara\\nAnd that's when Daddy went to California with his CD\\nAnd met Dr. Dre  and flew you and Momma out to see me\\nBut Daddy had to work, you and Momma had to leave me\\nThen you started seein' Daddy on the TV, and Momma didn't like it\\nAnd you and Lainie were too young to understand it\\nPapa was a rolling stone, Momma developed a habit\\nAnd it all happened too fast for either one of us to grab it\\nI'm just sorry you were there and had to witness it firsthand\\n'Cause all I ever wanted to do was just make you proud\\nNow I'm sittin' in this empty house just reminiscin'\\nLookin' at your baby pictures, it just trips me out\\nTo see how much you both have grown, it's almost like you're sisters now\\nWow, guess you pretty much are, and Daddy's still here\\nLainie, I'm talkin' to you too, Daddy's still here\\nI like the sound of that, yeah, it's got a ring to it, don't it?\\nShh! Momma's only gone for the moment\\nYou might also like[Chorus 2]\\nNow hush, little baby, don't you cry\\nEverything's gonna be alright\\nStiffen that upper lip up, little lady, I told ya\\nDaddy's here to hold ya through the night\\nI know Mommy's not here right now, and we don't know why\\nWe fear how we feel inside\\nIt may seem a little crazy, pretty baby\\nBut I promise, momma's gon' be alright\\nAnd if you ask me to, Daddy's gonna buy you a mockingbird\\nI'ma give you the world, I'ma buy a diamond ring for you\\nI'ma sing for you, I'll do anything for you to see you smile\\nAnd if that mockingbird don't sing and that ring don't shine\\nI'ma break that birdie's neck\\nI'll go back to the jeweler who sold it to ya\\nAnd make him eat every carat\\nDon't fuck with Dad! (Haha)389Embed\""
      ]
     },
     "execution_count": 31,
     "metadata": {},
     "output_type": "execute_result"
    }
   ],
   "source": [
    "ef.get_stored_lyrics_of_song(song_name, artist_name)"
   ]
  },
  {
   "cell_type": "code",
   "execution_count": 32,
   "metadata": {},
   "outputs": [
    {
     "data": {
      "text/plain": [
       "'sad'"
      ]
     },
     "execution_count": 32,
     "metadata": {},
     "output_type": "execute_result"
    }
   ],
   "source": [
    "ef.get_stored_mood_of_song(song_name, artist_name)"
   ]
  },
  {
   "cell_type": "code",
   "execution_count": 36,
   "metadata": {},
   "outputs": [
    {
     "data": {
      "text/plain": [
       "True"
      ]
     },
     "execution_count": 36,
     "metadata": {},
     "output_type": "execute_result"
    }
   ],
   "source": [
    "ef.get_stored_lyrics_of_song(\"bla\", \"bla\") is None"
   ]
  },
  {
   "cell_type": "code",
   "execution_count": 34,
   "metadata": {},
   "outputs": [],
   "source": [
    "ef.get_stored_mood_of_song(\"bla\", \"bla\") is None"
   ]
  }
 ],
 "metadata": {
  "kernelspec": {
   "display_name": "Python 3.9.13 ('base')",
   "language": "python",
   "name": "python3"
  },
  "language_info": {
   "codemirror_mode": {
    "name": "ipython",
    "version": 3
   },
   "file_extension": ".py",
   "mimetype": "text/x-python",
   "name": "python",
   "nbconvert_exporter": "python",
   "pygments_lexer": "ipython3",
   "version": "3.9.12"
  },
  "orig_nbformat": 4,
  "vscode": {
   "interpreter": {
    "hash": "8b6a09c6c881074955117e125c5183f144e2c1816a788965e3262d942faf08f4"
   }
  }
 },
 "nbformat": 4,
 "nbformat_minor": 2
}
