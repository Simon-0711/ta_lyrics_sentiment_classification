{
 "cells": [
  {
   "cell_type": "code",
   "execution_count": 4,
   "id": "6b922086-445c-45d7-bf0f-2f53dd826626",
   "metadata": {},
   "outputs": [],
   "source": [
    "import pandas as pd\n",
    "import numpy as np\n",
    "import os\n",
    "\n",
    "import matplotlib.pyplot as plt\n",
    "import scipy.stats as st"
   ]
  },
  {
   "cell_type": "code",
   "execution_count": 5,
   "id": "8a202ec8",
   "metadata": {},
   "outputs": [],
   "source": [
    "DATA_DIR = \"data\""
   ]
  },
  {
   "cell_type": "markdown",
   "id": "9bb23070-6d90-4ae1-bec4-80bb00277d4a",
   "metadata": {},
   "source": [
    "# Load data"
   ]
  },
  {
   "cell_type": "code",
   "execution_count": 6,
   "id": "f7cd7d32-8cd0-4f6d-8b4a-e3e1b8a8cd3f",
   "metadata": {},
   "outputs": [],
   "source": [
    "# lyrics data path\n",
    "lyrics_path = os.path.join(DATA_DIR, \"lyrics-data.csv\")\n",
    "df_lyrics = pd.read_csv(lyrics_path)\n",
    "\n",
    "# artists data path\n",
    "artists_path = os.path.join(DATA_DIR, \"artists-data.csv\")\n",
    "df_artists = pd.read_csv(artists_path)"
   ]
  },
  {
   "attachments": {},
   "cell_type": "markdown",
   "id": "4d0c5be4",
   "metadata": {},
   "source": [
    "## Remove non english songs"
   ]
  },
  {
   "cell_type": "code",
   "execution_count": 7,
   "id": "9a9322fd",
   "metadata": {},
   "outputs": [],
   "source": [
    "# Filter for language en = english\n",
    "df_lyrics_en = df_lyrics[df_lyrics[\"language\"] == \"en\"]"
   ]
  },
  {
   "attachments": {},
   "cell_type": "markdown",
   "id": "e46dac62",
   "metadata": {},
   "source": [
    "## Remove songs with less than 70 and more than 1000 words"
   ]
  },
  {
   "cell_type": "code",
   "execution_count": 8,
   "id": "e91e4e69",
   "metadata": {},
   "outputs": [],
   "source": [
    "# Split each string column and count length\n",
    "df_lyrics_en = df_lyrics_en[\n",
    "    df_lyrics_en[\"Lyric\"].apply(lambda lyric: (len(lyric.split()) >= 70) & (len(lyric.split()) <= 1000))\n",
    "]"
   ]
  },
  {
   "attachments": {},
   "cell_type": "markdown",
   "id": "8199518b",
   "metadata": {},
   "source": [
    "## Merge songs and artists"
   ]
  },
  {
   "cell_type": "code",
   "execution_count": 9,
   "id": "bc23c54d",
   "metadata": {},
   "outputs": [],
   "source": [
    "# Merge artists and lyrics\n",
    "df_songs = pd.merge(\n",
    "    df_lyrics_en, \n",
    "    df_artists, \n",
    "    how=\"inner\",\n",
    "    left_on=\"ALink\",\n",
    "    right_on=\"Link\"\n",
    ")\n",
    "\n",
    "# Remove duplicate columns\n",
    "del df_songs[\"Link\"]"
   ]
  },
  {
   "cell_type": "markdown",
   "id": "20524b16",
   "metadata": {},
   "source": [
    "## Remove columns with duplicate or redundant information"
   ]
  },
  {
   "cell_type": "code",
   "execution_count": 10,
   "id": "61cb2b0c",
   "metadata": {},
   "outputs": [],
   "source": [
    "del df_songs[\"ALink\"]\n",
    "del df_songs[\"language\"]\n",
    "del df_songs[\"Songs\"]\n",
    "del df_songs[\"Popularity\"]"
   ]
  },
  {
   "attachments": {},
   "cell_type": "markdown",
   "id": "4ffe8537",
   "metadata": {},
   "source": [
    "## Remove duplicate rows"
   ]
  },
  {
   "cell_type": "code",
   "execution_count": 11,
   "id": "b66d8ec9",
   "metadata": {},
   "outputs": [],
   "source": [
    "df_songs_no_duplicates = df_songs.drop_duplicates(subset=['SLink'])"
   ]
  },
  {
   "attachments": {},
   "cell_type": "markdown",
   "id": "7f92c5a2",
   "metadata": {},
   "source": [
    "## Add labels from Last.fm"
   ]
  },
  {
   "cell_type": "code",
   "execution_count": 26,
   "id": "21826714",
   "metadata": {},
   "outputs": [],
   "source": [
    "tags_df= pd.read_csv('./data/tags.csv')"
   ]
  },
  {
   "cell_type": "code",
   "execution_count": 27,
   "id": "f36e8153",
   "metadata": {},
   "outputs": [],
   "source": [
    "df = pd.merge(df_songs_no_duplicates, tags_df,  how='left', left_on=[\"Artist\",\"SName\"], right_on = [\"Artist\",\"SName\"])"
   ]
  },
  {
   "cell_type": "code",
   "execution_count": 28,
   "id": "c8d14ed9",
   "metadata": {},
   "outputs": [],
   "source": [
    "df = df[(df[\"Tags\"] != \"NoTagsFound\") & (df[\"Tags\"] != \"NoSongFound\")]"
   ]
  },
  {
   "cell_type": "code",
   "execution_count": 29,
   "id": "aa7567d9",
   "metadata": {},
   "outputs": [
    {
     "data": {
      "text/html": [
       "<div>\n",
       "<style scoped>\n",
       "    .dataframe tbody tr th:only-of-type {\n",
       "        vertical-align: middle;\n",
       "    }\n",
       "\n",
       "    .dataframe tbody tr th {\n",
       "        vertical-align: top;\n",
       "    }\n",
       "\n",
       "    .dataframe thead th {\n",
       "        text-align: right;\n",
       "    }\n",
       "</style>\n",
       "<table border=\"1\" class=\"dataframe\">\n",
       "  <thead>\n",
       "    <tr style=\"text-align: right;\">\n",
       "      <th></th>\n",
       "      <th>SName</th>\n",
       "      <th>SLink</th>\n",
       "      <th>Lyric</th>\n",
       "      <th>Artist</th>\n",
       "      <th>Genres</th>\n",
       "      <th>Tags</th>\n",
       "    </tr>\n",
       "  </thead>\n",
       "  <tbody>\n",
       "    <tr>\n",
       "      <th>3</th>\n",
       "      <td>Easy</td>\n",
       "      <td>/ivete-sangalo/easy.html</td>\n",
       "      <td>Know it sounds funny\\nBut, I just can't stand ...</td>\n",
       "      <td>Ivete Sangalo</td>\n",
       "      <td>Pop; Axé; Romântico</td>\n",
       "      <td>pop, female vocalists, rnb, hot, spanish, soul...</td>\n",
       "    </tr>\n",
       "    <tr>\n",
       "      <th>5</th>\n",
       "      <td>Human Nature</td>\n",
       "      <td>/ivete-sangalo/human-nature.html</td>\n",
       "      <td>Looking out\\nAcross the night time\\nThe city w...</td>\n",
       "      <td>Ivete Sangalo</td>\n",
       "      <td>Pop; Axé; Romântico</td>\n",
       "      <td>pop, rock, female vocalists, dance, latin, rnb...</td>\n",
       "    </tr>\n",
       "    <tr>\n",
       "      <th>9</th>\n",
       "      <td>Natural Collie</td>\n",
       "      <td>/ivete-sangalo/natural-collie.html</td>\n",
       "      <td>Been down in the valley\\nSmoking natural colli...</td>\n",
       "      <td>Ivete Sangalo</td>\n",
       "      <td>Pop; Axé; Romântico</td>\n",
       "      <td>spanish, electronic, female, jazz, hip hop, po...</td>\n",
       "    </tr>\n",
       "    <tr>\n",
       "      <th>10</th>\n",
       "      <td>Where It Begins (feat. Nelly Furtado)</td>\n",
       "      <td>/ivete-sangalo/where-it-begins-feat-nelly-furt...</td>\n",
       "      <td>When you're alone and you don't know how,\\nTo ...</td>\n",
       "      <td>Ivete Sangalo</td>\n",
       "      <td>Pop; Axé; Romântico</td>\n",
       "      <td>pop, singer-songwriter, rnb, Nelly Furtado, sp...</td>\n",
       "    </tr>\n",
       "    <tr>\n",
       "      <th>15</th>\n",
       "      <td>Lazy Groove</td>\n",
       "      <td>/claudia-leitte/lazy-groove.html</td>\n",
       "      <td>Are you ready to dance?\\nTo make your body cra...</td>\n",
       "      <td>Claudia Leitte</td>\n",
       "      <td>Pop; Axé; Romântico</td>\n",
       "      <td>dance, cool, 2013, axe music, claudia leitte</td>\n",
       "    </tr>\n",
       "  </tbody>\n",
       "</table>\n",
       "</div>"
      ],
      "text/plain": [
       "                                    SName  \\\n",
       "3                                    Easy   \n",
       "5                            Human Nature   \n",
       "9                          Natural Collie   \n",
       "10  Where It Begins (feat. Nelly Furtado)   \n",
       "15                            Lazy Groove   \n",
       "\n",
       "                                                SLink  \\\n",
       "3                            /ivete-sangalo/easy.html   \n",
       "5                    /ivete-sangalo/human-nature.html   \n",
       "9                  /ivete-sangalo/natural-collie.html   \n",
       "10  /ivete-sangalo/where-it-begins-feat-nelly-furt...   \n",
       "15                   /claudia-leitte/lazy-groove.html   \n",
       "\n",
       "                                                Lyric          Artist  \\\n",
       "3   Know it sounds funny\\nBut, I just can't stand ...   Ivete Sangalo   \n",
       "5   Looking out\\nAcross the night time\\nThe city w...   Ivete Sangalo   \n",
       "9   Been down in the valley\\nSmoking natural colli...   Ivete Sangalo   \n",
       "10  When you're alone and you don't know how,\\nTo ...   Ivete Sangalo   \n",
       "15  Are you ready to dance?\\nTo make your body cra...  Claudia Leitte   \n",
       "\n",
       "                 Genres                                               Tags  \n",
       "3   Pop; Axé; Romântico  pop, female vocalists, rnb, hot, spanish, soul...  \n",
       "5   Pop; Axé; Romântico  pop, rock, female vocalists, dance, latin, rnb...  \n",
       "9   Pop; Axé; Romântico  spanish, electronic, female, jazz, hip hop, po...  \n",
       "10  Pop; Axé; Romântico  pop, singer-songwriter, rnb, Nelly Furtado, sp...  \n",
       "15  Pop; Axé; Romântico       dance, cool, 2013, axe music, claudia leitte  "
      ]
     },
     "execution_count": 29,
     "metadata": {},
     "output_type": "execute_result"
    }
   ],
   "source": [
    "df.head()"
   ]
  },
  {
   "attachments": {},
   "cell_type": "markdown",
   "id": "1b4babda",
   "metadata": {},
   "source": [
    "## Clean keywords from lyrics\n",
    "Some lyrics contain words like \"verse1\" or \"chorus\" instead of the full text, if there is repetition for example. \n",
    "In this step we will define those keywords (manually extracted from data) and remove them. "
   ]
  },
  {
   "cell_type": "code",
   "execution_count": 32,
   "id": "02f51c26",
   "metadata": {},
   "outputs": [],
   "source": [
    "# Lowercase\n",
    "df[\"Lyric\"] = df[\"Lyric\"].str.lower()"
   ]
  },
  {
   "cell_type": "code",
   "execution_count": 35,
   "id": "7cf7d443",
   "metadata": {},
   "outputs": [
    {
     "data": {
      "text/html": [
       "<div>\n",
       "<style scoped>\n",
       "    .dataframe tbody tr th:only-of-type {\n",
       "        vertical-align: middle;\n",
       "    }\n",
       "\n",
       "    .dataframe tbody tr th {\n",
       "        vertical-align: top;\n",
       "    }\n",
       "\n",
       "    .dataframe thead th {\n",
       "        text-align: right;\n",
       "    }\n",
       "</style>\n",
       "<table border=\"1\" class=\"dataframe\">\n",
       "  <thead>\n",
       "    <tr style=\"text-align: right;\">\n",
       "      <th></th>\n",
       "      <th>SName</th>\n",
       "      <th>SLink</th>\n",
       "      <th>Lyric</th>\n",
       "      <th>Artist</th>\n",
       "      <th>Genres</th>\n",
       "      <th>Tags</th>\n",
       "    </tr>\n",
       "  </thead>\n",
       "  <tbody>\n",
       "    <tr>\n",
       "      <th>31</th>\n",
       "      <td>Dyer Maker</td>\n",
       "      <td>/babado-novo/dryer-maker.html</td>\n",
       "      <td>oh oh oh oh oh oh\\nyou don't have to go\\noh oh...</td>\n",
       "      <td>Babado Novo</td>\n",
       "      <td>Axé; Pop; Romântico</td>\n",
       "      <td>rock</td>\n",
       "    </tr>\n",
       "    <tr>\n",
       "      <th>42</th>\n",
       "      <td>Crazy In Love (feat. Jay Z)</td>\n",
       "      <td>/beyonce/crazy-in-love.html</td>\n",
       "      <td>[intro - jay z]\\nyes!\\nit's so crazy right now...</td>\n",
       "      <td>Beyoncé</td>\n",
       "      <td>Pop; R&amp;B; Black Music</td>\n",
       "      <td>Hip-Hop, pop, r&amp;b, rnb, female vocalists, Love...</td>\n",
       "    </tr>\n",
       "    <tr>\n",
       "      <th>47</th>\n",
       "      <td>Listen</td>\n",
       "      <td>/beyonce/listen.html</td>\n",
       "      <td>listen,\\nto the song here in my heart\\na melod...</td>\n",
       "      <td>Beyoncé</td>\n",
       "      <td>Pop; R&amp;B; Black Music</td>\n",
       "      <td>rnb, soul, Soundtrack, female vocalists, beyon...</td>\n",
       "    </tr>\n",
       "    <tr>\n",
       "      <th>63</th>\n",
       "      <td>'03 Bonnie &amp; Clyde</td>\n",
       "      <td>/beyonce/03-bonnie-clyde.html</td>\n",
       "      <td>jay-z\\nuh-uh-uh\\nyou ready b?\\nlet's go get 'e...</td>\n",
       "      <td>Beyoncé</td>\n",
       "      <td>Pop; R&amp;B; Black Music</td>\n",
       "      <td>hip hop, soul, dance, r&amp;b, rnb, beyonce, live,...</td>\n",
       "    </tr>\n",
       "    <tr>\n",
       "      <th>76</th>\n",
       "      <td>Angel (feat. Kelly Rowland)</td>\n",
       "      <td>/beyonce/angel-feat-kelly-rowland.html</td>\n",
       "      <td>this is for my fans (uhu uhu)\\nthis is for my ...</td>\n",
       "      <td>Beyoncé</td>\n",
       "      <td>Pop; R&amp;B; Black Music</td>\n",
       "      <td>rnb</td>\n",
       "    </tr>\n",
       "  </tbody>\n",
       "</table>\n",
       "</div>"
      ],
      "text/plain": [
       "                          SName                                   SLink  \\\n",
       "31                   Dyer Maker           /babado-novo/dryer-maker.html   \n",
       "42  Crazy In Love (feat. Jay Z)             /beyonce/crazy-in-love.html   \n",
       "47                       Listen                    /beyonce/listen.html   \n",
       "63           '03 Bonnie & Clyde           /beyonce/03-bonnie-clyde.html   \n",
       "76  Angel (feat. Kelly Rowland)  /beyonce/angel-feat-kelly-rowland.html   \n",
       "\n",
       "                                                Lyric       Artist  \\\n",
       "31  oh oh oh oh oh oh\\nyou don't have to go\\noh oh...  Babado Novo   \n",
       "42  [intro - jay z]\\nyes!\\nit's so crazy right now...      Beyoncé   \n",
       "47  listen,\\nto the song here in my heart\\na melod...      Beyoncé   \n",
       "63  jay-z\\nuh-uh-uh\\nyou ready b?\\nlet's go get 'e...      Beyoncé   \n",
       "76  this is for my fans (uhu uhu)\\nthis is for my ...      Beyoncé   \n",
       "\n",
       "                   Genres                                               Tags  \n",
       "31    Axé; Pop; Romântico                                               rock  \n",
       "42  Pop; R&B; Black Music  Hip-Hop, pop, r&b, rnb, female vocalists, Love...  \n",
       "47  Pop; R&B; Black Music  rnb, soul, Soundtrack, female vocalists, beyon...  \n",
       "63  Pop; R&B; Black Music  hip hop, soul, dance, r&b, rnb, beyonce, live,...  \n",
       "76  Pop; R&B; Black Music                                                rnb  "
      ]
     },
     "execution_count": 35,
     "metadata": {},
     "output_type": "execute_result"
    }
   ],
   "source": [
    "# Check for individual keywords\n",
    "df[df[\"Lyric\"].str.contains(\"chorus\")].head() # chorus, verse"
   ]
  },
  {
   "cell_type": "code",
   "execution_count": 36,
   "id": "5b26f7fa",
   "metadata": {},
   "outputs": [],
   "source": [
    "# TODO: Should we also filter numbers?\n",
    "df = df.replace(\"verse|chorus\", \"\", regex=True)"
   ]
  },
  {
   "cell_type": "code",
   "execution_count": 38,
   "id": "24496f4e",
   "metadata": {},
   "outputs": [
    {
     "data": {
      "text/html": [
       "<div>\n",
       "<style scoped>\n",
       "    .dataframe tbody tr th:only-of-type {\n",
       "        vertical-align: middle;\n",
       "    }\n",
       "\n",
       "    .dataframe tbody tr th {\n",
       "        vertical-align: top;\n",
       "    }\n",
       "\n",
       "    .dataframe thead th {\n",
       "        text-align: right;\n",
       "    }\n",
       "</style>\n",
       "<table border=\"1\" class=\"dataframe\">\n",
       "  <thead>\n",
       "    <tr style=\"text-align: right;\">\n",
       "      <th></th>\n",
       "      <th>SName</th>\n",
       "      <th>SLink</th>\n",
       "      <th>Lyric</th>\n",
       "      <th>Artist</th>\n",
       "      <th>Genres</th>\n",
       "      <th>Tags</th>\n",
       "    </tr>\n",
       "  </thead>\n",
       "  <tbody>\n",
       "  </tbody>\n",
       "</table>\n",
       "</div>"
      ],
      "text/plain": [
       "Empty DataFrame\n",
       "Columns: [SName, SLink, Lyric, Artist, Genres, Tags]\n",
       "Index: []"
      ]
     },
     "execution_count": 38,
     "metadata": {},
     "output_type": "execute_result"
    }
   ],
   "source": [
    "# Check if keywords were removed correctly\n",
    "df[df[\"Lyric\"].str.contains(\"chorus\")].head() # chorus, verse"
   ]
  },
  {
   "attachments": {},
   "cell_type": "markdown",
   "id": "7da32e5d",
   "metadata": {},
   "source": [
    "## Save data"
   ]
  },
  {
   "cell_type": "code",
   "execution_count": null,
   "id": "981f8ca7",
   "metadata": {},
   "outputs": [],
   "source": [
    "song_data_labels_cleaned_path = os.path.join(DATA_DIR, \"song-data-labels-cleaned.csv\")\n",
    "df_songs_no_duplicates.to_csv(song_data_labels_cleaned_path, index=False)"
   ]
  }
 ],
 "metadata": {
  "kernelspec": {
   "display_name": "base",
   "language": "python",
   "name": "python3"
  },
  "language_info": {
   "codemirror_mode": {
    "name": "ipython",
    "version": 3
   },
   "file_extension": ".py",
   "mimetype": "text/x-python",
   "name": "python",
   "nbconvert_exporter": "python",
   "pygments_lexer": "ipython3",
   "version": "3.9.7"
  },
  "vscode": {
   "interpreter": {
    "hash": "63a08f5cb09b09b388a6eac1d6dc7fdc9ccccb4d806ff9b6a9e79e9441b362a6"
   }
  }
 },
 "nbformat": 4,
 "nbformat_minor": 5
}
