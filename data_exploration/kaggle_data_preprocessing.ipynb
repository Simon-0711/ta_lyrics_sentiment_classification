{
 "cells": [
  {
   "cell_type": "code",
   "execution_count": 46,
   "id": "6b922086-445c-45d7-bf0f-2f53dd826626",
   "metadata": {},
   "outputs": [],
   "source": [
    "import pandas as pd\n",
    "import numpy as np\n",
    "import os\n",
    "\n",
    "import matplotlib.pyplot as plt\n",
    "import scipy.stats as st"
   ]
  },
  {
   "cell_type": "code",
   "execution_count": 47,
   "id": "8a202ec8",
   "metadata": {},
   "outputs": [],
   "source": [
    "DATA_DIR = \"data\""
   ]
  },
  {
   "cell_type": "markdown",
   "id": "9bb23070-6d90-4ae1-bec4-80bb00277d4a",
   "metadata": {},
   "source": [
    "# Load data"
   ]
  },
  {
   "cell_type": "code",
   "execution_count": 48,
   "id": "f7cd7d32-8cd0-4f6d-8b4a-e3e1b8a8cd3f",
   "metadata": {},
   "outputs": [],
   "source": [
    "# lyrics data path\n",
    "lyrics_path = os.path.join(DATA_DIR, \"lyrics-data.csv\")\n",
    "df_lyrics = pd.read_csv(lyrics_path)\n",
    "\n",
    "# artists data path\n",
    "artists_path = os.path.join(DATA_DIR, \"artists-data.csv\")\n",
    "df_artists = pd.read_csv(artists_path)"
   ]
  },
  {
   "attachments": {},
   "cell_type": "markdown",
   "id": "4d0c5be4",
   "metadata": {},
   "source": [
    "## Remove non english songs"
   ]
  },
  {
   "cell_type": "code",
   "execution_count": 49,
   "id": "9a9322fd",
   "metadata": {},
   "outputs": [],
   "source": [
    "# Filter for language en = english\n",
    "df_lyrics_en = df_lyrics[df_lyrics[\"language\"] == \"en\"]"
   ]
  },
  {
   "attachments": {},
   "cell_type": "markdown",
   "id": "e46dac62",
   "metadata": {},
   "source": [
    "## Remove songs with less than 70 and more than 1000 words"
   ]
  },
  {
   "cell_type": "code",
   "execution_count": 50,
   "id": "e91e4e69",
   "metadata": {},
   "outputs": [],
   "source": [
    "# Split each string column and count length\n",
    "df_lyrics_en = df_lyrics_en[\n",
    "    df_lyrics_en[\"Lyric\"].apply(lambda lyric: (len(lyric.split()) >= 70) & (len(lyric.split()) <= 1000))\n",
    "]"
   ]
  },
  {
   "attachments": {},
   "cell_type": "markdown",
   "id": "8199518b",
   "metadata": {},
   "source": [
    "## Merge songs and artists"
   ]
  },
  {
   "cell_type": "code",
   "execution_count": 51,
   "id": "bc23c54d",
   "metadata": {},
   "outputs": [],
   "source": [
    "# Merge artists and lyrics\n",
    "df_songs = pd.merge(\n",
    "    df_lyrics_en, \n",
    "    df_artists, \n",
    "    how=\"inner\",\n",
    "    left_on=\"ALink\",\n",
    "    right_on=\"Link\"\n",
    ")\n",
    "\n",
    "# Remove duplicate columns\n",
    "del df_songs[\"Link\"]"
   ]
  },
  {
   "cell_type": "markdown",
   "id": "20524b16",
   "metadata": {},
   "source": [
    "## Remove columns with duplicate or redundant information"
   ]
  },
  {
   "cell_type": "code",
   "execution_count": 52,
   "id": "61cb2b0c",
   "metadata": {},
   "outputs": [],
   "source": [
    "del df_songs[\"ALink\"]\n",
    "del df_songs[\"language\"]\n",
    "del df_songs[\"Songs\"]\n",
    "del df_songs[\"Popularity\"]"
   ]
  },
  {
   "attachments": {},
   "cell_type": "markdown",
   "id": "4ffe8537",
   "metadata": {},
   "source": [
    "## Remove duplicate rows"
   ]
  },
  {
   "cell_type": "code",
   "execution_count": 53,
   "id": "b66d8ec9",
   "metadata": {},
   "outputs": [],
   "source": [
    "df_songs_no_duplicates = df_songs.drop_duplicates(subset=['SLink'])"
   ]
  },
  {
   "attachments": {},
   "cell_type": "markdown",
   "id": "7f92c5a2",
   "metadata": {},
   "source": [
    "## Add labels from Last.fm"
   ]
  },
  {
   "attachments": {},
   "cell_type": "markdown",
   "id": "1b4babda",
   "metadata": {},
   "source": [
    "## Clean keywords from lyrics\n",
    "Some lyrics contain words like \"verse1\" or \"chorus\" instead of the full text, if there is repetition for example. \n",
    "In this step we will define those keywords (manually extracted from data) and remove them. "
   ]
  },
  {
   "attachments": {},
   "cell_type": "markdown",
   "id": "7da32e5d",
   "metadata": {},
   "source": [
    "## Save data"
   ]
  },
  {
   "cell_type": "code",
   "execution_count": 55,
   "id": "981f8ca7",
   "metadata": {},
   "outputs": [],
   "source": [
    "song_data_labels_cleaned_path = os.path.join(DATA_DIR, \"song-data-labels-cleaned.csv\")\n",
    "df_songs_no_duplicates.to_csv(song_data_labels_cleaned_path, index=False)"
   ]
  },
  {
   "cell_type": "code",
   "execution_count": null,
   "id": "f4241ed9",
   "metadata": {},
   "outputs": [],
   "source": []
  }
 ],
 "metadata": {
  "kernelspec": {
   "display_name": "text_analytics",
   "language": "python",
   "name": "python3"
  },
  "language_info": {
   "codemirror_mode": {
    "name": "ipython",
    "version": 3
   },
   "file_extension": ".py",
   "mimetype": "text/x-python",
   "name": "python",
   "nbconvert_exporter": "python",
   "pygments_lexer": "ipython3",
   "version": "3.10.4"
  },
  "vscode": {
   "interpreter": {
    "hash": "c031b2f58022ed1b654048e43eb129e98bc595d794ecca45c2f68c5a0dea8372"
   }
  }
 },
 "nbformat": 4,
 "nbformat_minor": 5
}
