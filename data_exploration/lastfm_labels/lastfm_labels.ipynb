{
 "cells": [
  {
   "cell_type": "code",
   "execution_count": null,
   "metadata": {},
   "outputs": [],
   "source": [
    "import requests\n",
    "import time\n",
    "\n",
    "import pandas as pd\n",
    "import matplotlib.pyplot as plt\n",
    "import pandas as pd\n",
    "from tqdm import tqdm\n",
    "import requests_cache\n",
    "\n",
    "requests_cache.install_cache()\n",
    "\n",
    "# Make the graphs a bit prettier, and bigger\n",
    "plt.style.use('ggplot')\n",
    "plt.rcParams['figure.figsize'] = (15, 5)\n",
    "plt.rcParams['font.family'] = 'sans-serif'\n",
    "\n",
    "%matplotlib inline"
   ]
  },
  {
   "cell_type": "code",
   "execution_count": null,
   "metadata": {},
   "outputs": [],
   "source": [
    "# TODO: Add normalization of the song names (remove (feat. ...))\n",
    "# TODO: Alternatively, load all songs from the artist and find out the mib to definitely find the song"
   ]
  },
  {
   "cell_type": "markdown",
   "metadata": {},
   "source": [
    "# Artist & Song Dataframe"
   ]
  },
  {
   "cell_type": "markdown",
   "metadata": {},
   "source": [
    "Load lyrics dataframe "
   ]
  },
  {
   "cell_type": "code",
   "execution_count": null,
   "metadata": {},
   "outputs": [],
   "source": [
    "lyrics_df = pd.read_csv(\"../data/lyrics-data.csv\")\n",
    "artists_df = pd.read_csv('../data/artists-data.csv')"
   ]
  },
  {
   "cell_type": "markdown",
   "metadata": {},
   "source": [
    "Show general information for the dataframes"
   ]
  },
  {
   "cell_type": "code",
   "execution_count": null,
   "metadata": {},
   "outputs": [],
   "source": [
    "lyrics_df.info()"
   ]
  },
  {
   "cell_type": "code",
   "execution_count": null,
   "metadata": {},
   "outputs": [],
   "source": [
    "artists_df.info()"
   ]
  },
  {
   "cell_type": "markdown",
   "metadata": {},
   "source": [
    "Create dataframe with song name and artist name (only English songs)"
   ]
  },
  {
   "cell_type": "code",
   "execution_count": null,
   "metadata": {},
   "outputs": [],
   "source": [
    "artists_songs_dataframe = pd.merge(artists_df, lyrics_df, how=\"inner\", left_on=\"Link\", right_on=\"ALink\")\n",
    "artists_songs_dataframe = artists_songs_dataframe[artists_songs_dataframe[\"language\"] == \"en\"][[\"Artist\", \"SName\"]]"
   ]
  },
  {
   "cell_type": "code",
   "execution_count": null,
   "metadata": {},
   "outputs": [],
   "source": [
    "artists_songs_dataframe.head()"
   ]
  },
  {
   "cell_type": "code",
   "execution_count": null,
   "metadata": {},
   "outputs": [],
   "source": [
    "# Number of English songs\n",
    "print(f\"Number of English songs: {artists_songs_dataframe['SName'].count()}\")\n",
    "\n",
    "# Number of all artists with English songs\n",
    "print(f\"Number of all artists with English songs: {artists_songs_dataframe['Artist'].nunique()}\")"
   ]
  },
  {
   "cell_type": "markdown",
   "metadata": {},
   "source": [
    "# LastFM API - Scraping Tags"
   ]
  },
  {
   "cell_type": "markdown",
   "metadata": {},
   "source": [
    "Based on: https://www.dataquest.io/blog/last-fm-api-python/"
   ]
  },
  {
   "cell_type": "code",
   "execution_count": null,
   "metadata": {},
   "outputs": [],
   "source": [
    "API_KEY = 'b0fc842b94c2e6a0b4458c1686a24f61'\n",
    "USER_AGENT = 'idsta_project'"
   ]
  },
  {
   "cell_type": "code",
   "execution_count": null,
   "metadata": {},
   "outputs": [],
   "source": [
    "def lastfm_get(payload):\n",
    "    \"\"\"Send a GET request to lastfm API to receive, e.g., song tags.\n",
    "\n",
    "    :param payload: payload for the API request (contains, e.g., 'method', 'artist', 'track').\n",
    "    \n",
    "    :return: Response for the API request to lastfm.\n",
    "    :rtype: requests.Response\n",
    "    \"\"\"\n",
    "    \n",
    "    # define headers and URL\n",
    "    headers = {'user-agent': USER_AGENT}\n",
    "    url = 'https://ws.audioscrobbler.com/2.0/'\n",
    "\n",
    "    # Add API key and format to the payload\n",
    "    payload['api_key'] = API_KEY\n",
    "    payload['format'] = 'json'\n",
    "\n",
    "    response = requests.get(url, headers=headers, params=payload)\n",
    "    return response"
   ]
  },
  {
   "cell_type": "markdown",
   "metadata": {},
   "source": [
    "Get top tags for all songs"
   ]
  },
  {
   "cell_type": "code",
   "execution_count": null,
   "metadata": {},
   "outputs": [],
   "source": [
    "def lookup_tags_for_artist_song(row):\n",
    "    \"\"\"Return a tags string containing all tags for a given artist and song.\n",
    "\n",
    "    :param row: dataframe row consisting of columns 'Artist' and 'SName' specifying the artist and song name.\n",
    "    \n",
    "    :return: tags for a given artist and song.\n",
    "    :rtype: String\n",
    "    \"\"\"\n",
    "    \n",
    "    artist, song = row[\"Artist\"], row[\"SName\"]\n",
    "    \n",
    "    response = lastfm_get({\n",
    "        'method': 'track.getTopTags',\n",
    "        'artist':  artist,\n",
    "        'track': song\n",
    "    })\n",
    "\n",
    "    # if there's an error, just return nothing\n",
    "    if response.status_code != 200 or \"error\" in response.text:\n",
    "        return \"NoSongFound\"\n",
    "\n",
    "    # extract the top tags and turn them into a string\n",
    "    # TODO: Could later also look at track tag count\n",
    "    tags = [t['name'] for t in response.json()['toptags']['tag']]\n",
    "    tags_str = ', '.join(tags)\n",
    "    if tags_str == \"\":\n",
    "        tags_str =\"NoTagsFound\" \n",
    "\n",
    "    # rate limiting (to not get banned by lastfm API)\n",
    "    if not getattr(response, 'from_cache', False):\n",
    "        time.sleep(0.25)\n",
    "    return tags_str"
   ]
  },
  {
   "cell_type": "code",
   "execution_count": null,
   "metadata": {},
   "outputs": [],
   "source": [
    "# Shorten artists_songs_dataframe for testing purposes\n",
    "artists_songs_dataframe = artists_songs_dataframe[artists_songs_dataframe[\"Artist\"] == \"Eminem\"]\n",
    "artists_songs_dataframe.head()"
   ]
  },
  {
   "cell_type": "code",
   "execution_count": null,
   "metadata": {},
   "outputs": [],
   "source": [
    "# Scrape tags from lastfm for given songs of given artists (within the artists_songs_dataframe)\n",
    "tqdm.pandas()\n",
    "artists_songs_dataframe['Tags'] = artists_songs_dataframe[[\"Artist\", \"SName\"]].progress_apply(lambda row: lookup_tags_for_artist_song(row), axis=1)"
   ]
  },
  {
   "cell_type": "code",
   "execution_count": null,
   "metadata": {},
   "outputs": [],
   "source": [
    "artists_songs_dataframe.head(50)"
   ]
  },
  {
   "cell_type": "markdown",
   "metadata": {},
   "source": [
    "# Preload Tags Dataframe"
   ]
  },
  {
   "cell_type": "code",
   "execution_count": null,
   "metadata": {},
   "outputs": [],
   "source": [
    "artists_songs_dataframe = pd.read_csv('data/tags_first_third.csv')\n",
    "artists_songs_dataframe.head(20)"
   ]
  },
  {
   "cell_type": "markdown",
   "metadata": {},
   "source": [
    "# Mood keyword distribution"
   ]
  },
  {
   "cell_type": "code",
   "execution_count": null,
   "id": "a4abd54f",
   "metadata": {},
   "outputs": [],
   "source": [
    "MOOD_CATEGORIES = {\n",
    "    'calm': ['calm', 'comfort', 'quiet', 'serene', 'mellow', 'chill out'],\n",
    "    'sad': ['sadness', 'unhappy', 'melancholic', 'melancholy'],\n",
    "    'happy': ['happy', 'happiness', 'happy songs', 'happy music'],\n",
    "    'romantic': ['romantic', 'romantic music'],\n",
    "    'upbeat': ['upbeat', 'gleeful', 'high spirits', 'zest', 'enthusiastic'],\n",
    "    'depressed': ['depressed', 'blue', 'dark', 'depressive', 'dreary'],\n",
    "    'anger': ['anger', 'angry', 'choleric', 'fury', 'outraged', 'rage'],\n",
    "    'grief': ['grief', 'heartbreak', 'mournful', 'sorrow', 'sorry'],\n",
    "    'dreamy': ['dreamy'],\n",
    "    'cheerful': ['cheerful', 'cheer up', 'festive', 'jolly', 'jovial', 'merry'],\n",
    "    'brooding': ['brooding', 'contemplative', 'meditative', 'reflective'],\n",
    "    'aggression': ['aggression', 'aggressive'],\n",
    "    'confident': ['confident', 'encouraging', 'encouragement', 'optimism'],\n",
    "    'angst': ['angst', 'anxiety', 'anxious', 'jumpy', 'nervous', 'angsty'],\n",
    "    'earnest': ['earnest', 'heartfelt'],\n",
    "    'desire': ['desire', 'hope', 'hopeful', 'mood: hopeful'],\n",
    "    'pessimism': ['pessimism', 'cynical', 'pessimistic', 'weltschmerz'],\n",
    "    'excitement': ['excitement', 'exciting', 'exhilarating', 'thrill', 'ardor']\n",
    "}"
   ]
  },
  {
   "cell_type": "code",
   "execution_count": null,
   "metadata": {},
   "outputs": [],
   "source": [
    "# Compute number of songs that can be assigned to a mood based on occuring keywords\n",
    "num_moods = len(MOOD_CATEGORIES)\n",
    "keyword_distibution = dict(zip(MOOD_CATEGORIES.keys(), [0]*num_moods))\n",
    "for tag_list in artists_songs_dataframe[\"Tags\"]:\n",
    "    for mood in MOOD_CATEGORIES:\n",
    "        for keyword in MOOD_CATEGORIES[mood]:\n",
    "            if keyword in tag_list:                \n",
    "                keyword_distibution[mood] += 1"
   ]
  },
  {
   "cell_type": "code",
   "execution_count": null,
   "id": "263d5c98",
   "metadata": {},
   "outputs": [],
   "source": [
    "# This approach only considers the first appearing mood keyword for the overall mood of the song\n",
    "# --> Will assign the moods more sophisticatedly later in the project\n",
    "song_distribution= dict(zip(MOOD_CATEGORIES.keys(), [0]*num_moods))\n",
    "\n",
    "for tag_list in artists_songs_dataframe[\"Tags\"]:\n",
    "    for mood in MOOD_CATEGORIES:\n",
    "        for keyword in MOOD_CATEGORIES[mood]:\n",
    "            if keyword in tag_list:\n",
    "                song_distribution[mood] += 1\n",
    "                break\n"
   ]
  },
  {
   "cell_type": "code",
   "execution_count": null,
   "id": "460f8ef3",
   "metadata": {},
   "outputs": [],
   "source": [
    "labels = keyword_distibution.keys()\n",
    "data = keyword_distibution.values()\n",
    "fig, ax = plt.subplots()\n",
    "plt.xticks(rotation = 75)\n",
    "ax.bar(labels, data)\n",
    "\n",
    "ax.set_ylabel('Appearance of keywords')\n",
    "plt.title('Total Keyword distribution')\n",
    "plt.show()\n",
    "\n",
    "# The figure shows how often the keywords of a mood category appear in all english texts"
   ]
  },
  {
   "cell_type": "code",
   "execution_count": null,
   "id": "7d836689",
   "metadata": {},
   "outputs": [],
   "source": [
    "# The figure shows in how many songs the keywords of a mood category appear \n",
    "# (If for instance 2 keywords appear in 1 text, this counts as 1)\",\n",
    "\n",
    "labels = keyword_distibution.keys()\n",
    "data = keyword_distibution.values()\n",
    "fig, ax = plt.subplots()\n",
    "plt.xticks(rotation = 75)\n",
    "ax.bar(labels, data)\n",
    "ax.set_ylabel('Appearance of Moods in songtexts')\n",
    "plt.title('Total Mood distribution')\n",
    "plt.show()"
   ]
  },
  {
   "cell_type": "markdown",
   "id": "b50a84f1",
   "metadata": {},
   "source": [
    "### Now plot the distribution with regards to the total ammount of songs"
   ]
  },
  {
   "cell_type": "code",
   "execution_count": null,
   "id": "5c3501a8",
   "metadata": {},
   "outputs": [],
   "source": [
    "# The figure shows in how many songs the keywords of a mood category appear \n",
    "# (If for instance 2 keywords appear in 1 text, this counts as 1)\",\n",
    "\n",
    "labels = keyword_distibution.keys()\n",
    "data = keyword_distibution.values()\n",
    "fig, ax = plt.subplots()\n",
    "plt.xticks(rotation = 75)\n",
    "ax.bar(labels, data)\n",
    "ax.set_ylabel('Appearance of Moods in songtexts with total ammouint of songs')\n",
    "plt.title('Total Mood distribution')\n",
    "plt.axhline(y = len(artists_songs_dataframe[\"Tags\"]), color = 'r', linestyle = '-', label = \"Total ammount of songs\")\n",
    "plt.legend(bbox_to_anchor = (1.0, 1), loc = 'upper center')\n",
    "plt.show()"
   ]
  },
  {
   "cell_type": "markdown",
   "id": "a0803346",
   "metadata": {},
   "source": [
    "## Now we will calculate how many songs can be identified with a mood at all"
   ]
  },
  {
   "cell_type": "code",
   "execution_count": null,
   "id": "11437c14",
   "metadata": {},
   "outputs": [],
   "source": [
    "songs_without_moods = 0\n",
    "\n",
    "for tag_list in artists_songs_dataframe[\"Tags\"]:\n",
    "    flag = 0\n",
    "    for mood in MOOD_CATEGORIES:\n",
    "        for keyword in MOOD_CATEGORIES[mood]:\n",
    "            if keyword in tag_list:\n",
    "                flag = 1\n",
    "                break\n",
    "    if flag == 0:\n",
    "        songs_without_moods += 1\n"
   ]
  },
  {
   "cell_type": "code",
   "execution_count": null,
   "id": "b6d7ac8e",
   "metadata": {},
   "outputs": [],
   "source": [
    "# the following figure shows the ammount of songs not containing any of the mood keywords\n",
    "\n",
    "labels = [\"total ammount of songs\", \"without moods\", \"with moods\"]\n",
    "data = [ len(artists_songs_dataframe[\"Tags\"]), songs_without_moods, len(artists_songs_dataframe[\"Tags\"])-songs_without_moods ]\n",
    "fig, ax = plt.subplots()\n",
    "plt.xticks(rotation = 75)\n",
    "ax.bar(labels, data)\n",
    "ax.set_ylabel('Number of songs')\n",
    "plt.title('Songs without moods')\n",
    "plt.show()"
   ]
  },
  {
   "cell_type": "markdown",
   "metadata": {},
   "source": [
    "# Mood keyword distribution (with advanced keyword set)"
   ]
  },
  {
   "cell_type": "markdown",
   "metadata": {},
   "source": [
    "Concept based on: https://github.com/workmanjack/lyric-mood-classification"
   ]
  },
  {
   "cell_type": "markdown",
   "metadata": {},
   "source": [
    "### Expanding the Categories\n",
    "\n",
    "The last.fm dataset is generated by users without scientific rigor in mind. There is a chance that searching for an exact match on a mood and its related moods will not always yield all possible matches. In this section, we will explore additional tags that match with each category."
   ]
  },
  {
   "cell_type": "code",
   "execution_count": null,
   "metadata": {},
   "outputs": [],
   "source": [
    "# TODO: Maybe add filters afterwards (e.g., for words like happy -> unhappy)\n",
    "\n",
    "def find_tags_containing_keyword(df):\n",
    "    \"\"\"Return an advanced mood keyword dictionary based on our dataset and the base mood keywords (defined above).\n",
    "\n",
    "    :param df: dataframe consisting of columns 'Artist', 'SName' and 'Tags' specifying the artist, song name and tags defined by users.\n",
    "    \n",
    "    :return: dictionary containing more mood keywords (values) for each mood (key) based on our dataset and the base mood keywords.\n",
    "    :rtype: Dictionary\n",
    "    \"\"\"\n",
    "    \n",
    "    # Get all unique tags\n",
    "    unique_tag_list = list(set([tag.lower() for tags in df[\"Tags\"] for tag in tags.split(\", \")]))\n",
    "    \n",
    "    # Check for each keyword of specific mood if this keyword is contained in the tags (do lower casing)\n",
    "    advanced_mood_keyword_dict = {}\n",
    "    for mood, keywords in MOOD_CATEGORIES.items():\n",
    "        advanced_mood_keyword_dict[mood] = []\n",
    "        for mood_keyword in keywords:\n",
    "            for tag in unique_tag_list:\n",
    "                if mood_keyword in tag:\n",
    "                    advanced_mood_keyword_dict[mood].append(tag)\n",
    "    \n",
    "    return advanced_mood_keyword_dict"
   ]
  },
  {
   "cell_type": "code",
   "execution_count": null,
   "metadata": {},
   "outputs": [],
   "source": [
    "# TODO: Analyze mood keywords and look for missmatch (e.g., for words like happy -> unhappy)\n",
    "# TODO: Create manual filters\n",
    "\n",
    "advanced_mood_keyword_dict = find_tags_containing_keyword(artists_songs_dataframe)\n",
    "\n",
    "print(\"Base mood keywords:\")\n",
    "print(MOOD_CATEGORIES)\n",
    "\n",
    "print(\"Advanced mood keywords:\")\n",
    "print(advanced_mood_keyword_dict)"
   ]
  },
  {
   "cell_type": "markdown",
   "metadata": {},
   "source": [
    "### Advanced mood keywords distribution"
   ]
  },
  {
   "cell_type": "code",
   "execution_count": null,
   "metadata": {},
   "outputs": [],
   "source": [
    "# Compute number of songs that can be assigned to a mood based on occuring keywords\n",
    "num_moods = len(advanced_mood_keyword_dict)\n",
    "keyword_distibution = dict(zip(advanced_mood_keyword_dict.keys(), [0]*num_moods))\n",
    "for tag_list in artists_songs_dataframe[\"Tags\"]:\n",
    "    for mood in advanced_mood_keyword_dict:\n",
    "        for keyword in advanced_mood_keyword_dict[mood]:\n",
    "            if keyword in tag_list:                \n",
    "                keyword_distibution[mood] += 1"
   ]
  },
  {
   "cell_type": "code",
   "execution_count": null,
   "id": "263d5c98",
   "metadata": {},
   "outputs": [],
   "source": [
    "# This approach only considers the first appearing mood keyword for the overall mood of the song\n",
    "# --> Will assign the moods more sophisticatedly later in the project\n",
    "song_distribution= dict(zip(advanced_mood_keyword_dict.keys(), [0]*num_moods))\n",
    "\n",
    "for tag_list in artists_songs_dataframe[\"Tags\"]:\n",
    "    for mood in advanced_mood_keyword_dict:\n",
    "        for keyword in advanced_mood_keyword_dict[mood]:\n",
    "            if keyword in tag_list:\n",
    "                song_distribution[mood] += 1\n",
    "                break\n"
   ]
  },
  {
   "cell_type": "code",
   "execution_count": null,
   "id": "460f8ef3",
   "metadata": {},
   "outputs": [],
   "source": [
    "labels = keyword_distibution.keys()\n",
    "data = keyword_distibution.values()\n",
    "fig, ax = plt.subplots()\n",
    "plt.xticks(rotation = 75)\n",
    "ax.bar(labels, data)\n",
    "\n",
    "ax.set_ylabel('Appearance of keywords')\n",
    "plt.title('Total Keyword distribution')\n",
    "plt.show()\n",
    "\n",
    "# The figure shows how often the keywords of a mood category appear in all english texts"
   ]
  },
  {
   "cell_type": "code",
   "execution_count": null,
   "id": "7d836689",
   "metadata": {},
   "outputs": [],
   "source": [
    "# The figure shows in how many songs the keywords of a mood category appear \n",
    "# (If for instance 2 keywords appear in 1 text, this counts as 1)\",\n",
    "\n",
    "labels = keyword_distibution.keys()\n",
    "data = keyword_distibution.values()\n",
    "fig, ax = plt.subplots()\n",
    "plt.xticks(rotation = 75)\n",
    "ax.bar(labels, data)\n",
    "ax.set_ylabel('Appearance of Moods in songtexts')\n",
    "plt.title('Total Mood distribution')\n",
    "plt.show()"
   ]
  },
  {
   "cell_type": "markdown",
   "id": "b50a84f1",
   "metadata": {},
   "source": [
    "#### Now plot the distribution with regards to the total ammount of songs"
   ]
  },
  {
   "cell_type": "code",
   "execution_count": null,
   "id": "5c3501a8",
   "metadata": {},
   "outputs": [],
   "source": [
    "# The figure shows in how many songs the keywords of a mood category appear \n",
    "# (If for instance 2 keywords appear in 1 text, this counts as 1)\",\n",
    "\n",
    "labels = keyword_distibution.keys()\n",
    "data = keyword_distibution.values()\n",
    "fig, ax = plt.subplots()\n",
    "plt.xticks(rotation = 75)\n",
    "ax.bar(labels, data)\n",
    "ax.set_ylabel('Appearance of Moods in songtexts with total ammouint of songs')\n",
    "plt.title('Total Mood distribution')\n",
    "plt.axhline(y = len(artists_songs_dataframe[\"Tags\"]), color = 'r', linestyle = '-', label = \"Total ammount of songs\")\n",
    "plt.legend(bbox_to_anchor = (1.0, 1), loc = 'upper center')\n",
    "plt.show()"
   ]
  },
  {
   "cell_type": "markdown",
   "id": "a0803346",
   "metadata": {},
   "source": [
    "#### Now we will calculate how many songs can be identified with a mood at all"
   ]
  },
  {
   "cell_type": "code",
   "execution_count": null,
   "id": "11437c14",
   "metadata": {},
   "outputs": [],
   "source": [
    "songs_without_moods = 0\n",
    "\n",
    "for tag_list in artists_songs_dataframe[\"Tags\"]:\n",
    "    flag = 0\n",
    "    for mood in advanced_mood_keyword_dict:\n",
    "        for keyword in advanced_mood_keyword_dict[mood]:\n",
    "            if keyword in tag_list:\n",
    "                flag = 1\n",
    "                break\n",
    "    if flag == 0:\n",
    "        songs_without_moods += 1\n"
   ]
  },
  {
   "cell_type": "code",
   "execution_count": null,
   "id": "b6d7ac8e",
   "metadata": {},
   "outputs": [],
   "source": [
    "# the following figure shows the ammount of songs not containing any of the mood keywords\n",
    "\n",
    "labels = [\"total ammount of songs\", \"without moods\", \"with moods\"]\n",
    "data = [ len(artists_songs_dataframe[\"Tags\"]), songs_without_moods, len(artists_songs_dataframe[\"Tags\"])-songs_without_moods ]\n",
    "fig, ax = plt.subplots()\n",
    "plt.xticks(rotation = 75)\n",
    "ax.bar(labels, data)\n",
    "ax.set_ylabel('Number of songs')\n",
    "plt.title('Songs without moods')\n",
    "plt.show()"
   ]
  }
 ],
 "metadata": {
  "kernelspec": {
   "display_name": "Python 3.9.13 ('base')",
   "language": "python",
   "name": "python3"
  },
  "language_info": {
   "codemirror_mode": {
    "name": "ipython",
    "version": 3
   },
   "file_extension": ".py",
   "mimetype": "text/x-python",
   "name": "python",
   "nbconvert_exporter": "python",
   "pygments_lexer": "ipython3",
   "version": "3.9.13"
  },
  "vscode": {
   "interpreter": {
    "hash": "8b6a09c6c881074955117e125c5183f144e2c1816a788965e3262d942faf08f4"
   }
  }
 },
 "nbformat": 4,
 "nbformat_minor": 1
}
