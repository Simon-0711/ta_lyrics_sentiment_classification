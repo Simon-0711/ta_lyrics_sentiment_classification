{
 "cells": [
  {
   "cell_type": "code",
   "execution_count": 39,
   "metadata": {},
   "outputs": [
    {
     "name": "stdout",
     "output_type": "stream",
     "text": [
      "Pretty printing has been turned ON\n"
     ]
    }
   ],
   "source": [
    "import json\n",
    "import os\n",
    "import requests\n",
    "\n",
    "import pandas as pd\n",
    "import numpy as np\n",
    "import matplotlib.pyplot as plt\n",
    "from pprint import pprint\n",
    "import pandas as pd\n",
    "from tqdm import tqdm\n",
    "import time\n",
    "\n",
    "# Make the graphs a bit prettier, and bigger\n",
    "plt.style.use('ggplot')\n",
    "plt.rcParams['figure.figsize'] = (15, 5)\n",
    "plt.rcParams['font.family'] = 'sans-serif'\n",
    "\n",
    "%pprint\n",
    "%matplotlib inline"
   ]
  },
  {
   "cell_type": "code",
   "execution_count": 40,
   "metadata": {},
   "outputs": [],
   "source": [
    "import requests_cache\n",
    "\n",
    "requests_cache.install_cache()"
   ]
  },
  {
   "cell_type": "code",
   "execution_count": 41,
   "metadata": {},
   "outputs": [],
   "source": [
    "#TODO: Replace ' ' with \" \""
   ]
  },
  {
   "cell_type": "markdown",
   "metadata": {},
   "source": [
    "# Artist & Song Dataframe"
   ]
  },
  {
   "cell_type": "markdown",
   "metadata": {},
   "source": [
    "Load lyrics dataframe "
   ]
  },
  {
   "cell_type": "code",
   "execution_count": 42,
   "metadata": {},
   "outputs": [],
   "source": [
    "lyrics_df = pd.read_csv(\"../data/lyrics-data.csv\")\n",
    "artists_df = pd.read_csv('../data/artists-data.csv')"
   ]
  },
  {
   "cell_type": "markdown",
   "metadata": {},
   "source": [
    "Show general information for the dataframes"
   ]
  },
  {
   "cell_type": "code",
   "execution_count": 43,
   "metadata": {},
   "outputs": [
    {
     "name": "stdout",
     "output_type": "stream",
     "text": [
      "<class 'pandas.core.frame.DataFrame'>\n",
      "RangeIndex: 379931 entries, 0 to 379930\n",
      "Data columns (total 5 columns):\n",
      " #   Column    Non-Null Count   Dtype \n",
      "---  ------    --------------   ----- \n",
      " 0   ALink     379930 non-null  object\n",
      " 1   SName     379928 non-null  object\n",
      " 2   SLink     379930 non-null  object\n",
      " 3   Lyric     379854 non-null  object\n",
      " 4   language  365296 non-null  object\n",
      "dtypes: object(5)\n",
      "memory usage: 14.5+ MB\n"
     ]
    }
   ],
   "source": [
    "lyrics_df.info()"
   ]
  },
  {
   "cell_type": "code",
   "execution_count": 44,
   "metadata": {},
   "outputs": [
    {
     "name": "stdout",
     "output_type": "stream",
     "text": [
      "<class 'pandas.core.frame.DataFrame'>\n",
      "RangeIndex: 4168 entries, 0 to 4167\n",
      "Data columns (total 5 columns):\n",
      " #   Column      Non-Null Count  Dtype  \n",
      "---  ------      --------------  -----  \n",
      " 0   Artist      4167 non-null   object \n",
      " 1   Genres      4163 non-null   object \n",
      " 2   Songs       4167 non-null   float64\n",
      " 3   Popularity  4166 non-null   float64\n",
      " 4   Link        4167 non-null   object \n",
      "dtypes: float64(2), object(3)\n",
      "memory usage: 162.9+ KB\n"
     ]
    }
   ],
   "source": [
    "artists_df.info()"
   ]
  },
  {
   "cell_type": "markdown",
   "metadata": {},
   "source": [
    "Create dataframe with song name and artist name (only English songs)"
   ]
  },
  {
   "cell_type": "code",
   "execution_count": 69,
   "metadata": {},
   "outputs": [],
   "source": [
    "artists_songs_dataframe = pd.merge(artists_df, lyrics_df, how=\"inner\", left_on=\"Link\", right_on=\"ALink\")\n",
    "artists_songs_dataframe = artists_songs_dataframe[artists_songs_dataframe[\"language\"] == \"en\"][[\"Artist\", \"SName\"]]"
   ]
  },
  {
   "cell_type": "code",
   "execution_count": 46,
   "metadata": {},
   "outputs": [
    {
     "data": {
      "text/html": [
       "<div>\n",
       "<style scoped>\n",
       "    .dataframe tbody tr th:only-of-type {\n",
       "        vertical-align: middle;\n",
       "    }\n",
       "\n",
       "    .dataframe tbody tr th {\n",
       "        vertical-align: top;\n",
       "    }\n",
       "\n",
       "    .dataframe thead th {\n",
       "        text-align: right;\n",
       "    }\n",
       "</style>\n",
       "<table border=\"1\" class=\"dataframe\">\n",
       "  <thead>\n",
       "    <tr style=\"text-align: right;\">\n",
       "      <th></th>\n",
       "      <th>Artist</th>\n",
       "      <th>SName</th>\n",
       "    </tr>\n",
       "  </thead>\n",
       "  <tbody>\n",
       "    <tr>\n",
       "      <th>69</th>\n",
       "      <td>Ivete Sangalo</td>\n",
       "      <td>Careless Whisper</td>\n",
       "    </tr>\n",
       "    <tr>\n",
       "      <th>86</th>\n",
       "      <td>Ivete Sangalo</td>\n",
       "      <td>Could You Be Loved / Citação Musical do Rap: S...</td>\n",
       "    </tr>\n",
       "    <tr>\n",
       "      <th>88</th>\n",
       "      <td>Ivete Sangalo</td>\n",
       "      <td>Cruisin' (Part. Saulo)</td>\n",
       "    </tr>\n",
       "    <tr>\n",
       "      <th>111</th>\n",
       "      <td>Ivete Sangalo</td>\n",
       "      <td>Easy</td>\n",
       "    </tr>\n",
       "    <tr>\n",
       "      <th>140</th>\n",
       "      <td>Ivete Sangalo</td>\n",
       "      <td>For Your Babies (The Voice cover)</td>\n",
       "    </tr>\n",
       "  </tbody>\n",
       "</table>\n",
       "</div>"
      ],
      "text/plain": [
       "            Artist                                              SName\n",
       "69   Ivete Sangalo                                   Careless Whisper\n",
       "86   Ivete Sangalo  Could You Be Loved / Citação Musical do Rap: S...\n",
       "88   Ivete Sangalo                             Cruisin' (Part. Saulo)\n",
       "111  Ivete Sangalo                                               Easy\n",
       "140  Ivete Sangalo                  For Your Babies (The Voice cover)"
      ]
     },
     "execution_count": 46,
     "metadata": {},
     "output_type": "execute_result"
    }
   ],
   "source": [
    "artists_songs_dataframe.head()"
   ]
  },
  {
   "cell_type": "code",
   "execution_count": 47,
   "metadata": {},
   "outputs": [
    {
     "data": {
      "text/html": [
       "<div>\n",
       "<style scoped>\n",
       "    .dataframe tbody tr th:only-of-type {\n",
       "        vertical-align: middle;\n",
       "    }\n",
       "\n",
       "    .dataframe tbody tr th {\n",
       "        vertical-align: top;\n",
       "    }\n",
       "\n",
       "    .dataframe thead th {\n",
       "        text-align: right;\n",
       "    }\n",
       "</style>\n",
       "<table border=\"1\" class=\"dataframe\">\n",
       "  <thead>\n",
       "    <tr style=\"text-align: right;\">\n",
       "      <th></th>\n",
       "      <th>Artist</th>\n",
       "      <th>SName</th>\n",
       "    </tr>\n",
       "  </thead>\n",
       "  <tbody>\n",
       "    <tr>\n",
       "      <th>170568</th>\n",
       "      <td>Eminem</td>\n",
       "      <td>Mockingbird</td>\n",
       "    </tr>\n",
       "  </tbody>\n",
       "</table>\n",
       "</div>"
      ],
      "text/plain": [
       "        Artist        SName\n",
       "170568  Eminem  Mockingbird"
      ]
     },
     "execution_count": 47,
     "metadata": {},
     "output_type": "execute_result"
    }
   ],
   "source": [
    "artists_songs_dataframe[(artists_songs_dataframe[\"Artist\"] == \"Eminem\") & (artists_songs_dataframe[\"SName\"] == \"Mockingbird\")]"
   ]
  },
  {
   "cell_type": "code",
   "execution_count": 48,
   "metadata": {},
   "outputs": [
    {
     "data": {
      "text/html": [
       "<div>\n",
       "<style scoped>\n",
       "    .dataframe tbody tr th:only-of-type {\n",
       "        vertical-align: middle;\n",
       "    }\n",
       "\n",
       "    .dataframe tbody tr th {\n",
       "        vertical-align: top;\n",
       "    }\n",
       "\n",
       "    .dataframe thead th {\n",
       "        text-align: right;\n",
       "    }\n",
       "</style>\n",
       "<table border=\"1\" class=\"dataframe\">\n",
       "  <thead>\n",
       "    <tr style=\"text-align: right;\">\n",
       "      <th></th>\n",
       "      <th>Artist</th>\n",
       "      <th>SName</th>\n",
       "    </tr>\n",
       "  </thead>\n",
       "  <tbody>\n",
       "    <tr>\n",
       "      <th>170557</th>\n",
       "      <td>Eminem</td>\n",
       "      <td>Lose Yourself</td>\n",
       "    </tr>\n",
       "    <tr>\n",
       "      <th>170558</th>\n",
       "      <td>Eminem</td>\n",
       "      <td>The Real Slim Shady</td>\n",
       "    </tr>\n",
       "    <tr>\n",
       "      <th>170559</th>\n",
       "      <td>Eminem</td>\n",
       "      <td>Rap God</td>\n",
       "    </tr>\n",
       "    <tr>\n",
       "      <th>170560</th>\n",
       "      <td>Eminem</td>\n",
       "      <td>Without Me</td>\n",
       "    </tr>\n",
       "    <tr>\n",
       "      <th>170561</th>\n",
       "      <td>Eminem</td>\n",
       "      <td>Stan (feat. Dido)</td>\n",
       "    </tr>\n",
       "    <tr>\n",
       "      <th>...</th>\n",
       "      <td>...</td>\n",
       "      <td>...</td>\n",
       "    </tr>\n",
       "    <tr>\n",
       "      <th>171038</th>\n",
       "      <td>Eminem</td>\n",
       "      <td>You Gon' Learn (Feat. Royce da 5'9\" &amp; White Gold)</td>\n",
       "    </tr>\n",
       "    <tr>\n",
       "      <th>171039</th>\n",
       "      <td>Eminem</td>\n",
       "      <td>You Still Love Me</td>\n",
       "    </tr>\n",
       "    <tr>\n",
       "      <th>171040</th>\n",
       "      <td>Eminem</td>\n",
       "      <td>You're Never Over</td>\n",
       "    </tr>\n",
       "    <tr>\n",
       "      <th>171041</th>\n",
       "      <td>Eminem</td>\n",
       "      <td>Zelda Rap (Remix)</td>\n",
       "    </tr>\n",
       "    <tr>\n",
       "      <th>171042</th>\n",
       "      <td>Eminem</td>\n",
       "      <td>Zeus (ft. White Gold)</td>\n",
       "    </tr>\n",
       "  </tbody>\n",
       "</table>\n",
       "<p>484 rows × 2 columns</p>\n",
       "</div>"
      ],
      "text/plain": [
       "        Artist                                              SName\n",
       "170557  Eminem                                      Lose Yourself\n",
       "170558  Eminem                                The Real Slim Shady\n",
       "170559  Eminem                                            Rap God\n",
       "170560  Eminem                                         Without Me\n",
       "170561  Eminem                                  Stan (feat. Dido)\n",
       "...        ...                                                ...\n",
       "171038  Eminem  You Gon' Learn (Feat. Royce da 5'9\" & White Gold)\n",
       "171039  Eminem                                  You Still Love Me\n",
       "171040  Eminem                                  You're Never Over\n",
       "171041  Eminem                                  Zelda Rap (Remix)\n",
       "171042  Eminem                              Zeus (ft. White Gold)\n",
       "\n",
       "[484 rows x 2 columns]"
      ]
     },
     "execution_count": 48,
     "metadata": {},
     "output_type": "execute_result"
    }
   ],
   "source": [
    "artists_songs_dataframe[artists_songs_dataframe[\"Artist\"] == \"Eminem\"]"
   ]
  },
  {
   "cell_type": "code",
   "execution_count": 49,
   "metadata": {},
   "outputs": [
    {
     "name": "stdout",
     "output_type": "stream",
     "text": [
      "Number of English songs: 191385\n",
      "Number of all artists with English songs: 2488\n"
     ]
    }
   ],
   "source": [
    "# Number of English songs\n",
    "print(f\"Number of English songs: {artists_songs_dataframe['SName'].count()}\")\n",
    "\n",
    "# Number of all artists with English songs\n",
    "print(f\"Number of all artists with English songs: {artists_songs_dataframe['Artist'].nunique()}\")"
   ]
  },
  {
   "cell_type": "code",
   "execution_count": 50,
   "metadata": {},
   "outputs": [],
   "source": [
    "# TODO: Add normalization of the song names (remove (feat. ...))\n",
    "# TODO: Alternatively, load all songs from the artist and find out the mib to definitely find the song"
   ]
  },
  {
   "cell_type": "markdown",
   "metadata": {},
   "source": [
    "# Lastfm DB (Baseline Github Project)"
   ]
  },
  {
   "cell_type": "code",
   "execution_count": 51,
   "metadata": {},
   "outputs": [],
   "source": [
    "# TODO: Analyze artists and song names in lastfm dataset\n",
    "# TODO: Normalize song names? Transform to lowercase? Remove \"feat\", ...\n",
    "# TODO: Check similarly as in baseline project for similar mood keywords (e.g. with stemming, ...)"
   ]
  },
  {
   "cell_type": "code",
   "execution_count": 52,
   "metadata": {},
   "outputs": [],
   "source": [
    "# TODO: Try their implementation first (make it running) --> When it works, test here\n",
    "\n",
    "# TODO: Copy and paste their code and database\n",
    "# TODO: Replace their db with updated db (add code for downloading theses songs)"
   ]
  },
  {
   "cell_type": "markdown",
   "metadata": {},
   "source": [
    "The following code snippets are based on code from: https://github.com/workmanjack/lyric-mood-classification, which included and advanced the code from following sources (http://millionsongdataset.com/sites/default/files/lastfm/demo_tags_db.py, https://www.tomordonez.com/get-schema-sqlite-python/)"
   ]
  },
  {
   "cell_type": "code",
   "execution_count": 53,
   "metadata": {},
   "outputs": [],
   "source": [
    "# Code from label_lyrics.py\n",
    "\n",
    "def sanitize(tag):\n",
    "    \"\"\"\n",
    "    sanitize a tag so it can be included or queried in the db\n",
    "    \"\"\"\n",
    "    tag = tag.replace(\"'\",\"''\")\n",
    "    return tag\n",
    "\n",
    "def query(db_conn, sql):\n",
    "    \"\"\"\n",
    "    Execute the provided sql query on the provided db.\n",
    "\n",
    "    WARNING: can cause memory issues\n",
    "    \"\"\"\n",
    "    response = db_conn.execute(sql)\n",
    "    data = response.fetchall()\n",
    "    return data"
   ]
  },
  {
   "cell_type": "code",
   "execution_count": 54,
   "metadata": {},
   "outputs": [],
   "source": [
    "# from Table 2 on pg 413 of http://www.ismir2009.ismir.net/proceedings/PS3-4.pdf\n",
    "MOOD_CATEGORIES = {\n",
    "    'calm': ['calm', 'comfort', 'quiet', 'serene', 'mellow', 'chill out'],\n",
    "    'sad': ['sadness', 'unhappy', 'melancholic', 'melancholy'],\n",
    "    'happy': ['happy', 'happiness', 'happy songs', 'happy music'],\n",
    "    'romantic': ['romantic', 'romantic music'],\n",
    "    'upbeat': ['upbeat', 'gleeful', 'high spirits', 'zest', 'enthusiastic'],\n",
    "    'depressed': ['depressed', 'blue', 'dark', 'depressive', 'dreary'],\n",
    "    'anger': ['anger', 'angry', 'choleric', 'fury', 'outraged', 'rage'],\n",
    "    'grief': ['grief', 'heartbreak', 'mournful', 'sorrow', 'sorry'],\n",
    "    'dreamy': ['dreamy'],\n",
    "    'cheerful': ['cheerful', 'cheer up', 'festive', 'jolly', 'jovial', 'merry'],\n",
    "    'brooding': ['brooding', 'contemplative', 'meditative', 'reflective'],\n",
    "    'aggression': ['aggression', 'aggressive'],\n",
    "    'confident': ['confident', 'encouraging', 'encouragement', 'optimism'],\n",
    "    'angst': ['angst', 'anxiety', 'anxious', 'jumpy', 'nervous', 'angsty'],\n",
    "    'earnest': ['earnest', 'heartfelt'],\n",
    "    'desire': ['desire', 'hope', 'hopeful', 'mood: hopeful'],\n",
    "    'pessimism': ['pessimism', 'cynical', 'pessimistic', 'weltschmerz'],\n",
    "    'excitement': ['excitement', 'exciting', 'exhilarating', 'thrill', 'ardor']\n",
    "}"
   ]
  },
  {
   "cell_type": "code",
   "execution_count": 55,
   "metadata": {},
   "outputs": [
    {
     "name": "stdout",
     "output_type": "stream",
     "text": [
      "/home/phansen/Documents/Project/ta_lyrics_sentiment_classification/data_exploration/lastfm_labels/data/lastfm_tags.db\n"
     ]
    },
    {
     "data": {
      "text/plain": [
       "<sqlite3.Connection at 0x7f56eef8c7b0>"
      ]
     },
     "execution_count": 55,
     "metadata": {},
     "output_type": "execute_result"
    }
   ],
   "source": [
    "# TODO: Change this after downloading the updated lastfm DB\n",
    "import sqlite3\n",
    "\n",
    "lastfm_path = 'data/lastfm_tags.db'\n",
    "dbpath = os.path.abspath(lastfm_path)\n",
    "print(dbpath)\n",
    "conn = sqlite3.connect(dbpath)\n",
    "conn"
   ]
  },
  {
   "cell_type": "markdown",
   "metadata": {},
   "source": [
    "### Example Queries to explore the lastfm DB"
   ]
  },
  {
   "cell_type": "code",
   "execution_count": 56,
   "metadata": {},
   "outputs": [
    {
     "name": "stdout",
     "output_type": "stream",
     "text": [
      "************** DEMO 4 **************\n",
      "We get all tracks for the tag: Acid Smurfs\n",
      "[('TRDATLJ128F92FC75F',),\n",
      " ('TRVTZIF128F42725C1',),\n",
      " ('TREPQOO128F9328886',),\n",
      " ('TROXKKP128F427886F',)]\n"
     ]
    }
   ],
   "source": [
    "print('************** DEMO 4 **************')\n",
    "tag = 'Acid Smurfs'\n",
    "print('We get all tracks for the tag: {0}'.format(tag))\n",
    "sql = f\"SELECT tids.tid FROM tags, tids, tid_tag WHERE tids.ROWID=tid_tag.tid AND tid_tag.tag=tags.ROWID AND tags.tag='{sanitize(tag)}'\"\n",
    "res = conn.execute(sql)\n",
    "data = res.fetchall()\n",
    "\n",
    "pprint(data)"
   ]
  },
  {
   "cell_type": "code",
   "execution_count": 57,
   "metadata": {},
   "outputs": [
    {
     "name": "stdout",
     "output_type": "stream",
     "text": [
      "************** DEMO 4 **************\n",
      "We get all tracks for the tag: Acid Smurfs\n",
      "[('TRDATLJ128F92FC75F',),\n",
      " ('TRVTZIF128F42725C1',),\n",
      " ('TREPQOO128F9328886',),\n",
      " ('TROXKKP128F427886F',)]\n"
     ]
    }
   ],
   "source": [
    "print('************** DEMO 4 **************')\n",
    "tag = 'Acid Smurfs'\n",
    "print('We get all tracks for the tag: {0}'.format(tag))\n",
    "sql = \"SELECT tids.tid FROM tags, tids, tid_tag WHERE tids.ROWID=tid_tag.tid AND tid_tag.tag=tags.ROWID AND tags.tag='{0}'\".format(sanitize(tag))\n",
    "res = conn.execute(sql)\n",
    "data = res.fetchall()\n",
    "\n",
    "pprint(data)"
   ]
  },
  {
   "cell_type": "code",
   "execution_count": 58,
   "metadata": {},
   "outputs": [
    {
     "name": "stdout",
     "output_type": "stream",
     "text": [
      "************** DEMO 5 **************\n",
      "We get all tags and the number of tracks they're applied to\n"
     ]
    }
   ],
   "source": [
    "print('************** DEMO 5 **************')\n",
    "print(\"We get all tags and the number of tracks they're applied to\")\n",
    "sql = \"SELECT tags.tag, COUNT(tid_tag.tid) FROM tid_tag, tags WHERE tid_tag.tag=tags.ROWID GROUP BY tags.tag\"\n",
    "\n",
    "### WARNING - this one takes a minute... uncomment these lines to execute\n",
    "#res = conn.execute(sql)\n",
    "#data = res.fetchall()\n",
    "#data = sorted(data, key=lambda x: x[1], reverse=True)\n",
    "#print('after sorting...')\n",
    "#for k in range(10):\n",
    "#    print(data[k])\n",
    "#print('...')"
   ]
  },
  {
   "cell_type": "markdown",
   "metadata": {},
   "source": [
    "### Last.fm DB Schema Exploration\n",
    "\n",
    "In order to use the provided db effectively, we need to know its schema. Here we use sql commands to expose its table structure (credit: https://www.tomordonez.com/get-schema-sqlite-python.html).\n",
    "\n",
    "It turns out that the schema is incredibly simple.\n"
   ]
  },
  {
   "cell_type": "code",
   "execution_count": 59,
   "metadata": {},
   "outputs": [
    {
     "name": "stdout",
     "output_type": "stream",
     "text": [
      "Tables: ['tags', 'tids', 'tid_tag']\n",
      "\n",
      "Table \"tags\"\n",
      "\tcolumns: ['tag']\n",
      "\trows: 522366\n",
      "Table \"tids\"\n",
      "\tcolumns: ['tid']\n",
      "\trows: 505216\n",
      "Table \"tid_tag\"\n",
      "\tcolumns: ['tid', 'tag', 'val']\n",
      "\trows: 8598630\n"
     ]
    }
   ],
   "source": [
    "cur = conn.cursor()\n",
    "\n",
    "tables = list()\n",
    "for row in cur.execute(\"SELECT name FROM sqlite_master WHERE type='table';\").fetchall():\n",
    "    tables.append(row[0])\n",
    "\n",
    "print('Tables: {0}\\n'.format(tables))\n",
    "\n",
    "for table in tables:\n",
    "    \n",
    "    cols = list()\n",
    "    for row in cur.execute(\"pragma table_info('{0}')\".format(table)).fetchall():\n",
    "        cols.append(row[1])\n",
    "\n",
    "    row_count = cur.execute(\"SELECT Count(*) FROM {0}\".format(table)).fetchall()[0][0]\n",
    "        \n",
    "    print('Table \"{0}\"'.format(table))\n",
    "    print('\\tcolumns: {0}'.format(cols))\n",
    "    print('\\trows: {0}'.format(row_count))\n",
    "    \n",
    "    #print(cur.execute(\"SELECT * FROM {0} LIMIT 5\".format(table)).fetchall())\n",
    "    \n",
    "cur.close()"
   ]
  },
  {
   "cell_type": "markdown",
   "metadata": {},
   "source": [
    "And here is a quick peek at the beginning five rows of each table."
   ]
  },
  {
   "cell_type": "code",
   "execution_count": 60,
   "metadata": {},
   "outputs": [
    {
     "name": "stdout",
     "output_type": "stream",
     "text": [
      "                tag\n",
      "0      classic rock\n",
      "1  Progressive rock\n",
      "2             blues\n",
      "3      memphis slim\n",
      "4               pop\n",
      "                  tid\n",
      "0  TRCCCYE12903CFF0E9\n",
      "1  TRCCCFH12903CEBC70\n",
      "2  TRCCCJT128F429FFF6\n",
      "3  TRCCCBJ128F4286E6F\n",
      "4  TRCCJTI128EF35394A\n",
      "   tid  tag    val\n",
      "0    1    1  100.0\n",
      "1    1    2  100.0\n",
      "2    2    3  100.0\n",
      "3    2    4  100.0\n",
      "4    3    5  100.0\n"
     ]
    }
   ],
   "source": [
    "for table in tables:\n",
    "    \n",
    "    df = pd.read_sql_query(\"SELECT * FROM {0} LIMIT 5\".format(table), conn)\n",
    "    print(df)"
   ]
  },
  {
   "cell_type": "markdown",
   "metadata": {},
   "source": [
    "### Matching a Song to its Labels\n",
    "\n",
    "With the mapping data from MusixMatch and the sqlite db from last.fm, we can tie songs to their labels."
   ]
  },
  {
   "cell_type": "code",
   "execution_count": 61,
   "metadata": {},
   "outputs": [
    {
     "name": "stdout",
     "output_type": "stream",
     "text": [
      "[('TRLIEDO12903CA41B4', 'classic rock', 53.0),\n",
      " ('TRLIEDO12903CA41B4', 'pop', 28.0),\n",
      " ('TRLIEDO12903CA41B4', '70s', 100.0),\n",
      " ('TRLIEDO12903CA41B4', 'rock', 38.0),\n",
      " ('TRLIEDO12903CA41B4', 'favorites', 3.0),\n",
      " ('TRLIEDO12903CA41B4', 'upbeat', 2.0),\n",
      " ('TRLIEDO12903CA41B4', 'loved', 2.0),\n",
      " ('TRLIEDO12903CA41B4', 'Awesome', 2.0),\n",
      " ('TRLIEDO12903CA41B4', 'british', 4.0),\n",
      " ('TRLIEDO12903CA41B4', 'Love', 4.0),\n",
      " ('TRLIEDO12903CA41B4', 'first person songs', 1.0),\n",
      " ('TRLIEDO12903CA41B4', 'male vocalists', 5.0),\n",
      " ('TRLIEDO12903CA41B4', 'adult contemporary', 2.0),\n",
      " ('TRLIEDO12903CA41B4', 'soft rock', 33.0),\n",
      " ('TRLIEDO12903CA41B4', 'pop rock', 3.0),\n",
      " ('TRLIEDO12903CA41B4', \"70's\", 2.0),\n",
      " ('TRLIEDO12903CA41B4', '1970s', 2.0),\n",
      " ('TRLIEDO12903CA41B4', 'oldies', 9.0),\n",
      " ('TRLIEDO12903CA41B4', 'love songs', 6.0),\n",
      " ('TRLIEDO12903CA41B4', 'close harmony', 2.0),\n",
      " ('TRLIEDO12903CA41B4', 'acclaimed music top 3000', 2.0),\n",
      " ('TRLIEDO12903CA41B4', 'golden oldies', 3.0),\n",
      " ('TRLIEDO12903CA41B4', 'easy now', 1.0),\n",
      " ('TRLIEDO12903CA41B4', 'Radiotsar approved', 1.0),\n",
      " ('TRLIEDO12903CA41B4', 'solx', 1.0),\n",
      " ('TRLIEDO12903CA41B4', 'to classify', 1.0),\n",
      " ('TRLIEDO12903CA41B4', 'top 2000', 1.0),\n",
      " ('TRLIEDO12903CA41B4', 'ik ben', 1.0),\n",
      " ('TRLIEDO12903CA41B4', 'fH Projex', 1.0),\n",
      " ('TRLIEDO12903CA41B4', 'GH baby', 1.0),\n",
      " ('TRLIEDO12903CA41B4', 'Beatlesque', 2.0),\n",
      " ('TRLIEDO12903CA41B4', 'male vocalist', 2.0),\n",
      " ('TRLIEDO12903CA41B4', 'handclaps', 2.0),\n",
      " ('TRLIEDO12903CA41B4', 'best songs of the 70s', 1.0),\n",
      " ('TRLIEDO12903CA41B4', 'Gamle Ole', 1.0),\n",
      " ('TRLIEDO12903CA41B4', 'gertski pick', 1.0),\n",
      " ('TRLIEDO12903CA41B4', 'New late night lax', 1.0),\n",
      " ('TRLIEDO12903CA41B4', 'the evening shadows', 1.0),\n",
      " ('TRLIEDO12903CA41B4', 'alltimefavs', 1.0),\n",
      " ('TRLIEDO12903CA41B4', '70s aor radio', 1.0),\n",
      " ('TRLIEDO12903CA41B4', 'Beelloved', 2.0),\n",
      " ('TRLIEDO12903CA41B4', 'flott', 1.0),\n",
      " ('TRLIEDO12903CA41B4', 'the word love', 1.0),\n",
      " ('TRLIEDO12903CA41B4', 'canadian rpm magazine number one hit', 3.0),\n",
      " ('TRLIEDO12903CA41B4', 'Middle 1970s', 1.0),\n",
      " ('TRLIEDO12903CA41B4', 'soft rock pop', 2.0),\n",
      " ('TRLIEDO12903CA41B4', 'remember70', 1.0),\n",
      " ('TRLIEDO12903CA41B4', 'slgdmbestof', 1.0),\n",
      " ('TRLIEDO12903CA41B4', 'golden oldie', 1.0),\n",
      " ('TRLIEDO12903CA41B4', 'gute laune music', 1.0),\n",
      " ('TRLIEDO12903CA41B4', 'i know all the words to this', 1.0),\n",
      " ('TRLIEDO12903CA41B4', 'lovesongs', 2.0),\n",
      " ('TRLIEDO12903CA41B4', 'all-time fav', 1.0),\n",
      " ('TRLIEDO12903CA41B4', 'Kloron - Top 500 van 2006', 1.0),\n",
      " ('TRLIEDO12903CA41B4', 'Kloron - Top 500 van 2007', 1.0),\n",
      " ('TRLIEDO12903CA41B4', 'the word do', 1.0),\n",
      " ('TRLIEDO12903CA41B4', 'the word thing', 1.0),\n",
      " ('TRLIEDO12903CA41B4', 'Soft-Rock', 2.0),\n",
      " ('TRLIEDO12903CA41B4', 'one star', 1.0),\n",
      " ('TRLIEDO12903CA41B4', '1976', 3.0),\n",
      " ('TRLIEDO12903CA41B4', 'pop ballad', 2.0),\n",
      " ('TRLIEDO12903CA41B4', 'You and Me', 2.0),\n",
      " ('TRLIEDO12903CA41B4', 'Mellow 70s', 1.0),\n",
      " ('TRLIEDO12903CA41B4', 'rosis', 2.0),\n",
      " ('TRLIEDO12903CA41B4', 'lugnt03-', 1.0),\n",
      " ('TRLIEDO12903CA41B4', 'kmem400', 1.0),\n",
      " ('TRLIEDO12903CA41B4', 'the word we', 1.0),\n",
      " ('TRLIEDO12903CA41B4', 'love in the title', 1.0),\n",
      " ('TRLIEDO12903CA41B4', 'x-files', 5.0),\n",
      " ('TRLIEDO12903CA41B4', 'barbaras mix', 1.0),\n",
      " ('TRLIEDO12903CA41B4', 'g16', 1.0),\n",
      " ('TRLIEDO12903CA41B4', 'WSFM', 1.0),\n",
      " ('TRLIEDO12903CA41B4', 'rock tag', 1.0),\n",
      " ('TRLIEDO12903CA41B4', 'pobgirlsmix', 1.0),\n",
      " ('TRLIEDO12903CA41B4', 'grew up on', 1.0),\n",
      " ('TRLIEDO12903CA41B4', 'Cheezing Out and Loving It', 1.0),\n",
      " ('TRLIEDO12903CA41B4', 'love songs of the 70s', 1.0),\n",
      " ('TRLIEDO12903CA41B4', 'seminal 70s', 1.0),\n",
      " ('TRLIEDO12903CA41B4', 'sooz soft rox', 1.0),\n",
      " ('TRLIEDO12903CA41B4', 'uk chart hits to check out - the 70s', 1.0),\n",
      " ('TRLIEDO12903CA41B4', 'sgn70s', 1.0),\n",
      " ('TRLIEDO12903CA41B4', 'for the heart', 2.0),\n",
      " ('TRLIEDO12903CA41B4', 'old faves', 2.0),\n",
      " ('TRLIEDO12903CA41B4', 'the word for', 1.0),\n",
      " ('TRLIEDO12903CA41B4', '10cc', 17.0),\n",
      " ('TRLIEDO12903CA41B4', 'game of love', 1.0),\n",
      " ('TRLIEDO12903CA41B4', 'grusin', 1.0),\n",
      " ('TRLIEDO12903CA41B4', 'Babysitting years', 1.0),\n",
      " ('TRLIEDO12903CA41B4', 'playfull', 1.0),\n",
      " ('TRLIEDO12903CA41B4', 'Things We Do', 1.0),\n",
      " ('TRLIEDO12903CA41B4', 'Definite play', 1.0),\n",
      " ('TRLIEDO12903CA41B4', 'My Favorite Classic Rock of All Time', 1.0),\n",
      " ('TRLIEDO12903CA41B4', 'wind down zone', 1.0),\n",
      " ('TRLIEDO12903CA41B4', 'aint love grand', 1.0),\n",
      " ('TRLIEDO12903CA41B4', 'songs of 1976', 1.0),\n",
      " ('TRLIEDO12903CA41B4', 'classic 70s radio', 1.0),\n",
      " ('TRLIEDO12903CA41B4', 'all this time-hmmm oh yeah', 1.0),\n",
      " ('TRLIEDO12903CA41B4', 'pre-intrest', 1.0),\n",
      " ('TRLIEDO12903CA41B4', 'the games we play', 1.0),\n",
      " ('TRLIEDO12903CA41B4', 'yeah-no joke', 1.0)]\n"
     ]
    }
   ],
   "source": [
    "example_song = {\n",
    "    'msd_id': 'TRLIEDO12903CA41B4',\n",
    "    'msd_artist': '10 CC',\n",
    "    'msd_title': 'The Things We Do For Love',\n",
    "    'mxm_id': '2258063',\n",
    "    'mxm_artist': '10cc',\n",
    "    'mxm_title': 'The Things We Do for Love'\n",
    "}\n",
    "sql = \"SELECT tids.tid, tags.tag, tid_tag.val FROM tid_tag, tids, tags WHERE tids.ROWID=tid_tag.tid AND tid_tag.tag=tags.ROWID AND tids.tid='{0}'\".format(sanitize(example_song['msd_id']))\n",
    "res = conn.execute(sql)\n",
    "data = res.fetchall()\n",
    "pprint(data)\n"
   ]
  },
  {
   "cell_type": "markdown",
   "metadata": {},
   "source": [
    "### Expanding the Categories\n",
    "\n",
    "The last.fm dataset is generated by users without scientific rigor in mind. There is a chance that searching for an exact match on a mood and its related moods will not always yield all possible matches. In this section, we will explore additional tags that match with each category.\n",
    "\n",
    "For each mood, we\n",
    "1. Query all tracks that match exactly with the mood and its siblings\n",
    "2. Query all tracks that match with LIKE the mood and its siblings with some small modifications if necessary (ex: instead of an exact match on 'meditation', we query for a LIKE match on 'meditat' to allow for different conjugations)\n",
    "3. Compare the difference between (1) and (2)\n",
    "4. Manually build a set of filters to remove tags that match (2) but are not appropriate. (ex: 'happy' ~= 'unhappy' but is not appropriate)\n"
   ]
  },
  {
   "cell_type": "code",
   "execution_count": 62,
   "metadata": {},
   "outputs": [],
   "source": [
    "# TODO: First only do direct matching (later on might add \"Like\" matching)"
   ]
  },
  {
   "cell_type": "code",
   "execution_count": 63,
   "metadata": {},
   "outputs": [],
   "source": [
    "# to store all filter words for each mood\n",
    "filters = dict()\n",
    "# to store all like-query words for each mood\n",
    "likes = dict()\n",
    "\n",
    "def match_tags_to_songs(tags, conn):\n",
    "    \"\"\"\n",
    "    Helper function to get all songs that match a group of tags\n",
    "    \"\"\"\n",
    "    sql = (\"SELECT tids.tid, tags.tag, tid_tag.val \"\n",
    "           \"FROM tid_tag, tids, tags \"\n",
    "           \"WHERE tids.ROWID=tid_tag.tid AND tid_tag.tag=tags.ROWID AND (\")\n",
    "    last = len(tags)\n",
    "    for i, tag in enumerate(tags):\n",
    "        sql += \"tags.tag='{0}' \".format(tag)\n",
    "        if i + 1 != last:\n",
    "            sql += 'OR '\n",
    "    sql += ')'\n",
    "    df = pd.read_sql_query(sql, conn)\n",
    "    return df\n",
    "\n",
    "def match_like_tags_to_songs(tags, conn):\n",
    "    \"\"\"\n",
    "    Helper function to get all songs that match with 'LIKE' a group of tags\n",
    "    \"\"\"\n",
    "    sql = (\"SELECT tids.tid, tags.tag, tid_tag.val \"\n",
    "           \"FROM tid_tag, tids, tags \"\n",
    "           \"WHERE tids.ROWID=tid_tag.tid AND tid_tag.tag=tags.ROWID AND (\")\n",
    "    last = len(tags)\n",
    "    for i, tag in enumerate(tags):\n",
    "        sql += \"tags.tag LIKE '%{0}%' \".format(tag)\n",
    "        if i + 1 != last:\n",
    "            sql += 'OR '\n",
    "    sql += ')'\n",
    "    df = pd.read_sql_query(sql, conn)\n",
    "    return df\n",
    "\n",
    "def set_difference(pd_series1, pd_series2):\n",
    "    set_diff = set(pd_series1.unique()) - set(pd_series2.unique())\n",
    "    return set_diff\n",
    "\n",
    "def filter_by_substring(df, filters):\n",
    "    for filt in filters:\n",
    "        df = df[~df.tag.str.lower().str.contains(filt)]\n",
    "    return df\n",
    "\n",
    "def like_match_analysis(tags, likes, conn, filters=None):\n",
    "    \"\"\"\n",
    "    Helper function to query and then compare the difference between the two\n",
    "    query methods\n",
    "    \"\"\"\n",
    "    df_exact = match_tags_to_songs(tags, conn)\n",
    "    df_like = match_like_tags_to_songs(likes, conn)\n",
    "    print('Number of songs that are a direct match:', len(df_exact))\n",
    "    print('Number of songs that are an approximate match:', len(df_like))\n",
    "    if filters:\n",
    "        df_like = filter_by_substring(df_like, filters)\n",
    "        print('\\tafter filter:', len(df_like))\n",
    "    print('\\nExample tags covered by the approximate match and not by the direct match:\\n')\n",
    "    set_diff = set_difference(df_like.tag, df_exact.tag)\n",
    "    print(list(set_diff)[:10])\n",
    "    pct_improve = -1\n",
    "    if len(df_exact) > 0:\n",
    "        pct_improve = len(df_like) / len(df_exact) * 100\n",
    "    print('\\nImprovement granted by like match: {0} songs, {1:.2f}%'.format(\n",
    "        len(df_like) - len(df_exact), pct_improve))\n",
    "    \n",
    "    return df_exact, df_like, set_diff"
   ]
  },
  {
   "cell_type": "markdown",
   "metadata": {},
   "source": [
    "# LastFM API (Example Code)"
   ]
  },
  {
   "cell_type": "markdown",
   "metadata": {},
   "source": [
    "Source: https://www.dataquest.io/blog/last-fm-api-python/"
   ]
  },
  {
   "cell_type": "code",
   "execution_count": 64,
   "metadata": {},
   "outputs": [],
   "source": [
    "API_KEY = 'b0fc842b94c2e6a0b4458c1686a24f61'\n",
    "USER_AGENT = 'idsta_project'"
   ]
  },
  {
   "cell_type": "code",
   "execution_count": 65,
   "metadata": {},
   "outputs": [],
   "source": [
    "def lastfm_get(payload):\n",
    "    # define headers and URL\n",
    "    headers = {'user-agent': USER_AGENT}\n",
    "    url = 'https://ws.audioscrobbler.com/2.0/'\n",
    "\n",
    "    # Add API key and format to the payload\n",
    "    payload['api_key'] = API_KEY\n",
    "    payload['format'] = 'json'\n",
    "\n",
    "    response = requests.get(url, headers=headers, params=payload)\n",
    "    return response"
   ]
  },
  {
   "cell_type": "markdown",
   "metadata": {},
   "source": [
    "Get top tags for all songs"
   ]
  },
  {
   "cell_type": "code",
   "execution_count": 66,
   "metadata": {},
   "outputs": [],
   "source": [
    "def lookup_tags_for_artist_song(row):\n",
    "    artist, song = row[\"Artist\"], row[\"SName\"]\n",
    "    \n",
    "    response = lastfm_get({\n",
    "        'method': 'track.getTopTags',\n",
    "        'artist':  artist,\n",
    "        'track': song\n",
    "    })\n",
    "\n",
    "    # if there's an error, just return nothing\n",
    "    if response.status_code != 200 or \"error\" in response.text:\n",
    "        return \"\"\n",
    "\n",
    "    # extract the top tags and turn them into a string\n",
    "    tags = [t['name'] for t in response.json()['toptags']['tag']]\n",
    "    tags_str = ', '.join(tags)\n",
    "    # TODO: Could later also look at track tag count\n",
    "\n",
    "    # rate limiting\n",
    "    if not getattr(response, 'from_cache', False):\n",
    "        # TODO: Can I reduce the time?\n",
    "        time.sleep(0.25)\n",
    "    return tags_str"
   ]
  },
  {
   "cell_type": "code",
   "execution_count": 71,
   "metadata": {},
   "outputs": [],
   "source": [
    "# Shorten artists_songs_dataframe for testing purpose\n",
    "# artists_songs_dataframe = artists_songs_dataframe[artists_songs_dataframe[\"Artist\"] == \"Eminem\"]"
   ]
  },
  {
   "cell_type": "code",
   "execution_count": 72,
   "metadata": {},
   "outputs": [
    {
     "data": {
      "text/html": [
       "<div>\n",
       "<style scoped>\n",
       "    .dataframe tbody tr th:only-of-type {\n",
       "        vertical-align: middle;\n",
       "    }\n",
       "\n",
       "    .dataframe tbody tr th {\n",
       "        vertical-align: top;\n",
       "    }\n",
       "\n",
       "    .dataframe thead th {\n",
       "        text-align: right;\n",
       "    }\n",
       "</style>\n",
       "<table border=\"1\" class=\"dataframe\">\n",
       "  <thead>\n",
       "    <tr style=\"text-align: right;\">\n",
       "      <th></th>\n",
       "      <th>Artist</th>\n",
       "      <th>SName</th>\n",
       "    </tr>\n",
       "  </thead>\n",
       "  <tbody>\n",
       "    <tr>\n",
       "      <th>170557</th>\n",
       "      <td>Eminem</td>\n",
       "      <td>Lose Yourself</td>\n",
       "    </tr>\n",
       "    <tr>\n",
       "      <th>170558</th>\n",
       "      <td>Eminem</td>\n",
       "      <td>The Real Slim Shady</td>\n",
       "    </tr>\n",
       "    <tr>\n",
       "      <th>170559</th>\n",
       "      <td>Eminem</td>\n",
       "      <td>Rap God</td>\n",
       "    </tr>\n",
       "    <tr>\n",
       "      <th>170560</th>\n",
       "      <td>Eminem</td>\n",
       "      <td>Without Me</td>\n",
       "    </tr>\n",
       "    <tr>\n",
       "      <th>170561</th>\n",
       "      <td>Eminem</td>\n",
       "      <td>Stan (feat. Dido)</td>\n",
       "    </tr>\n",
       "  </tbody>\n",
       "</table>\n",
       "</div>"
      ],
      "text/plain": [
       "        Artist                SName\n",
       "170557  Eminem        Lose Yourself\n",
       "170558  Eminem  The Real Slim Shady\n",
       "170559  Eminem              Rap God\n",
       "170560  Eminem           Without Me\n",
       "170561  Eminem    Stan (feat. Dido)"
      ]
     },
     "execution_count": 72,
     "metadata": {},
     "output_type": "execute_result"
    }
   ],
   "source": [
    "artists_songs_dataframe.head()"
   ]
  },
  {
   "cell_type": "code",
   "execution_count": 78,
   "metadata": {},
   "outputs": [
    {
     "name": "stderr",
     "output_type": "stream",
     "text": [
      "100%|██████████| 484/484 [00:01<00:00, 391.95it/s]\n",
      "/tmp/ipykernel_141051/3570231567.py:4: SettingWithCopyWarning: \n",
      "A value is trying to be set on a copy of a slice from a DataFrame.\n",
      "Try using .loc[row_indexer,col_indexer] = value instead\n",
      "\n",
      "See the caveats in the documentation: https://pandas.pydata.org/pandas-docs/stable/user_guide/indexing.html#returning-a-view-versus-a-copy\n",
      "  artists_songs_dataframe['Tags'] = artists_songs_dataframe[[\"Artist\", \"SName\"]].progress_apply(lambda row: lookup_tags_for_artist_song(row), axis=1)\n"
     ]
    }
   ],
   "source": [
    "# TODO: Add the concatenated string of tags (alternatively, a list) to the artists_songs dataframe\n",
    "tqdm.pandas()\n",
    "\n",
    "artists_songs_dataframe['Tags'] = artists_songs_dataframe[[\"Artist\", \"SName\"]].progress_apply(lambda row: lookup_tags_for_artist_song(row), axis=1)"
   ]
  },
  {
   "cell_type": "code",
   "execution_count": 79,
   "metadata": {},
   "outputs": [
    {
     "data": {
      "text/html": [
       "<div>\n",
       "<style scoped>\n",
       "    .dataframe tbody tr th:only-of-type {\n",
       "        vertical-align: middle;\n",
       "    }\n",
       "\n",
       "    .dataframe tbody tr th {\n",
       "        vertical-align: top;\n",
       "    }\n",
       "\n",
       "    .dataframe thead th {\n",
       "        text-align: right;\n",
       "    }\n",
       "</style>\n",
       "<table border=\"1\" class=\"dataframe\">\n",
       "  <thead>\n",
       "    <tr style=\"text-align: right;\">\n",
       "      <th></th>\n",
       "      <th>Artist</th>\n",
       "      <th>SName</th>\n",
       "      <th>tags</th>\n",
       "      <th>Tags</th>\n",
       "    </tr>\n",
       "  </thead>\n",
       "  <tbody>\n",
       "    <tr>\n",
       "      <th>170557</th>\n",
       "      <td>Eminem</td>\n",
       "      <td>Lose Yourself</td>\n",
       "      <td>rap, Hip-Hop, Eminem, hip hop, Soundtrack, 8 M...</td>\n",
       "      <td>rap, Hip-Hop, Eminem, hip hop, Soundtrack, 8 M...</td>\n",
       "    </tr>\n",
       "    <tr>\n",
       "      <th>170558</th>\n",
       "      <td>Eminem</td>\n",
       "      <td>The Real Slim Shady</td>\n",
       "      <td>rap, Hip-Hop, Eminem, hip hop, 00s, hiphop, de...</td>\n",
       "      <td>rap, Hip-Hop, Eminem, hip hop, 00s, hiphop, de...</td>\n",
       "    </tr>\n",
       "    <tr>\n",
       "      <th>170559</th>\n",
       "      <td>Eminem</td>\n",
       "      <td>Rap God</td>\n",
       "      <td>rap, Hip-Hop, hip hop, fast rap, Eminem, Rap G...</td>\n",
       "      <td>rap, Hip-Hop, hip hop, fast rap, Eminem, Rap G...</td>\n",
       "    </tr>\n",
       "    <tr>\n",
       "      <th>170560</th>\n",
       "      <td>Eminem</td>\n",
       "      <td>Without Me</td>\n",
       "      <td>rap, Hip-Hop, Eminem, hip hop, 00s, Without Me...</td>\n",
       "      <td>rap, Hip-Hop, Eminem, hip hop, 00s, Without Me...</td>\n",
       "    </tr>\n",
       "    <tr>\n",
       "      <th>170561</th>\n",
       "      <td>Eminem</td>\n",
       "      <td>Stan (feat. Dido)</td>\n",
       "      <td>rap, Hip-Hop, Eminem, hip hop, dido, dark, cla...</td>\n",
       "      <td>rap, Hip-Hop, Eminem, hip hop, dido, dark, cla...</td>\n",
       "    </tr>\n",
       "    <tr>\n",
       "      <th>170562</th>\n",
       "      <td>Eminem</td>\n",
       "      <td>Venom</td>\n",
       "      <td>rap, Soundtrack, Hip-Hop, hip hop, 10s, 2010s,...</td>\n",
       "      <td>rap, Soundtrack, Hip-Hop, hip hop, 10s, 2010s,...</td>\n",
       "    </tr>\n",
       "    <tr>\n",
       "      <th>170563</th>\n",
       "      <td>Eminem</td>\n",
       "      <td>Not Afraid</td>\n",
       "      <td>rap, Eminem, hip hop, Hip-Hop, not afraid, rec...</td>\n",
       "      <td>rap, Eminem, hip hop, Hip-Hop, not afraid, rec...</td>\n",
       "    </tr>\n",
       "    <tr>\n",
       "      <th>170564</th>\n",
       "      <td>Eminem</td>\n",
       "      <td>Love The Way You Lie (feat. Rihanna)</td>\n",
       "      <td>rap, hip hop, Eminem, Hip-Hop, Rihanna, female...</td>\n",
       "      <td>rap, hip hop, Eminem, Hip-Hop, Rihanna, female...</td>\n",
       "    </tr>\n",
       "    <tr>\n",
       "      <th>170565</th>\n",
       "      <td>Eminem</td>\n",
       "      <td>Godzilla (Feat. Juice WRLD)</td>\n",
       "      <td>rap, 2020, Hip-Hop, Eminem, 2020s, Juice WRLD,...</td>\n",
       "      <td>rap, 2020, Hip-Hop, Eminem, 2020s, Juice WRLD,...</td>\n",
       "    </tr>\n",
       "    <tr>\n",
       "      <th>170566</th>\n",
       "      <td>Eminem</td>\n",
       "      <td>Till I Collapse (feat. Nate Dogg)</td>\n",
       "      <td>rap, Soundtrack, hip hop, american, 00s, Emine...</td>\n",
       "      <td>rap, Soundtrack, hip hop, american, 00s, Emine...</td>\n",
       "    </tr>\n",
       "    <tr>\n",
       "      <th>170567</th>\n",
       "      <td>Eminem</td>\n",
       "      <td>8 Mile Tree Last Battle</td>\n",
       "      <td></td>\n",
       "      <td></td>\n",
       "    </tr>\n",
       "    <tr>\n",
       "      <th>170568</th>\n",
       "      <td>Eminem</td>\n",
       "      <td>Mockingbird</td>\n",
       "      <td>rap, Eminem, Hip-Hop, hip hop, mockingbird, sa...</td>\n",
       "      <td>rap, Eminem, Hip-Hop, hip hop, mockingbird, sa...</td>\n",
       "    </tr>\n",
       "    <tr>\n",
       "      <th>170569</th>\n",
       "      <td>Eminem</td>\n",
       "      <td>Superman (feat. Dina Rae)</td>\n",
       "      <td>rap, rock</td>\n",
       "      <td>rap, rock</td>\n",
       "    </tr>\n",
       "    <tr>\n",
       "      <th>170570</th>\n",
       "      <td>Eminem</td>\n",
       "      <td>Beautiful</td>\n",
       "      <td>rap, Hip-Hop, Eminem, beautiful, hip hop, love...</td>\n",
       "      <td>rap, Hip-Hop, Eminem, beautiful, hip hop, love...</td>\n",
       "    </tr>\n",
       "    <tr>\n",
       "      <th>170571</th>\n",
       "      <td>Eminem</td>\n",
       "      <td>My Name Is</td>\n",
       "      <td>rap, Hip-Hop, Eminem, hip hop, 90s, my name is...</td>\n",
       "      <td>rap, Hip-Hop, Eminem, hip hop, 90s, my name is...</td>\n",
       "    </tr>\n",
       "    <tr>\n",
       "      <th>170572</th>\n",
       "      <td>Eminem</td>\n",
       "      <td>Cleanin' Out My Closet</td>\n",
       "      <td>rap, Eminem, Hip-Hop, hip hop, 00s, really goo...</td>\n",
       "      <td>rap, Eminem, Hip-Hop, hip hop, 00s, really goo...</td>\n",
       "    </tr>\n",
       "    <tr>\n",
       "      <th>170573</th>\n",
       "      <td>Eminem</td>\n",
       "      <td>When I'm Gone</td>\n",
       "      <td>rap, Eminem, Hip-Hop, hip hop, feelings, sad, ...</td>\n",
       "      <td>rap, Eminem, Hip-Hop, hip hop, feelings, sad, ...</td>\n",
       "    </tr>\n",
       "    <tr>\n",
       "      <th>170574</th>\n",
       "      <td>Eminem</td>\n",
       "      <td>The Way I Am</td>\n",
       "      <td>rap, Eminem, Hip-Hop, hip hop, angry, aggressi...</td>\n",
       "      <td>rap, Eminem, Hip-Hop, hip hop, angry, aggressi...</td>\n",
       "    </tr>\n",
       "    <tr>\n",
       "      <th>170575</th>\n",
       "      <td>Eminem</td>\n",
       "      <td>Space Bound</td>\n",
       "      <td>rap, Eminem, Hip-Hop, hip hop, Awesome, love a...</td>\n",
       "      <td>rap, Eminem, Hip-Hop, hip hop, Awesome, love a...</td>\n",
       "    </tr>\n",
       "    <tr>\n",
       "      <th>170576</th>\n",
       "      <td>Eminem</td>\n",
       "      <td>Higher</td>\n",
       "      <td>hip hop, rap, 2020</td>\n",
       "      <td>hip hop, rap, 2020</td>\n",
       "    </tr>\n",
       "    <tr>\n",
       "      <th>170577</th>\n",
       "      <td>Eminem</td>\n",
       "      <td>Just Lose It</td>\n",
       "      <td>rap, Hip-Hop, Eminem, hip hop, dance, 00s, jus...</td>\n",
       "      <td>rap, Hip-Hop, Eminem, hip hop, dance, 00s, jus...</td>\n",
       "    </tr>\n",
       "    <tr>\n",
       "      <th>170578</th>\n",
       "      <td>Eminem</td>\n",
       "      <td>The Monster (Feat. Rihanna)</td>\n",
       "      <td>rap, pop, love at first listen, Rihminem, Riha...</td>\n",
       "      <td>rap, pop, love at first listen, Rihminem, Riha...</td>\n",
       "    </tr>\n",
       "    <tr>\n",
       "      <th>170579</th>\n",
       "      <td>Eminem</td>\n",
       "      <td>Business</td>\n",
       "      <td>rap, Hip-Hop, Eminem, hip hop, detroit, Horror...</td>\n",
       "      <td>rap, Hip-Hop, Eminem, hip hop, detroit, Horror...</td>\n",
       "    </tr>\n",
       "    <tr>\n",
       "      <th>170580</th>\n",
       "      <td>Eminem</td>\n",
       "      <td>My Mom</td>\n",
       "      <td>rap, Hip-Hop, Eminem, hip hop, Shady, 2009, am...</td>\n",
       "      <td>rap, Hip-Hop, Eminem, hip hop, Shady, 2009, am...</td>\n",
       "    </tr>\n",
       "    <tr>\n",
       "      <th>170581</th>\n",
       "      <td>Eminem</td>\n",
       "      <td>Sing For The Moment</td>\n",
       "      <td>rap, Eminem, Hip-Hop, hip hop, sing for the mo...</td>\n",
       "      <td>rap, Eminem, Hip-Hop, hip hop, sing for the mo...</td>\n",
       "    </tr>\n",
       "    <tr>\n",
       "      <th>170582</th>\n",
       "      <td>Eminem</td>\n",
       "      <td>'97 Bonnie And Clyde</td>\n",
       "      <td>other</td>\n",
       "      <td>other</td>\n",
       "    </tr>\n",
       "    <tr>\n",
       "      <th>170583</th>\n",
       "      <td>Eminem</td>\n",
       "      <td>25 To Life</td>\n",
       "      <td>rap, Eminem, hip hop, Hip-Hop, american hip-ho...</td>\n",
       "      <td>rap, Eminem, hip hop, Hip-Hop, american hip-ho...</td>\n",
       "    </tr>\n",
       "    <tr>\n",
       "      <th>170584</th>\n",
       "      <td>Eminem</td>\n",
       "      <td>3 A.m</td>\n",
       "      <td></td>\n",
       "      <td></td>\n",
       "    </tr>\n",
       "    <tr>\n",
       "      <th>170585</th>\n",
       "      <td>Eminem</td>\n",
       "      <td>3 Questions</td>\n",
       "      <td></td>\n",
       "      <td></td>\n",
       "    </tr>\n",
       "    <tr>\n",
       "      <th>170586</th>\n",
       "      <td>Eminem</td>\n",
       "      <td>3 Verses</td>\n",
       "      <td>Hip-Hop, rap</td>\n",
       "      <td>Hip-Hop, rap</td>\n",
       "    </tr>\n",
       "    <tr>\n",
       "      <th>170587</th>\n",
       "      <td>Eminem</td>\n",
       "      <td>313</td>\n",
       "      <td>rap, Hip-Hop, hip hop, 90s, detroit, chillout,...</td>\n",
       "      <td>rap, Hip-Hop, hip hop, 90s, detroit, chillout,...</td>\n",
       "    </tr>\n",
       "    <tr>\n",
       "      <th>170588</th>\n",
       "      <td>Eminem</td>\n",
       "      <td>3hree6ix5ive</td>\n",
       "      <td></td>\n",
       "      <td></td>\n",
       "    </tr>\n",
       "    <tr>\n",
       "      <th>170589</th>\n",
       "      <td>Eminem</td>\n",
       "      <td>50 Ways</td>\n",
       "      <td>rap</td>\n",
       "      <td>rap</td>\n",
       "    </tr>\n",
       "    <tr>\n",
       "      <th>170590</th>\n",
       "      <td>Eminem</td>\n",
       "      <td>8 Mile</td>\n",
       "      <td>rap, Hip-Hop, Eminem, Soundtrack, hip hop, 8 M...</td>\n",
       "      <td>rap, Hip-Hop, Eminem, Soundtrack, hip hop, 8 M...</td>\n",
       "    </tr>\n",
       "    <tr>\n",
       "      <th>170591</th>\n",
       "      <td>Eminem</td>\n",
       "      <td>8 Mile (G-unit Remix)</td>\n",
       "      <td></td>\n",
       "      <td></td>\n",
       "    </tr>\n",
       "    <tr>\n",
       "      <th>170592</th>\n",
       "      <td>Eminem</td>\n",
       "      <td>8 Mile (lunch Truck Line Rap Battle)</td>\n",
       "      <td></td>\n",
       "      <td></td>\n",
       "    </tr>\n",
       "    <tr>\n",
       "      <th>170593</th>\n",
       "      <td>Eminem</td>\n",
       "      <td>8 Mile Freestyle - Vs. Lickety Split</td>\n",
       "      <td></td>\n",
       "      <td></td>\n",
       "    </tr>\n",
       "    <tr>\n",
       "      <th>170594</th>\n",
       "      <td>Eminem</td>\n",
       "      <td>8 Mile Freestyle - Vs. Lotto</td>\n",
       "      <td></td>\n",
       "      <td></td>\n",
       "    </tr>\n",
       "    <tr>\n",
       "      <th>170595</th>\n",
       "      <td>Eminem</td>\n",
       "      <td>8 Mile Freestyle - Vs. Papa Doc</td>\n",
       "      <td></td>\n",
       "      <td></td>\n",
       "    </tr>\n",
       "    <tr>\n",
       "      <th>170596</th>\n",
       "      <td>Eminem</td>\n",
       "      <td>8 Mile Freestyle - Vs. Papa Doc 2</td>\n",
       "      <td></td>\n",
       "      <td></td>\n",
       "    </tr>\n",
       "    <tr>\n",
       "      <th>170597</th>\n",
       "      <td>Eminem</td>\n",
       "      <td>9-1-1</td>\n",
       "      <td>Eminem, aitch, aitchrap</td>\n",
       "      <td>Eminem, aitch, aitchrap</td>\n",
       "    </tr>\n",
       "    <tr>\n",
       "      <th>170598</th>\n",
       "      <td>Eminem</td>\n",
       "      <td>A Kiss</td>\n",
       "      <td></td>\n",
       "      <td></td>\n",
       "    </tr>\n",
       "    <tr>\n",
       "      <th>170599</th>\n",
       "      <td>Eminem</td>\n",
       "      <td>Airplanes (part 2)</td>\n",
       "      <td></td>\n",
       "      <td></td>\n",
       "    </tr>\n",
       "    <tr>\n",
       "      <th>170600</th>\n",
       "      <td>Eminem</td>\n",
       "      <td>Alfred (Interlude)</td>\n",
       "      <td></td>\n",
       "      <td></td>\n",
       "    </tr>\n",
       "    <tr>\n",
       "      <th>170601</th>\n",
       "      <td>Eminem</td>\n",
       "      <td>Alfred (Intro)</td>\n",
       "      <td></td>\n",
       "      <td></td>\n",
       "    </tr>\n",
       "    <tr>\n",
       "      <th>170602</th>\n",
       "      <td>Eminem</td>\n",
       "      <td>Alfred (Outro)</td>\n",
       "      <td></td>\n",
       "      <td></td>\n",
       "    </tr>\n",
       "    <tr>\n",
       "      <th>170603</th>\n",
       "      <td>Eminem</td>\n",
       "      <td>Alfred's Theme</td>\n",
       "      <td></td>\n",
       "      <td></td>\n",
       "    </tr>\n",
       "    <tr>\n",
       "      <th>170604</th>\n",
       "      <td>Eminem</td>\n",
       "      <td>All She Wrotes</td>\n",
       "      <td></td>\n",
       "      <td></td>\n",
       "    </tr>\n",
       "    <tr>\n",
       "      <th>170605</th>\n",
       "      <td>Eminem</td>\n",
       "      <td>Almost Famous</td>\n",
       "      <td>rap, Eminem, Hip-Hop, hip hop, 2010, pop, Quee...</td>\n",
       "      <td>rap, Eminem, Hip-Hop, hip hop, 2010, pop, Quee...</td>\n",
       "    </tr>\n",
       "    <tr>\n",
       "      <th>170606</th>\n",
       "      <td>Eminem</td>\n",
       "      <td>Amityville (feat. Bizarre)</td>\n",
       "      <td>Hip-Hop, rap, Horrorcore, classic, underground...</td>\n",
       "      <td>Hip-Hop, rap, Horrorcore, classic, underground...</td>\n",
       "    </tr>\n",
       "  </tbody>\n",
       "</table>\n",
       "</div>"
      ],
      "text/plain": [
       "        Artist                                 SName  \\\n",
       "170557  Eminem                         Lose Yourself   \n",
       "170558  Eminem                   The Real Slim Shady   \n",
       "170559  Eminem                               Rap God   \n",
       "170560  Eminem                            Without Me   \n",
       "170561  Eminem                     Stan (feat. Dido)   \n",
       "170562  Eminem                                 Venom   \n",
       "170563  Eminem                            Not Afraid   \n",
       "170564  Eminem  Love The Way You Lie (feat. Rihanna)   \n",
       "170565  Eminem           Godzilla (Feat. Juice WRLD)   \n",
       "170566  Eminem     Till I Collapse (feat. Nate Dogg)   \n",
       "170567  Eminem               8 Mile Tree Last Battle   \n",
       "170568  Eminem                           Mockingbird   \n",
       "170569  Eminem             Superman (feat. Dina Rae)   \n",
       "170570  Eminem                             Beautiful   \n",
       "170571  Eminem                            My Name Is   \n",
       "170572  Eminem                Cleanin' Out My Closet   \n",
       "170573  Eminem                         When I'm Gone   \n",
       "170574  Eminem                          The Way I Am   \n",
       "170575  Eminem                           Space Bound   \n",
       "170576  Eminem                                Higher   \n",
       "170577  Eminem                          Just Lose It   \n",
       "170578  Eminem           The Monster (Feat. Rihanna)   \n",
       "170579  Eminem                              Business   \n",
       "170580  Eminem                                My Mom   \n",
       "170581  Eminem                   Sing For The Moment   \n",
       "170582  Eminem                  '97 Bonnie And Clyde   \n",
       "170583  Eminem                            25 To Life   \n",
       "170584  Eminem                                 3 A.m   \n",
       "170585  Eminem                           3 Questions   \n",
       "170586  Eminem                              3 Verses   \n",
       "170587  Eminem                                   313   \n",
       "170588  Eminem                          3hree6ix5ive   \n",
       "170589  Eminem                               50 Ways   \n",
       "170590  Eminem                                8 Mile   \n",
       "170591  Eminem                 8 Mile (G-unit Remix)   \n",
       "170592  Eminem  8 Mile (lunch Truck Line Rap Battle)   \n",
       "170593  Eminem  8 Mile Freestyle - Vs. Lickety Split   \n",
       "170594  Eminem          8 Mile Freestyle - Vs. Lotto   \n",
       "170595  Eminem       8 Mile Freestyle - Vs. Papa Doc   \n",
       "170596  Eminem     8 Mile Freestyle - Vs. Papa Doc 2   \n",
       "170597  Eminem                                 9-1-1   \n",
       "170598  Eminem                                A Kiss   \n",
       "170599  Eminem                    Airplanes (part 2)   \n",
       "170600  Eminem                    Alfred (Interlude)   \n",
       "170601  Eminem                        Alfred (Intro)   \n",
       "170602  Eminem                        Alfred (Outro)   \n",
       "170603  Eminem                        Alfred's Theme   \n",
       "170604  Eminem                        All She Wrotes   \n",
       "170605  Eminem                         Almost Famous   \n",
       "170606  Eminem            Amityville (feat. Bizarre)   \n",
       "\n",
       "                                                     tags  \\\n",
       "170557  rap, Hip-Hop, Eminem, hip hop, Soundtrack, 8 M...   \n",
       "170558  rap, Hip-Hop, Eminem, hip hop, 00s, hiphop, de...   \n",
       "170559  rap, Hip-Hop, hip hop, fast rap, Eminem, Rap G...   \n",
       "170560  rap, Hip-Hop, Eminem, hip hop, 00s, Without Me...   \n",
       "170561  rap, Hip-Hop, Eminem, hip hop, dido, dark, cla...   \n",
       "170562  rap, Soundtrack, Hip-Hop, hip hop, 10s, 2010s,...   \n",
       "170563  rap, Eminem, hip hop, Hip-Hop, not afraid, rec...   \n",
       "170564  rap, hip hop, Eminem, Hip-Hop, Rihanna, female...   \n",
       "170565  rap, 2020, Hip-Hop, Eminem, 2020s, Juice WRLD,...   \n",
       "170566  rap, Soundtrack, hip hop, american, 00s, Emine...   \n",
       "170567                                                      \n",
       "170568  rap, Eminem, Hip-Hop, hip hop, mockingbird, sa...   \n",
       "170569                                          rap, rock   \n",
       "170570  rap, Hip-Hop, Eminem, beautiful, hip hop, love...   \n",
       "170571  rap, Hip-Hop, Eminem, hip hop, 90s, my name is...   \n",
       "170572  rap, Eminem, Hip-Hop, hip hop, 00s, really goo...   \n",
       "170573  rap, Eminem, Hip-Hop, hip hop, feelings, sad, ...   \n",
       "170574  rap, Eminem, Hip-Hop, hip hop, angry, aggressi...   \n",
       "170575  rap, Eminem, Hip-Hop, hip hop, Awesome, love a...   \n",
       "170576                                 hip hop, rap, 2020   \n",
       "170577  rap, Hip-Hop, Eminem, hip hop, dance, 00s, jus...   \n",
       "170578  rap, pop, love at first listen, Rihminem, Riha...   \n",
       "170579  rap, Hip-Hop, Eminem, hip hop, detroit, Horror...   \n",
       "170580  rap, Hip-Hop, Eminem, hip hop, Shady, 2009, am...   \n",
       "170581  rap, Eminem, Hip-Hop, hip hop, sing for the mo...   \n",
       "170582                                              other   \n",
       "170583  rap, Eminem, hip hop, Hip-Hop, american hip-ho...   \n",
       "170584                                                      \n",
       "170585                                                      \n",
       "170586                                       Hip-Hop, rap   \n",
       "170587  rap, Hip-Hop, hip hop, 90s, detroit, chillout,...   \n",
       "170588                                                      \n",
       "170589                                                rap   \n",
       "170590  rap, Hip-Hop, Eminem, Soundtrack, hip hop, 8 M...   \n",
       "170591                                                      \n",
       "170592                                                      \n",
       "170593                                                      \n",
       "170594                                                      \n",
       "170595                                                      \n",
       "170596                                                      \n",
       "170597                            Eminem, aitch, aitchrap   \n",
       "170598                                                      \n",
       "170599                                                      \n",
       "170600                                                      \n",
       "170601                                                      \n",
       "170602                                                      \n",
       "170603                                                      \n",
       "170604                                                      \n",
       "170605  rap, Eminem, Hip-Hop, hip hop, 2010, pop, Quee...   \n",
       "170606  Hip-Hop, rap, Horrorcore, classic, underground...   \n",
       "\n",
       "                                                     Tags  \n",
       "170557  rap, Hip-Hop, Eminem, hip hop, Soundtrack, 8 M...  \n",
       "170558  rap, Hip-Hop, Eminem, hip hop, 00s, hiphop, de...  \n",
       "170559  rap, Hip-Hop, hip hop, fast rap, Eminem, Rap G...  \n",
       "170560  rap, Hip-Hop, Eminem, hip hop, 00s, Without Me...  \n",
       "170561  rap, Hip-Hop, Eminem, hip hop, dido, dark, cla...  \n",
       "170562  rap, Soundtrack, Hip-Hop, hip hop, 10s, 2010s,...  \n",
       "170563  rap, Eminem, hip hop, Hip-Hop, not afraid, rec...  \n",
       "170564  rap, hip hop, Eminem, Hip-Hop, Rihanna, female...  \n",
       "170565  rap, 2020, Hip-Hop, Eminem, 2020s, Juice WRLD,...  \n",
       "170566  rap, Soundtrack, hip hop, american, 00s, Emine...  \n",
       "170567                                                     \n",
       "170568  rap, Eminem, Hip-Hop, hip hop, mockingbird, sa...  \n",
       "170569                                          rap, rock  \n",
       "170570  rap, Hip-Hop, Eminem, beautiful, hip hop, love...  \n",
       "170571  rap, Hip-Hop, Eminem, hip hop, 90s, my name is...  \n",
       "170572  rap, Eminem, Hip-Hop, hip hop, 00s, really goo...  \n",
       "170573  rap, Eminem, Hip-Hop, hip hop, feelings, sad, ...  \n",
       "170574  rap, Eminem, Hip-Hop, hip hop, angry, aggressi...  \n",
       "170575  rap, Eminem, Hip-Hop, hip hop, Awesome, love a...  \n",
       "170576                                 hip hop, rap, 2020  \n",
       "170577  rap, Hip-Hop, Eminem, hip hop, dance, 00s, jus...  \n",
       "170578  rap, pop, love at first listen, Rihminem, Riha...  \n",
       "170579  rap, Hip-Hop, Eminem, hip hop, detroit, Horror...  \n",
       "170580  rap, Hip-Hop, Eminem, hip hop, Shady, 2009, am...  \n",
       "170581  rap, Eminem, Hip-Hop, hip hop, sing for the mo...  \n",
       "170582                                              other  \n",
       "170583  rap, Eminem, hip hop, Hip-Hop, american hip-ho...  \n",
       "170584                                                     \n",
       "170585                                                     \n",
       "170586                                       Hip-Hop, rap  \n",
       "170587  rap, Hip-Hop, hip hop, 90s, detroit, chillout,...  \n",
       "170588                                                     \n",
       "170589                                                rap  \n",
       "170590  rap, Hip-Hop, Eminem, Soundtrack, hip hop, 8 M...  \n",
       "170591                                                     \n",
       "170592                                                     \n",
       "170593                                                     \n",
       "170594                                                     \n",
       "170595                                                     \n",
       "170596                                                     \n",
       "170597                            Eminem, aitch, aitchrap  \n",
       "170598                                                     \n",
       "170599                                                     \n",
       "170600                                                     \n",
       "170601                                                     \n",
       "170602                                                     \n",
       "170603                                                     \n",
       "170604                                                     \n",
       "170605  rap, Eminem, Hip-Hop, hip hop, 2010, pop, Quee...  \n",
       "170606  Hip-Hop, rap, Horrorcore, classic, underground...  "
      ]
     },
     "execution_count": 79,
     "metadata": {},
     "output_type": "execute_result"
    }
   ],
   "source": [
    "artists_songs_dataframe.head(50)"
   ]
  },
  {
   "cell_type": "code",
   "execution_count": null,
   "metadata": {},
   "outputs": [],
   "source": [
    "# Check required disk space if I would save it now"
   ]
  },
  {
   "cell_type": "markdown",
   "metadata": {},
   "source": [
    "# Mood mood keyword distribution"
   ]
  },
  {
   "cell_type": "code",
   "execution_count": 80,
   "id": "a4abd54f",
   "metadata": {},
   "outputs": [
    {
     "data": {
      "text/plain": [
       "{'calm': 4,\n",
       " 'sad': 14,\n",
       " 'happy': 4,\n",
       " 'romantic': 1,\n",
       " 'upbeat': 6,\n",
       " 'depressed': 19,\n",
       " 'anger': 43,\n",
       " 'grief': 4,\n",
       " 'dreamy': 0,\n",
       " 'cheerful': 0,\n",
       " 'brooding': 2,\n",
       " 'aggression': 8,\n",
       " 'confident': 1,\n",
       " 'angst': 70,\n",
       " 'earnest': 2,\n",
       " 'desire': 0,\n",
       " 'pessimism': 1,\n",
       " 'excitement': 0}"
      ]
     },
     "execution_count": 80,
     "metadata": {},
     "output_type": "execute_result"
    }
   ],
   "source": [
    "# plot how often keywords of CNN\n",
    "MOOD_CATEGORIES = {\n",
    "    'calm': ['calm', 'comfort', 'quiet', 'serene', 'mellow', 'chill out'],\n",
    "    'sad': ['sadness', 'unhappy', 'melancholic', 'melancholy'],\n",
    "    'happy': ['happy', 'happiness', 'happy songs', 'happy music'],\n",
    "    'romantic': ['romantic', 'romantic music'],\n",
    "    'upbeat': ['upbeat', 'gleeful', 'high spirits', 'zest', 'enthusiastic'],\n",
    "    'depressed': ['depressed', 'blue', 'dark', 'depressive', 'dreary'],\n",
    "    'anger': ['anger', 'angry', 'choleric', 'fury', 'outraged', 'rage'],\n",
    "    'grief': ['grief', 'heartbreak', 'mournful', 'sorrow', 'sorry'],\n",
    "    'dreamy': ['dreamy'],\n",
    "    'cheerful': ['cheerful', 'cheer up', 'festive', 'jolly', 'jovial', 'merry'],\n",
    "    'brooding': ['brooding', 'contemplative', 'meditative', 'reflective'],\n",
    "    'aggression': ['aggression', 'aggressive'],\n",
    "    'confident': ['confident', 'encouraging', 'encouragement', 'optimism'],\n",
    "    'angst': ['angst', 'anxiety', 'anxious', 'jumpy', 'nervous', 'angsty'],\n",
    "    'earnest': ['earnest', 'heartfelt'],\n",
    "    'desire': ['desire', 'hope', 'hopeful', 'mood: hopeful'],\n",
    "    'pessimism': ['pessimism', 'cynical', 'pessimistic', 'weltschmerz'],\n",
    "    'excitement': ['excitement', 'exciting', 'exhilarating', 'thrill', 'ardor']\n",
    "}\n",
    "keyword_distibution = {\n",
    "    'calm': 0,\n",
    "    'sad': 0,\n",
    "    'happy': 0,\n",
    "    'romantic': 0,\n",
    "    'upbeat': 0,\n",
    "    'depressed': 0,\n",
    "    'anger': 0,\n",
    "    'grief': 0,\n",
    "    'dreamy': 0,\n",
    "    'cheerful': 0,\n",
    "    'brooding': 0,\n",
    "    'aggression': 0,\n",
    "    'confident': 0,\n",
    "    'angst': 0,\n",
    "    'earnest': 0,\n",
    "    'desire': 0,\n",
    "    'pessimism': 0,\n",
    "    'excitement': 0\n",
    "}\n",
    "for tag_list in artists_songs_dataframe[\"Tags\"]:\n",
    "    for key in MOOD_CATEGORIES:\n",
    "        for keyword in MOOD_CATEGORIES[key]:\n",
    "            if keyword in tag_list:                \n",
    "                keyword_distibution[key] += 1\n",
    "keyword_distibution"
   ]
  },
  {
   "cell_type": "code",
   "execution_count": 81,
   "id": "263d5c98",
   "metadata": {},
   "outputs": [],
   "source": [
    "# This approach attempts to count only a mood once \n",
    "# (If for instance 2 keywords of a mood appear in 1 text, this counts as 1)\n",
    "# This however will lead to the effect that sopngs are comunted multiple times, for every mood they can be identified with\n",
    "song_distribution={\n",
    "    'calm': 0,\n",
    "    'sad': 0,\n",
    "    'happy': 0,\n",
    "    'romantic': 0,\n",
    "    'upbeat': 0,\n",
    "    'depressed': 0,\n",
    "    'anger': 0,\n",
    "    'grief': 0,\n",
    "    'dreamy': 0,\n",
    "    'cheerful': 0,\n",
    "    'brooding': 0,\n",
    "    'aggression': 0,\n",
    "    'confident': 0,\n",
    "    'angst': 0,\n",
    "    'earnest': 0,\n",
    "    'desire': 0,\n",
    "    'pessimism': 0,\n",
    "    'excitement': 0\n",
    "}\n",
    "\n",
    "for tag_list in artists_songs_dataframe[\"Tags\"]:\n",
    "    for key in MOOD_CATEGORIES:\n",
    "        for keyword in MOOD_CATEGORIES[key]:\n",
    "            if keyword in tag_list:\n",
    "                song_distribution[key] += 1\n",
    "                break\n"
   ]
  },
  {
   "cell_type": "code",
   "execution_count": 82,
   "id": "460f8ef3",
   "metadata": {},
   "outputs": [
    {
     "data": {
      "image/png": "[encoded data removed]",
      "text/plain": [
       "<Figure size 1500x500 with 1 Axes>"
      ]
     },
     "metadata": {},
     "output_type": "display_data"
    }
   ],
   "source": [
    "labels = [ k for k,v in keyword_distibution.items()]\n",
    "data = [ v for k,v in keyword_distibution.items()]\n",
    "fig, ax = plt.subplots()\n",
    "plt.xticks(rotation = 75)\n",
    "ax.bar(labels, data)\n",
    "\n",
    "ax.set_ylabel('Appearance of keywords')\n",
    "plt.title('Total Keyword distribution')\n",
    "plt.show()\n",
    "\n",
    "# The figure shows how often the kexwords of a mood category appear in all english texts"
   ]
  },
  {
   "cell_type": "code",
   "execution_count": 83,
   "id": "7d836689",
   "metadata": {},
   "outputs": [
    {
     "data": {
      "image/png": "[encoded data removed]",
      "text/plain": [
       "<Figure size 1500x500 with 1 Axes>"
      ]
     },
     "metadata": {},
     "output_type": "display_data"
    }
   ],
   "source": [
    "# The figure shows in how many songs the keywords of a mood category appear \n",
    "# (If for instance 2 keywords appear in 1 text, this counts as 1)\",\n",
    "\n",
    "labels = [ k for k,v in song_distribution.items()]\n",
    "data = [ v for k,v in song_distribution.items()]\n",
    "fig, ax = plt.subplots()\n",
    "plt.xticks(rotation = 75)\n",
    "ax.bar(labels, data)\n",
    "ax.set_ylabel('Appearance of Moods in songtexts')\n",
    "plt.title('Total Mood distribution')\n",
    "plt.show()"
   ]
  },
  {
   "cell_type": "markdown",
   "id": "b50a84f1",
   "metadata": {},
   "source": [
    "### Now plot the distribution with regards to the total ammount of songs"
   ]
  },
  {
   "cell_type": "code",
   "execution_count": 84,
   "id": "5c3501a8",
   "metadata": {},
   "outputs": [
    {
     "data": {
      "image/png": "[encoded data removed]",
      "text/plain": [
       "<Figure size 1500x500 with 1 Axes>"
      ]
     },
     "metadata": {},
     "output_type": "display_data"
    }
   ],
   "source": [
    "# The figure shows in how many songs the keywords of a mood category appear \n",
    "# (If for instance 2 keywords appear in 1 text, this counts as 1)\",\n",
    "\n",
    "labels = [ k for k,v in song_distribution.items()]\n",
    "data = [ v for k,v in song_distribution.items()]\n",
    "fig, ax = plt.subplots()\n",
    "plt.xticks(rotation = 75)\n",
    "ax.bar(labels, data)\n",
    "ax.set_ylabel('Appearance of Moods in songtexts with total ammouint of songs')\n",
    "plt.title('Total Mood distribution')\n",
    "plt.axhline(y = len(artists_songs_dataframe[\"Tags\"]), color = 'r', linestyle = '-', label = \"Total ammount of songs\")\n",
    "plt.legend(bbox_to_anchor = (1.0, 1), loc = 'upper center')\n",
    "plt.show()"
   ]
  },
  {
   "cell_type": "markdown",
   "id": "a0803346",
   "metadata": {},
   "source": [
    "## Now we will calculate how many songs can be identified with a mood at all"
   ]
  },
  {
   "cell_type": "code",
   "execution_count": 85,
   "id": "11437c14",
   "metadata": {},
   "outputs": [],
   "source": [
    "songs_without_moods = 0\n",
    "\n",
    "for tag_list in artists_songs_dataframe[\"Tags\"]:\n",
    "    flag = 0\n",
    "    for key in MOOD_CATEGORIES:\n",
    "        for keyword in MOOD_CATEGORIES[key]:\n",
    "            if keyword in tag_list:\n",
    "                flag = 1\n",
    "                break\n",
    "    if flag == 0:\n",
    "        songs_without_moods += 1\n"
   ]
  },
  {
   "cell_type": "code",
   "execution_count": 86,
   "id": "b6d7ac8e",
   "metadata": {},
   "outputs": [
    {
     "name": "stderr",
     "output_type": "stream",
     "text": [
      "No artists with labels found to put in legend.  Note that artists whose label start with an underscore are ignored when legend() is called with no argument.\n"
     ]
    },
    {
     "data": {
      "image/png": "[encoded data removed]",
      "text/plain": [
       "<Figure size 1500x500 with 1 Axes>"
      ]
     },
     "metadata": {},
     "output_type": "display_data"
    }
   ],
   "source": [
    "# the following figure shows the ammount of songs not containing any of the mood keywords\n",
    "\n",
    "labels = [\"total ammount of songs\", \"without moods\", \"with moods\"]\n",
    "data = [ len(artists_songs_dataframe[\"Tags\"]), songs_without_moods, len(artists_songs_dataframe[\"Tags\"])-songs_without_moods ]\n",
    "fig, ax = plt.subplots()\n",
    "plt.xticks(rotation = 75)\n",
    "ax.bar(labels, data)\n",
    "ax.set_ylabel('Number of songs')\n",
    "plt.title('Songs without moods')\n",
    "plt.legend(bbox_to_anchor = (1.0, 1), loc = 'upper center')\n",
    "plt.show()"
   ]
  }
 ],
 "metadata": {
  "kernelspec": {
   "display_name": "Python 3.9.13 ('base')",
   "language": "python",
   "name": "python3"
  },
  "language_info": {
   "codemirror_mode": {
    "name": "ipython",
    "version": 3
   },
   "file_extension": ".py",
   "mimetype": "text/x-python",
   "name": "python",
   "nbconvert_exporter": "python",
   "pygments_lexer": "ipython3",
   "version": "3.9.13"
  },
  "vscode": {
   "interpreter": {
    "hash": "8b6a09c6c881074955117e125c5183f144e2c1816a788965e3262d942faf08f4"
   }
  }
 },
 "nbformat": 4,
 "nbformat_minor": 1
}
