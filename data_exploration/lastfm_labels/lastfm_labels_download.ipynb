{
 "cells": [
  {
   "cell_type": "code",
   "execution_count": 1,
   "metadata": {},
   "outputs": [
    {
     "name": "stdout",
     "output_type": "stream",
     "text": [
      "Pretty printing has been turned OFF\n"
     ]
    }
   ],
   "source": [
    "import requests\n",
    "import time\n",
    "\n",
    "import pandas as pd\n",
    "import matplotlib.pyplot as plt\n",
    "import pandas as pd\n",
    "from tqdm import tqdm\n",
    "import requests_cache\n",
    "\n",
    "requests_cache.install_cache()\n",
    "\n",
    "# Make the graphs a bit prettier, and bigger\n",
    "plt.style.use('ggplot')\n",
    "plt.rcParams['figure.figsize'] = (15, 5)\n",
    "plt.rcParams['font.family'] = 'sans-serif'\n",
    "\n",
    "%matplotlib inline"
   ]
  },
  {
   "cell_type": "markdown",
   "metadata": {},
   "source": [
    "# Artist & Song Dataframe"
   ]
  },
  {
   "cell_type": "markdown",
   "metadata": {},
   "source": [
    "Load lyrics dataframe "
   ]
  },
  {
   "cell_type": "code",
   "execution_count": 2,
   "metadata": {},
   "outputs": [],
   "source": [
    "lyrics_df = pd.read_csv(\"../data/lyrics-data.csv\")\n",
    "artists_df = pd.read_csv('../data/artists-data.csv')"
   ]
  },
  {
   "cell_type": "markdown",
   "metadata": {},
   "source": [
    "Show general information for the dataframes"
   ]
  },
  {
   "cell_type": "markdown",
   "metadata": {},
   "source": [
    "Create dataframe with song name and artist name (only English songs)"
   ]
  },
  {
   "cell_type": "code",
   "execution_count": 3,
   "metadata": {},
   "outputs": [],
   "source": [
    "artists_songs_dataframe = pd.merge(artists_df, lyrics_df, how=\"inner\", left_on=\"Link\", right_on=\"ALink\")\n",
    "artists_songs_dataframe = artists_songs_dataframe[artists_songs_dataframe[\"language\"] == \"en\"][[\"Artist\", \"SName\"]]"
   ]
  },
  {
   "cell_type": "code",
   "execution_count": 4,
   "metadata": {},
   "outputs": [
    {
     "name": "stdout",
     "output_type": "stream",
     "text": [
      "Number of English songs: 191385\n",
      "Number of all artists with English songs: 2488\n"
     ]
    }
   ],
   "source": [
    "# Number of English songs\n",
    "print(f\"Number of English songs: {artists_songs_dataframe['SName'].count()}\")\n",
    "\n",
    "# Number of all artists with English songs\n",
    "print(f\"Number of all artists with English songs: {artists_songs_dataframe['Artist'].nunique()}\")"
   ]
  },
  {
   "cell_type": "code",
   "execution_count": 5,
   "metadata": {},
   "outputs": [],
   "source": [
    "# Take first third of the data (191385 / 3 = 63795)\n",
    "artists_songs_dataframe = artists_songs_dataframe[:63795]"
   ]
  },
  {
   "cell_type": "markdown",
   "metadata": {},
   "source": [
    "# LastFM API (download tags)"
   ]
  },
  {
   "cell_type": "markdown",
   "metadata": {},
   "source": [
    "Source: https://www.dataquest.io/blog/last-fm-api-python/"
   ]
  },
  {
   "cell_type": "code",
   "execution_count": 6,
   "metadata": {},
   "outputs": [],
   "source": [
    "API_KEY = 'b0fc842b94c2e6a0b4458c1686a24f61'\n",
    "USER_AGENT = 'idsta_project'"
   ]
  },
  {
   "cell_type": "code",
   "execution_count": 7,
   "metadata": {},
   "outputs": [],
   "source": [
    "def lastfm_get(payload):\n",
    "    # define headers and URL\n",
    "    headers = {'user-agent': USER_AGENT}\n",
    "    url = 'https://ws.audioscrobbler.com/2.0/'\n",
    "\n",
    "    # Add API key and format to the payload\n",
    "    payload['api_key'] = API_KEY\n",
    "    payload['format'] = 'json'\n",
    "\n",
    "    response = requests.get(url, headers=headers, params=payload)\n",
    "    return response"
   ]
  },
  {
   "cell_type": "markdown",
   "metadata": {},
   "source": [
    "Get top tags for all songs"
   ]
  },
  {
   "cell_type": "code",
   "execution_count": 8,
   "metadata": {},
   "outputs": [],
   "source": [
    "def lookup_tags_for_artist_song(row):\n",
    "    artist, song = row[\"Artist\"], row[\"SName\"]\n",
    "    \n",
    "    response = lastfm_get({\n",
    "        'method': 'track.getTopTags',\n",
    "        'artist':  artist,\n",
    "        'track': song\n",
    "    })\n",
    "\n",
    "    # if there's an error, just return nothing\n",
    "    if response.status_code != 200 or \"error\" in response.text:\n",
    "        return \"NoSongFound\"\n",
    "\n",
    "    # extract the top tags and turn them into a string\n",
    "    tags = [t['name'] for t in response.json()['toptags']['tag']]\n",
    "    tags_str = ', '.join(tags)\n",
    "    if tags_str == \"\":\n",
    "        tags_str =\"NoTagsFound\" \n",
    "    # TODO: Could later also look at track tag count\n",
    "\n",
    "    # rate limiting\n",
    "    if not getattr(response, 'from_cache', False):\n",
    "        # TODO: Can I reduce the time?\n",
    "        time.sleep(0.25)\n",
    "    return tags_str"
   ]
  },
  {
   "cell_type": "code",
   "execution_count": 10,
   "metadata": {},
   "outputs": [
    {
     "name": "stderr",
     "output_type": "stream",
     "text": [
      "100%|██████████| 10000/10000 [27:50<00:00,  5.98it/s] \n"
     ]
    }
   ],
   "source": [
    "tqdm.pandas()\n",
    "\n",
    "artists_songs_dataframe['Tags'] = artists_songs_dataframe[[\"Artist\", \"SName\"]].progress_apply(lambda row: lookup_tags_for_artist_song(row), axis=1)"
   ]
  },
  {
   "cell_type": "code",
   "execution_count": 11,
   "metadata": {},
   "outputs": [],
   "source": [
    "# Save df\n",
    "artists_songs_dataframe.to_csv('data/tags_first_third.csv', index=False)"
   ]
  },
  {
   "cell_type": "code",
   "execution_count": 12,
   "metadata": {},
   "outputs": [
    {
     "data": {
      "text/html": [
       "<div>\n",
       "<style scoped>\n",
       "    .dataframe tbody tr th:only-of-type {\n",
       "        vertical-align: middle;\n",
       "    }\n",
       "\n",
       "    .dataframe tbody tr th {\n",
       "        vertical-align: top;\n",
       "    }\n",
       "\n",
       "    .dataframe thead th {\n",
       "        text-align: right;\n",
       "    }\n",
       "</style>\n",
       "<table border=\"1\" class=\"dataframe\">\n",
       "  <thead>\n",
       "    <tr style=\"text-align: right;\">\n",
       "      <th></th>\n",
       "      <th>Artist</th>\n",
       "      <th>SName</th>\n",
       "      <th>Tags</th>\n",
       "    </tr>\n",
       "  </thead>\n",
       "  <tbody>\n",
       "    <tr>\n",
       "      <th>0</th>\n",
       "      <td>Ivete Sangalo</td>\n",
       "      <td>Careless Whisper</td>\n",
       "      <td>NoTagsFound</td>\n",
       "    </tr>\n",
       "    <tr>\n",
       "      <th>1</th>\n",
       "      <td>Ivete Sangalo</td>\n",
       "      <td>Could You Be Loved / Citação Musical do Rap: S...</td>\n",
       "      <td>NoTagsFound</td>\n",
       "    </tr>\n",
       "    <tr>\n",
       "      <th>2</th>\n",
       "      <td>Ivete Sangalo</td>\n",
       "      <td>Cruisin' (Part. Saulo)</td>\n",
       "      <td>NoTagsFound</td>\n",
       "    </tr>\n",
       "    <tr>\n",
       "      <th>3</th>\n",
       "      <td>Ivete Sangalo</td>\n",
       "      <td>Easy</td>\n",
       "      <td>pop, female vocalists, rnb, hot, spanish, soul...</td>\n",
       "    </tr>\n",
       "    <tr>\n",
       "      <th>4</th>\n",
       "      <td>Ivete Sangalo</td>\n",
       "      <td>For Your Babies (The Voice cover)</td>\n",
       "      <td>NoSongFound</td>\n",
       "    </tr>\n",
       "    <tr>\n",
       "      <th>5</th>\n",
       "      <td>Ivete Sangalo</td>\n",
       "      <td>Human Nature</td>\n",
       "      <td>pop, rock, female vocalists, dance, latin, rnb...</td>\n",
       "    </tr>\n",
       "    <tr>\n",
       "      <th>6</th>\n",
       "      <td>Ivete Sangalo</td>\n",
       "      <td>Losing Control (Miss Cady feat. Ivete Sangalo)</td>\n",
       "      <td>NoSongFound</td>\n",
       "    </tr>\n",
       "    <tr>\n",
       "      <th>7</th>\n",
       "      <td>Ivete Sangalo</td>\n",
       "      <td>Master Blaster (Jammin')</td>\n",
       "      <td>NoTagsFound</td>\n",
       "    </tr>\n",
       "    <tr>\n",
       "      <th>8</th>\n",
       "      <td>Ivete Sangalo</td>\n",
       "      <td>More Than Words</td>\n",
       "      <td>NoTagsFound</td>\n",
       "    </tr>\n",
       "    <tr>\n",
       "      <th>9</th>\n",
       "      <td>Ivete Sangalo</td>\n",
       "      <td>Natural Collie</td>\n",
       "      <td>spanish, electronic, female, jazz, hip hop, po...</td>\n",
       "    </tr>\n",
       "    <tr>\n",
       "      <th>10</th>\n",
       "      <td>Ivete Sangalo</td>\n",
       "      <td>Where It Begins (feat. Nelly Furtado)</td>\n",
       "      <td>pop, singer-songwriter, rnb, Nelly Furtado, sp...</td>\n",
       "    </tr>\n",
       "    <tr>\n",
       "      <th>11</th>\n",
       "      <td>Claudia Leitte</td>\n",
       "      <td>Bandera</td>\n",
       "      <td>NoTagsFound</td>\n",
       "    </tr>\n",
       "    <tr>\n",
       "      <th>12</th>\n",
       "      <td>Claudia Leitte</td>\n",
       "      <td>Carnaval (Feat. Pitbull)</td>\n",
       "      <td>NoTagsFound</td>\n",
       "    </tr>\n",
       "    <tr>\n",
       "      <th>13</th>\n",
       "      <td>Claudia Leitte</td>\n",
       "      <td>Circle Of Life</td>\n",
       "      <td>NoTagsFound</td>\n",
       "    </tr>\n",
       "    <tr>\n",
       "      <th>14</th>\n",
       "      <td>Claudia Leitte</td>\n",
       "      <td>It Hurt So Bad</td>\n",
       "      <td>NoTagsFound</td>\n",
       "    </tr>\n",
       "    <tr>\n",
       "      <th>15</th>\n",
       "      <td>Claudia Leitte</td>\n",
       "      <td>Lazy Groove</td>\n",
       "      <td>dance, cool, 2013, axe music, claudia leitte</td>\n",
       "    </tr>\n",
       "    <tr>\n",
       "      <th>16</th>\n",
       "      <td>Claudia Leitte</td>\n",
       "      <td>Shiver Down My Spine</td>\n",
       "      <td>pop, reggae, latin, brazil, summer, brasil, br...</td>\n",
       "    </tr>\n",
       "    <tr>\n",
       "      <th>17</th>\n",
       "      <td>Claudia Leitte</td>\n",
       "      <td>Signs</td>\n",
       "      <td>claudia leitte, Soundtrack, pop, romantic, bra...</td>\n",
       "    </tr>\n",
       "    <tr>\n",
       "      <th>18</th>\n",
       "      <td>Claudia Leitte</td>\n",
       "      <td>Time after Time</td>\n",
       "      <td>NoTagsFound</td>\n",
       "    </tr>\n",
       "    <tr>\n",
       "      <th>19</th>\n",
       "      <td>Claudia Leitte</td>\n",
       "      <td>We Are One (Ole Ola)</td>\n",
       "      <td>NoTagsFound</td>\n",
       "    </tr>\n",
       "  </tbody>\n",
       "</table>\n",
       "</div>"
      ],
      "text/plain": [
       "            Artist                                              SName  \\\n",
       "0    Ivete Sangalo                                   Careless Whisper   \n",
       "1    Ivete Sangalo  Could You Be Loved / Citação Musical do Rap: S...   \n",
       "2    Ivete Sangalo                             Cruisin' (Part. Saulo)   \n",
       "3    Ivete Sangalo                                               Easy   \n",
       "4    Ivete Sangalo                  For Your Babies (The Voice cover)   \n",
       "5    Ivete Sangalo                                       Human Nature   \n",
       "6    Ivete Sangalo     Losing Control (Miss Cady feat. Ivete Sangalo)   \n",
       "7    Ivete Sangalo                           Master Blaster (Jammin')   \n",
       "8    Ivete Sangalo                                    More Than Words   \n",
       "9    Ivete Sangalo                                     Natural Collie   \n",
       "10   Ivete Sangalo              Where It Begins (feat. Nelly Furtado)   \n",
       "11  Claudia Leitte                                            Bandera   \n",
       "12  Claudia Leitte                           Carnaval (Feat. Pitbull)   \n",
       "13  Claudia Leitte                                     Circle Of Life   \n",
       "14  Claudia Leitte                                     It Hurt So Bad   \n",
       "15  Claudia Leitte                                        Lazy Groove   \n",
       "16  Claudia Leitte                               Shiver Down My Spine   \n",
       "17  Claudia Leitte                                              Signs   \n",
       "18  Claudia Leitte                                    Time after Time   \n",
       "19  Claudia Leitte                               We Are One (Ole Ola)   \n",
       "\n",
       "                                                 Tags  \n",
       "0                                         NoTagsFound  \n",
       "1                                         NoTagsFound  \n",
       "2                                         NoTagsFound  \n",
       "3   pop, female vocalists, rnb, hot, spanish, soul...  \n",
       "4                                         NoSongFound  \n",
       "5   pop, rock, female vocalists, dance, latin, rnb...  \n",
       "6                                         NoSongFound  \n",
       "7                                         NoTagsFound  \n",
       "8                                         NoTagsFound  \n",
       "9   spanish, electronic, female, jazz, hip hop, po...  \n",
       "10  pop, singer-songwriter, rnb, Nelly Furtado, sp...  \n",
       "11                                        NoTagsFound  \n",
       "12                                        NoTagsFound  \n",
       "13                                        NoTagsFound  \n",
       "14                                        NoTagsFound  \n",
       "15       dance, cool, 2013, axe music, claudia leitte  \n",
       "16  pop, reggae, latin, brazil, summer, brasil, br...  \n",
       "17  claudia leitte, Soundtrack, pop, romantic, bra...  \n",
       "18                                        NoTagsFound  \n",
       "19                                        NoTagsFound  "
      ]
     },
     "execution_count": 12,
     "metadata": {},
     "output_type": "execute_result"
    }
   ],
   "source": [
    "df = pd.read_csv('data/tags_first_third.csv')\n",
    "df.head(20)"
   ]
  }
 ],
 "metadata": {
  "kernelspec": {
   "display_name": "Python 3.9.13 ('base')",
   "language": "python",
   "name": "python3"
  },
  "language_info": {
   "codemirror_mode": {
    "name": "ipython",
    "version": 3
   },
   "file_extension": ".py",
   "mimetype": "text/x-python",
   "name": "python",
   "nbconvert_exporter": "python",
   "pygments_lexer": "ipython3",
   "version": "3.9.13"
  },
  "vscode": {
   "interpreter": {
    "hash": "8b6a09c6c881074955117e125c5183f144e2c1816a788965e3262d942faf08f4"
   }
  }
 },
 "nbformat": 4,
 "nbformat_minor": 1
}
