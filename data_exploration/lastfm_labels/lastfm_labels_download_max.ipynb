{
 "cells": [
  {
   "cell_type": "code",
   "execution_count": null,
   "metadata": {},
   "outputs": [],
   "source": [
    "import requests\n",
    "\n",
    "import pandas as pd\n",
    "import matplotlib.pyplot as plt\n",
    "import pandas as pd\n",
    "from tqdm import tqdm\n",
    "import time\n",
    "import requests_cache\n",
    "\n",
    "requests_cache.install_cache()\n",
    "\n",
    "\n",
    "# Make the graphs a bit prettier, and bigger\n",
    "plt.style.use('ggplot')\n",
    "plt.rcParams['figure.figsize'] = (15, 5)\n",
    "plt.rcParams['font.family'] = 'sans-serif'\n",
    "\n",
    "%matplotlib inline"
   ]
  },
  {
   "cell_type": "markdown",
   "metadata": {},
   "source": [
    "# Artist & Song Dataframe"
   ]
  },
  {
   "cell_type": "markdown",
   "metadata": {},
   "source": [
    "Load lyrics dataframe "
   ]
  },
  {
   "cell_type": "code",
   "execution_count": null,
   "metadata": {},
   "outputs": [],
   "source": [
    "lyrics_df = pd.read_csv(\"../data/lyrics-data.csv\")\n",
    "artists_df = pd.read_csv('../data/artists-data.csv')"
   ]
  },
  {
   "cell_type": "markdown",
   "metadata": {},
   "source": [
    "Show general information for the dataframes"
   ]
  },
  {
   "cell_type": "markdown",
   "metadata": {},
   "source": [
    "Create dataframe with song name and artist name (only English songs)"
   ]
  },
  {
   "cell_type": "code",
   "execution_count": null,
   "metadata": {},
   "outputs": [],
   "source": [
    "artists_songs_dataframe = pd.merge(artists_df, lyrics_df, how=\"inner\", left_on=\"Link\", right_on=\"ALink\")\n",
    "artists_songs_dataframe = artists_songs_dataframe[artists_songs_dataframe[\"language\"] == \"en\"][[\"Artist\", \"SName\"]]"
   ]
  },
  {
   "cell_type": "code",
   "execution_count": null,
   "metadata": {},
   "outputs": [],
   "source": [
    "# Number of English songs\n",
    "print(f\"Number of English songs: {artists_songs_dataframe['SName'].count()}\")\n",
    "\n",
    "# Number of all artists with English songs\n",
    "print(f\"Number of all artists with English songs: {artists_songs_dataframe['Artist'].nunique()}\")"
   ]
  },
  {
   "cell_type": "code",
   "execution_count": null,
   "metadata": {},
   "outputs": [],
   "source": [
    "# Take second third of the data (191385 / 3 = 63795 -> 63795-127590)\n",
    "artists_songs_dataframe = artists_songs_dataframe[63795:127590]"
   ]
  },
  {
   "cell_type": "markdown",
   "metadata": {},
   "source": [
    "# LastFM API (download tags)"
   ]
  },
  {
   "cell_type": "markdown",
   "metadata": {},
   "source": [
    "Source: https://www.dataquest.io/blog/last-fm-api-python/"
   ]
  },
  {
   "cell_type": "code",
   "execution_count": null,
   "metadata": {},
   "outputs": [],
   "source": [
    "# TODO: Create lastfm account and insert your API Key (as string): https://www.last.fm/api/account/create\n",
    "API_KEY = ''\n",
    "USER_AGENT = 'idsta_project_max'"
   ]
  },
  {
   "cell_type": "code",
   "execution_count": null,
   "metadata": {},
   "outputs": [],
   "source": [
    "def lastfm_get(payload):\n",
    "    # define headers and URL\n",
    "    headers = {'user-agent': USER_AGENT}\n",
    "    url = 'https://ws.audioscrobbler.com/2.0/'\n",
    "\n",
    "    # Add API key and format to the payload\n",
    "    payload['api_key'] = API_KEY\n",
    "    payload['format'] = 'json'\n",
    "\n",
    "    response = requests.get(url, headers=headers, params=payload)\n",
    "    return response"
   ]
  },
  {
   "cell_type": "markdown",
   "metadata": {},
   "source": [
    "Get top tags for all songs"
   ]
  },
  {
   "cell_type": "code",
   "execution_count": null,
   "metadata": {},
   "outputs": [],
   "source": [
    "def lookup_tags_for_artist_song(row):\n",
    "    artist, song = row[\"Artist\"], row[\"SName\"]\n",
    "    \n",
    "    response = lastfm_get({\n",
    "        'method': 'track.getTopTags',\n",
    "        'artist':  artist,\n",
    "        'track': song\n",
    "    })\n",
    "\n",
    "    # if there's an error, just return nothing\n",
    "    if response.status_code != 200 or \"error\" in response.text:\n",
    "        return \"NoSongFound\"\n",
    "\n",
    "    # extract the top tags and turn them into a string\n",
    "    tags = [t['name'] for t in response.json()['toptags']['tag']]\n",
    "    tags_str = ', '.join(tags)\n",
    "    if tags_str == \"\":\n",
    "        tags_str =\"NoTagsFound\" \n",
    "    # TODO: Could later also look at track tag count\n",
    "\n",
    "    # rate limiting\n",
    "    if not getattr(response, 'from_cache', False):\n",
    "        # TODO: Can I reduce the time?\n",
    "        time.sleep(0.25)\n",
    "    return tags_str"
   ]
  },
  {
   "cell_type": "code",
   "execution_count": null,
   "metadata": {},
   "outputs": [],
   "source": [
    "tqdm.pandas()\n",
    "\n",
    "artists_songs_dataframe['Tags'] = artists_songs_dataframe[[\"Artist\", \"SName\"]].progress_apply(lambda row: lookup_tags_for_artist_song(row), axis=1)"
   ]
  },
  {
   "cell_type": "code",
   "execution_count": null,
   "metadata": {},
   "outputs": [],
   "source": [
    "# Save df\n",
    "artists_songs_dataframe.to_csv('data/tags_second_third.csv', index=False)"
   ]
  }
 ],
 "metadata": {
  "kernelspec": {
   "display_name": "Python 3.9.13 ('base')",
   "language": "python",
   "name": "python3"
  },
  "language_info": {
   "codemirror_mode": {
    "name": "ipython",
    "version": 3
   },
   "file_extension": ".py",
   "mimetype": "text/x-python",
   "name": "python",
   "nbconvert_exporter": "python",
   "pygments_lexer": "ipython3",
   "version": "3.9.13"
  },
  "vscode": {
   "interpreter": {
    "hash": "8b6a09c6c881074955117e125c5183f144e2c1816a788965e3262d942faf08f4"
   }
  }
 },
 "nbformat": 4,
 "nbformat_minor": 1
}
