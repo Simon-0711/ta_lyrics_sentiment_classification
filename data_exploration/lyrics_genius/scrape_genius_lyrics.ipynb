{
 "cells": [
  {
   "cell_type": "code",
   "execution_count": null,
   "metadata": {},
   "outputs": [],
   "source": [
    "import lyricsgenius as genius\n",
    "import time\n",
    "import os"
   ]
  },
  {
   "cell_type": "markdown",
   "metadata": {},
   "source": [
    "### Lastfm template"
   ]
  },
  {
   "cell_type": "code",
   "execution_count": null,
   "metadata": {},
   "outputs": [],
   "source": [
    "def lastfm_get(payload):\n",
    "    # define headers and URL\n",
    "    headers = {'user-agent': USER_AGENT}\n",
    "    url = 'https://ws.audioscrobbler.com/2.0/'\n",
    "\n",
    "    # Add API key and format to the payload\n",
    "    payload['api_key'] = API_KEY\n",
    "    payload['format'] = 'json'\n",
    "\n",
    "    response = requests.get(url, headers=headers, params=payload)\n",
    "    return response\n",
    "\n",
    "def lookup_tags_for_artist_song(row):\n",
    "    artist, song = row[\"Artist\"], row[\"SName\"]\n",
    "    \n",
    "    response = lastfm_get({\n",
    "        'method': 'track.getTopTags',\n",
    "        'artist':  artist,\n",
    "        'track': song\n",
    "    })\n",
    "\n",
    "    # if there's an error, just return nothing\n",
    "    if response.status_code != 200 or \"error\" in response.text:\n",
    "        return \"NoSongFound\"\n",
    "\n",
    "    # extract the top tags and turn them into a string\n",
    "    tags = [t['name'] for t in response.json()['toptags']['tag']]\n",
    "    tags_str = ', '.join(tags)\n",
    "    if tags_str == \"\":\n",
    "        tags_str =\"NoTagsFound\" \n",
    "    # TODO: Could later also look at track tag count\n",
    "\n",
    "    # rate limiting\n",
    "    if not getattr(response, 'from_cache', False):\n",
    "        # TODO: Can I reduce the time?\n",
    "        time.sleep(0.25)\n",
    "    return tags_str\n",
    "\n",
    "tqdm.pandas()\n",
    "\n",
    "artists_songs_dataframe['Tags'] = artists_songs_dataframe[[\"Artist\", \"SName\"]].progress_apply(lambda row: lookup_tags_for_artist_song(row), axis=1)\n",
    "\n",
    "# Save df\n",
    "artists_songs_dataframe.to_csv('data/tags_first_third.csv', index=False)"
   ]
  },
  {
   "cell_type": "markdown",
   "metadata": {},
   "source": [
    "## Download lyrics from Genius"
   ]
  },
  {
   "cell_type": "code",
   "execution_count": null,
   "metadata": {},
   "outputs": [],
   "source": [
    "LYRICS_DIR = os.path(\"../data/genius_lyrics\")"
   ]
  },
  {
   "cell_type": "code",
   "execution_count": null,
   "metadata": {},
   "outputs": [],
   "source": [
    "# TODO: Add this function to python module file\n",
    "def scrape_lyrics(song_name, artist_name):\n",
    "    # TODO: Change the docstring depending on decision below\n",
    "    \"\"\"Scrape lyrcis on Genius and returns the lyrics.\n",
    "\n",
    "    :param song_name: song name of the lyrics we want to scrape.\n",
    "    :param artist_name: artist name of the lyrics we want to scrape.\n",
    "    \n",
    "    :return: Lyrics of given song and artist name.\n",
    "    :rtype: String or None\n",
    "    \"\"\"\n",
    "\n",
    "    api_token = \"TQdTzth8QuovVPC3AWrU4EPADP2v2mil2_TXw0xWA-50wmFgsK8-04UWD6vRRLkR\"\n",
    "\n",
    "    api = genius.Genius(client_access_token=api_token, verbose=False)\n",
    "\n",
    "    # Search for song\n",
    "    song = api.search_song(song_name, artist_name)\n",
    "\n",
    "    if song is not None:\n",
    "        # save_lyrics function: https://github.com/johnwmillr/LyricsGenius/blob/master/lyricsgenius/song.py\n",
    "        # TODO: Compare json and txt format\n",
    "        print(\"Song found.\")\n",
    "        # TODO: Make saving lyrics optional? Add bool parameter and format parameter? \n",
    "        song.save_lyrics(filename=f\"{LYRICS_DIR}/{song_name}_{artist_name}.json\",\n",
    "                            overwrite=True, verbose=False, format_='json')\n",
    "        song.save_lyrics(filename=f\"{LYRICS_DIR}/{song_name}_{artist_name}.txt\",\n",
    "                            overwrite=True, verbose=False, format_='txt')\n",
    "        #TODO: Return lyrics\n",
    "        \n",
    "    else:\n",
    "        print(\"Song not found.\")\n",
    "        return None"
   ]
  },
  {
   "cell_type": "code",
   "execution_count": null,
   "metadata": {},
   "outputs": [],
   "source": [
    "scrape_lyrics(\"Eminem\", \"Mockingbird\")"
   ]
  }
 ],
 "metadata": {
  "kernelspec": {
   "display_name": "Python 3.9.13 ('base')",
   "language": "python",
   "name": "python3"
  },
  "language_info": {
   "name": "python",
   "version": "3.9.13"
  },
  "orig_nbformat": 4,
  "vscode": {
   "interpreter": {
    "hash": "8b6a09c6c881074955117e125c5183f144e2c1816a788965e3262d942faf08f4"
   }
  }
 },
 "nbformat": 4,
 "nbformat_minor": 2
}
