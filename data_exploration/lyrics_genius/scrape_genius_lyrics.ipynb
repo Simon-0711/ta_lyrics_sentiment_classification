{
 "cells": [
  {
   "cell_type": "code",
   "execution_count": 15,
   "metadata": {},
   "outputs": [],
   "source": [
    "import scrape_genius_lyrics as sgl"
   ]
  },
  {
   "cell_type": "markdown",
   "metadata": {},
   "source": [
    "## Scrape lyrics from Genius"
   ]
  },
  {
   "cell_type": "code",
   "execution_count": 16,
   "metadata": {},
   "outputs": [
    {
     "name": "stdout",
     "output_type": "stream",
     "text": [
      "Searching for \"Eminem\" by Mockingbird...\n",
      "Done.\n",
      "Song found.\n"
     ]
    },
    {
     "data": {
      "text/plain": [
       "\"TranslationsTürkçePortuguêsItalianoDeutschFrançaisEnglishMockingbird Lyrics[Intro]\\nYeah\\nI know sometimes\\nThings may not always make sense to you right now\\nBut ayy\\nWhat'd Daddy always tell you?\\nStraighten up, little soldier, stiffen up that upper lip\\nWhat you cryin' about?\\nYou got me\\n\\n[Verse 1]\\nHailie, I know you miss your Mom, and I know you miss your Dad\\nWhen I'm gone, but I'm tryna give you the life that I never had\\nI can see you're sad, even when you smile, even when you laugh\\nI can see it in your eyes, deep inside you wanna cry\\n'Cause you're scared, I ain't there, Daddy's witchu in your prayers\\nNo more cryin', wipe them tears, Daddy's here, no more nightmares\\nWe gon' pull together through it, we gon' do it\\nLainie—Uncle's crazy, ain't he? Yeah, but he loves you, girl, and you better know it\\nWe're all we got in this world when it spins, when it swirls\\nWhen it whirls, when it twirls, two little beautiful girls\\nLookin' puzzled, in a daze, I know it's confusin' you\\nDaddy's always on the move, Momma's always on the news\\nI try to keep you sheltered from it, but somehow it seems\\nThe harder that I try to do that, the more it backfires on me\\nAll the things growin' up as Daddy that he had to see\\nDaddy don't want you to see, but you see just as much as he did\\nWe did not plan it to be this way, your mother and me\\nBut things have got so bad between us, I don't see us ever bein'\\nTogether ever again, like we used to be when we was teenagers\\nBut then, of course, everything always happens for a reason\\nI guess it was never meant to be, but it's just something\\nWe have no control over, and that's what destiny is\\nBut no more worries, rest your head and go to sleep\\nMaybe one day we'll wake up and this'll all just be a dream\\n[Chorus 1]\\nNow hush, little baby, don't you cry\\nEverything's gonna be alright\\nStiffen that upper lip up, little lady, I told ya\\nDaddy's here to hold ya through the night\\nI know Mommy's not here right now, and we don't know why\\nWe fear how we feel inside\\nIt may seem a little crazy, pretty baby\\nBut I promise Momma's gon' be alright\\n\\n[Verse 2]\\nHeh, it's funny\\nI remember back one year when Daddy had no money\\nMommy wrapped the Christmas presents up and stuck 'em under the tree\\nAnd said some of 'em were from me 'cause Daddy couldn't buy 'em\\nI'll never forget that Christmas, I sat up the whole night cryin'\\n'Cause Daddy felt like a bum—see, Daddy had a job but his job\\nWas to keep the food on the table for you and Mom and at the time\\nEvery house that we lived in either kept gettin'\\nBroken into and robbed or shot up on the block and your Mom\\nWas savin' money for you in a jar\\nTryna start a piggy bank for you so you could go to college\\nAlmost had a thousand dollars, 'til someone broke in and stole it\\nAnd I know it hurts so bad it broke your Momma's heart\\nAnd it seemed like everything was just startin' to fall apart\\nMom and Dad was arguin' a lot, so Momma moved back\\nOn to Chalmers in the flat, one-bedroom apartment\\nAnd Dad moved back to the other side of 8 Mile on Novara\\nAnd that's when Daddy went to California with his CD\\nAnd met Dr. Dre  and flew you and Momma out to see me\\nBut Daddy had to work, you and Momma had to leave me\\nThen you started seein' Daddy on the TV, and Momma didn't like it\\nAnd you and Lainie were too young to understand it\\nPapa was a rolling stone, Momma developed a habit\\nAnd it all happened too fast for either one of us to grab it\\nI'm just sorry you were there and had to witness it firsthand\\n'Cause all I ever wanted to do was just make you proud\\nNow I'm sittin' in this empty house just reminiscin'\\nLookin' at your baby pictures, it just trips me out\\nTo see how much you both have grown, it's almost like you're sisters now\\nWow, guess you pretty much are, and Daddy's still here\\nLainie, I'm talkin' to you too, Daddy's still here\\nI like the sound of that, yeah, it's got a ring to it, don't it?\\nShh! Momma's only gone for the moment\\nYou might also like[Chorus 2]\\nNow hush, little baby, don't you cry\\nEverything's gonna be alright\\nStiffen that upper lip up, little lady, I told ya\\nDaddy's here to hold ya through the night\\nI know Mommy's not here right now, and we don't know why\\nWe fear how we feel inside\\nIt may seem a little crazy, pretty baby\\nBut I promise, momma's gon' be alright\\nAnd if you ask me to, Daddy's gonna buy you a mockingbird\\nI'ma give you the world, I'ma buy a diamond ring for you\\nI'ma sing for you, I'll do anything for you to see you smile\\nAnd if that mockingbird don't sing and that ring don't shine\\nI'ma break that birdie's neck\\nI'll go back to the jeweler who sold it to ya\\nAnd make him eat every carat\\nDon't fuck with Dad! (Haha)389Embed\""
      ]
     },
     "execution_count": 16,
     "metadata": {},
     "output_type": "execute_result"
    }
   ],
   "source": [
    "sgl.scrape_lyrics(\"Eminem\", \"Mockingbird\")"
   ]
  }
 ],
 "metadata": {
  "kernelspec": {
   "display_name": "Python 3.9.13 ('base')",
   "language": "python",
   "name": "python3"
  },
  "language_info": {
   "codemirror_mode": {
    "name": "ipython",
    "version": 3
   },
   "file_extension": ".py",
   "mimetype": "text/x-python",
   "name": "python",
   "nbconvert_exporter": "python",
   "pygments_lexer": "ipython3",
   "version": "3.9.13"
  },
  "orig_nbformat": 4,
  "vscode": {
   "interpreter": {
    "hash": "8b6a09c6c881074955117e125c5183f144e2c1816a788965e3262d942faf08f4"
   }
  }
 },
 "nbformat": 4,
 "nbformat_minor": 2
}
